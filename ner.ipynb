{
  "cells": [
    {
      "cell_type": "markdown",
      "id": "fb74845a",
      "metadata": {
        "id": "fb74845a"
      },
      "source": [
        "# AutoMM for Named Entity Recognition - Quick Start\n",
        "\n",
        "[![Open In Colab](https://colab.research.google.com/assets/colab-badge.svg)](https://colab.research.google.com/github/autogluon/autogluon/blob/stable/docs/tutorials/multimodal/text_prediction/ner.ipynb)\n",
        "[![Open In SageMaker Studio Lab](https://studiolab.sagemaker.aws/studiolab.svg)](https://studiolab.sagemaker.aws/import/github/autogluon/autogluon/blob/stable/docs/tutorials/multimodal/text_prediction/ner.ipynb)\n",
        "\n",
        "Named entity recognition (NER) refers to identifying and categorizing key information (entities) from unstructured text. An entity can be a word or a series of words which correspond to categories such as cities, time expressions, monetary values, facilities, person, organization, etc. An NER model usually takes as input an unannotated block of text and output an annotated block of text that highlights the named entities with predefined categories. For example, given the following sentences,\n",
        "\n",
        "- Albert Einstein was born in Germany and is widely acknowledged to be one of the greatest physicists.\n",
        "\n",
        "The model will tell you that \"Albert Einstein\" is a PERSON and \"Germany\" is a LOCATION. In the following, we will introduce how to use AutoMM for the NER task, including how to prepare your data, how to train your model, and what you can expect from the model outputs.\n",
        "\n",
        "\n",
        "## Prepare Your Data\n",
        "Like other tasks in AutoMM, all you need to do is to prepare your data as data tables (i.e., dataframes) which contain a text column and an annotation column. The text column stores the raw textual data which contains the entities you want to identify. Correspondingly, the annotation column stores the label information (e.g., the *category* and the *start/end* offset in character level) for the entities. AutoMM requires the *annotation column* to\n",
        "have the following json format (Note: do not forget to call json.dumps() to convert python objects into a json string before creating your dataframe)."
      ]
    },
    {
      "cell_type": "code",
      "execution_count": 1,
      "id": "aa00faab-252f-44c9-b8f7-57131aa8251c",
      "metadata": {
        "id": "aa00faab-252f-44c9-b8f7-57131aa8251c",
        "tags": [
          "remove-cell"
        ]
      },
      "outputs": [
        {
          "name": "stdout",
          "output_type": "stream",
          "text": [
            "Requirement already satisfied: autogluon.multimodal in c:\\users\\anthony\\appdata\\local\\programs\\python\\python310\\lib\\site-packages (1.1.1)\n",
            "Requirement already satisfied: numpy<1.29,>=1.21 in c:\\users\\anthony\\appdata\\local\\programs\\python\\python310\\lib\\site-packages (from autogluon.multimodal) (1.23.5)\n",
            "Requirement already satisfied: scipy<1.13,>=1.5.4 in c:\\users\\anthony\\appdata\\local\\programs\\python\\python310\\lib\\site-packages (from autogluon.multimodal) (1.10.1)\n",
            "Requirement already satisfied: pandas<2.3.0,>=2.0.0 in c:\\users\\anthony\\appdata\\local\\programs\\python\\python310\\lib\\site-packages (from autogluon.multimodal) (2.0.3)\n",
            "Requirement already satisfied: scikit-learn<1.4.1,>=1.3.0 in c:\\users\\anthony\\appdata\\local\\programs\\python\\python310\\lib\\site-packages (from autogluon.multimodal) (1.4.0)\n",
            "Requirement already satisfied: Pillow<11,>=10.0.1 in c:\\users\\anthony\\appdata\\local\\programs\\python\\python310\\lib\\site-packages (from autogluon.multimodal) (10.4.0)\n",
            "Requirement already satisfied: tqdm<5,>=4.38 in c:\\users\\anthony\\appdata\\local\\programs\\python\\python310\\lib\\site-packages (from autogluon.multimodal) (4.66.5)\n",
            "Requirement already satisfied: boto3<2,>=1.10 in c:\\users\\anthony\\appdata\\local\\programs\\python\\python310\\lib\\site-packages (from autogluon.multimodal) (1.35.24)\n",
            "Requirement already satisfied: torch<2.4,>=2.2 in c:\\users\\anthony\\appdata\\local\\programs\\python\\python310\\lib\\site-packages (from autogluon.multimodal) (2.3.1)\n",
            "Requirement already satisfied: lightning<2.4,>=2.2 in c:\\users\\anthony\\appdata\\local\\programs\\python\\python310\\lib\\site-packages (from autogluon.multimodal) (2.3.3)\n",
            "Requirement already satisfied: transformers<4.41.0,>=4.38.0 in c:\\users\\anthony\\appdata\\local\\programs\\python\\python310\\lib\\site-packages (from transformers[sentencepiece]<4.41.0,>=4.38.0->autogluon.multimodal) (4.40.2)\n",
            "Requirement already satisfied: accelerate<0.22.0,>=0.21.0 in c:\\users\\anthony\\appdata\\local\\programs\\python\\python310\\lib\\site-packages (from autogluon.multimodal) (0.21.0)\n",
            "Requirement already satisfied: requests<3,>=2.21 in c:\\users\\anthony\\appdata\\local\\programs\\python\\python310\\lib\\site-packages (from autogluon.multimodal) (2.32.3)\n",
            "Requirement already satisfied: jsonschema<4.22,>=4.18 in c:\\users\\anthony\\appdata\\local\\programs\\python\\python310\\lib\\site-packages (from autogluon.multimodal) (4.21.1)\n",
            "Requirement already satisfied: seqeval<1.3.0,>=1.2.2 in c:\\users\\anthony\\appdata\\local\\programs\\python\\python310\\lib\\site-packages (from autogluon.multimodal) (1.2.2)\n",
            "Requirement already satisfied: evaluate<0.5.0,>=0.4.0 in c:\\users\\anthony\\appdata\\local\\programs\\python\\python310\\lib\\site-packages (from autogluon.multimodal) (0.4.3)\n",
            "Requirement already satisfied: timm<0.10.0,>=0.9.5 in c:\\users\\anthony\\appdata\\local\\programs\\python\\python310\\lib\\site-packages (from autogluon.multimodal) (0.9.16)\n",
            "Requirement already satisfied: torchvision<0.19.0,>=0.16.0 in c:\\users\\anthony\\appdata\\local\\programs\\python\\python310\\lib\\site-packages (from autogluon.multimodal) (0.18.1)\n",
            "Requirement already satisfied: scikit-image<0.21.0,>=0.19.1 in c:\\users\\anthony\\appdata\\local\\programs\\python\\python310\\lib\\site-packages (from autogluon.multimodal) (0.20.0)\n",
            "Requirement already satisfied: text-unidecode<1.4,>=1.3 in c:\\users\\anthony\\appdata\\local\\programs\\python\\python310\\lib\\site-packages (from autogluon.multimodal) (1.3)\n",
            "Requirement already satisfied: torchmetrics<1.3.0,>=1.2.0 in c:\\users\\anthony\\appdata\\local\\programs\\python\\python310\\lib\\site-packages (from autogluon.multimodal) (1.2.1)\n",
            "Requirement already satisfied: nptyping<2.5.0,>=1.4.4 in c:\\users\\anthony\\appdata\\local\\programs\\python\\python310\\lib\\site-packages (from autogluon.multimodal) (2.4.1)\n",
            "Requirement already satisfied: omegaconf<2.3.0,>=2.1.1 in c:\\users\\anthony\\appdata\\local\\programs\\python\\python310\\lib\\site-packages (from autogluon.multimodal) (2.2.3)\n",
            "Requirement already satisfied: autogluon.core==1.1.1 in c:\\users\\anthony\\appdata\\local\\programs\\python\\python310\\lib\\site-packages (from autogluon.core[raytune]==1.1.1->autogluon.multimodal) (1.1.1)\n",
            "Requirement already satisfied: autogluon.features==1.1.1 in c:\\users\\anthony\\appdata\\local\\programs\\python\\python310\\lib\\site-packages (from autogluon.multimodal) (1.1.1)\n",
            "Requirement already satisfied: autogluon.common==1.1.1 in c:\\users\\anthony\\appdata\\local\\programs\\python\\python310\\lib\\site-packages (from autogluon.multimodal) (1.1.1)\n",
            "Requirement already satisfied: pytorch-metric-learning<2.4,>=1.3.0 in c:\\users\\anthony\\appdata\\local\\programs\\python\\python310\\lib\\site-packages (from autogluon.multimodal) (2.3.0)\n",
            "Requirement already satisfied: nlpaug<1.2.0,>=1.1.10 in c:\\users\\anthony\\appdata\\local\\programs\\python\\python310\\lib\\site-packages (from autogluon.multimodal) (1.1.11)\n",
            "Requirement already satisfied: nltk<4.0.0,>=3.4.5 in c:\\users\\anthony\\appdata\\local\\programs\\python\\python310\\lib\\site-packages (from autogluon.multimodal) (3.9.1)\n",
            "Requirement already satisfied: openmim<0.4.0,>=0.3.7 in c:\\users\\anthony\\appdata\\local\\programs\\python\\python310\\lib\\site-packages (from autogluon.multimodal) (0.3.9)\n",
            "Requirement already satisfied: defusedxml<0.7.2,>=0.7.1 in c:\\users\\anthony\\appdata\\local\\programs\\python\\python310\\lib\\site-packages (from autogluon.multimodal) (0.7.1)\n",
            "Requirement already satisfied: jinja2<3.2,>=3.0.3 in c:\\users\\anthony\\appdata\\local\\programs\\python\\python310\\lib\\site-packages (from autogluon.multimodal) (3.1.2)\n",
            "Requirement already satisfied: tensorboard<3,>=2.9 in c:\\users\\anthony\\appdata\\local\\programs\\python\\python310\\lib\\site-packages (from autogluon.multimodal) (2.15.2)\n",
            "Requirement already satisfied: pytesseract<0.3.11,>=0.3.9 in c:\\users\\anthony\\appdata\\local\\programs\\python\\python310\\lib\\site-packages (from autogluon.multimodal) (0.3.10)\n",
            "Requirement already satisfied: nvidia-ml-py3==7.352.0 in c:\\users\\anthony\\appdata\\local\\programs\\python\\python310\\lib\\site-packages (from autogluon.multimodal) (7.352.0)\n",
            "Requirement already satisfied: pdf2image<1.19,>=1.17.0 in c:\\users\\anthony\\appdata\\local\\programs\\python\\python310\\lib\\site-packages (from autogluon.multimodal) (1.17.0)\n",
            "Requirement already satisfied: psutil<6,>=5.7.3 in c:\\users\\anthony\\appdata\\roaming\\python\\python310\\site-packages (from autogluon.common==1.1.1->autogluon.multimodal) (5.9.5)\n",
            "Requirement already satisfied: setuptools in c:\\users\\anthony\\appdata\\local\\programs\\python\\python310\\lib\\site-packages (from autogluon.common==1.1.1->autogluon.multimodal) (75.1.0)\n",
            "Requirement already satisfied: networkx<4,>=3.0 in c:\\users\\anthony\\appdata\\local\\programs\\python\\python310\\lib\\site-packages (from autogluon.core==1.1.1->autogluon.core[raytune]==1.1.1->autogluon.multimodal) (3.3)\n",
            "Requirement already satisfied: matplotlib in c:\\users\\anthony\\appdata\\local\\programs\\python\\python310\\lib\\site-packages (from autogluon.core==1.1.1->autogluon.core[raytune]==1.1.1->autogluon.multimodal) (3.7.1)\n",
            "Requirement already satisfied: ray<2.11,>=2.10.0 in c:\\users\\anthony\\appdata\\local\\programs\\python\\python310\\lib\\site-packages (from ray[default,tune]<2.11,>=2.10.0; extra == \"raytune\"->autogluon.core[raytune]==1.1.1->autogluon.multimodal) (2.10.0)\n",
            "Requirement already satisfied: hyperopt<0.2.8,>=0.2.7 in c:\\users\\anthony\\appdata\\local\\programs\\python\\python310\\lib\\site-packages (from autogluon.core[raytune]==1.1.1->autogluon.multimodal) (0.2.7)\n",
            "Requirement already satisfied: packaging>=20.0 in c:\\users\\anthony\\appdata\\local\\programs\\python\\python310\\lib\\site-packages (from accelerate<0.22.0,>=0.21.0->autogluon.multimodal) (24.1)\n",
            "Requirement already satisfied: pyyaml in c:\\users\\anthony\\appdata\\local\\programs\\python\\python310\\lib\\site-packages (from accelerate<0.22.0,>=0.21.0->autogluon.multimodal) (6.0.2)\n",
            "Requirement already satisfied: botocore<1.36.0,>=1.35.24 in c:\\users\\anthony\\appdata\\local\\programs\\python\\python310\\lib\\site-packages (from boto3<2,>=1.10->autogluon.multimodal) (1.35.24)\n",
            "Requirement already satisfied: jmespath<2.0.0,>=0.7.1 in c:\\users\\anthony\\appdata\\local\\programs\\python\\python310\\lib\\site-packages (from boto3<2,>=1.10->autogluon.multimodal) (1.0.1)\n",
            "Requirement already satisfied: s3transfer<0.11.0,>=0.10.0 in c:\\users\\anthony\\appdata\\local\\programs\\python\\python310\\lib\\site-packages (from boto3<2,>=1.10->autogluon.multimodal) (0.10.2)\n",
            "Requirement already satisfied: datasets>=2.0.0 in c:\\users\\anthony\\appdata\\local\\programs\\python\\python310\\lib\\site-packages (from evaluate<0.5.0,>=0.4.0->autogluon.multimodal) (3.0.1)\n",
            "Requirement already satisfied: dill in c:\\users\\anthony\\appdata\\local\\programs\\python\\python310\\lib\\site-packages (from evaluate<0.5.0,>=0.4.0->autogluon.multimodal) (0.3.8)\n",
            "Requirement already satisfied: xxhash in c:\\users\\anthony\\appdata\\local\\programs\\python\\python310\\lib\\site-packages (from evaluate<0.5.0,>=0.4.0->autogluon.multimodal) (3.5.0)\n",
            "Requirement already satisfied: multiprocess in c:\\users\\anthony\\appdata\\local\\programs\\python\\python310\\lib\\site-packages (from evaluate<0.5.0,>=0.4.0->autogluon.multimodal) (0.70.16)\n",
            "Requirement already satisfied: fsspec>=2021.05.0 in c:\\users\\anthony\\appdata\\local\\programs\\python\\python310\\lib\\site-packages (from fsspec[http]>=2021.05.0->evaluate<0.5.0,>=0.4.0->autogluon.multimodal) (2024.6.1)\n",
            "Requirement already satisfied: huggingface-hub>=0.7.0 in c:\\users\\anthony\\appdata\\local\\programs\\python\\python310\\lib\\site-packages (from evaluate<0.5.0,>=0.4.0->autogluon.multimodal) (0.25.0)\n",
            "Requirement already satisfied: MarkupSafe>=2.0 in c:\\users\\anthony\\appdata\\local\\programs\\python\\python310\\lib\\site-packages (from jinja2<3.2,>=3.0.3->autogluon.multimodal) (2.1.5)\n",
            "Requirement already satisfied: attrs>=22.2.0 in c:\\users\\anthony\\appdata\\local\\programs\\python\\python310\\lib\\site-packages (from jsonschema<4.22,>=4.18->autogluon.multimodal) (24.2.0)\n",
            "Requirement already satisfied: jsonschema-specifications>=2023.03.6 in c:\\users\\anthony\\appdata\\local\\programs\\python\\python310\\lib\\site-packages (from jsonschema<4.22,>=4.18->autogluon.multimodal) (2023.12.1)\n",
            "Requirement already satisfied: referencing>=0.28.4 in c:\\users\\anthony\\appdata\\local\\programs\\python\\python310\\lib\\site-packages (from jsonschema<4.22,>=4.18->autogluon.multimodal) (0.35.1)\n",
            "Requirement already satisfied: rpds-py>=0.7.1 in c:\\users\\anthony\\appdata\\local\\programs\\python\\python310\\lib\\site-packages (from jsonschema<4.22,>=4.18->autogluon.multimodal) (0.20.0)\n",
            "Requirement already satisfied: lightning-utilities<2.0,>=0.10.0 in c:\\users\\anthony\\appdata\\local\\programs\\python\\python310\\lib\\site-packages (from lightning<2.4,>=2.2->autogluon.multimodal) (0.11.7)\n",
            "Requirement already satisfied: typing-extensions<6.0,>=4.4.0 in c:\\users\\anthony\\appdata\\local\\programs\\python\\python310\\lib\\site-packages (from lightning<2.4,>=2.2->autogluon.multimodal) (4.12.2)\n",
            "Requirement already satisfied: pytorch-lightning in c:\\users\\anthony\\appdata\\local\\programs\\python\\python310\\lib\\site-packages (from lightning<2.4,>=2.2->autogluon.multimodal) (2.4.0)\n",
            "Requirement already satisfied: gdown>=4.0.0 in c:\\users\\anthony\\appdata\\local\\programs\\python\\python310\\lib\\site-packages (from nlpaug<1.2.0,>=1.1.10->autogluon.multimodal) (5.2.0)\n",
            "Requirement already satisfied: click in c:\\users\\anthony\\appdata\\local\\programs\\python\\python310\\lib\\site-packages (from nltk<4.0.0,>=3.4.5->autogluon.multimodal) (8.1.3)\n",
            "Requirement already satisfied: joblib in c:\\users\\anthony\\appdata\\local\\programs\\python\\python310\\lib\\site-packages (from nltk<4.0.0,>=3.4.5->autogluon.multimodal) (1.2.0)\n",
            "Requirement already satisfied: regex>=2021.8.3 in c:\\users\\anthony\\appdata\\local\\programs\\python\\python310\\lib\\site-packages (from nltk<4.0.0,>=3.4.5->autogluon.multimodal) (2024.9.11)\n",
            "Requirement already satisfied: antlr4-python3-runtime==4.9.* in c:\\users\\anthony\\appdata\\local\\programs\\python\\python310\\lib\\site-packages (from omegaconf<2.3.0,>=2.1.1->autogluon.multimodal) (4.9.3)\n",
            "Requirement already satisfied: colorama in c:\\users\\anthony\\appdata\\local\\programs\\python\\python310\\lib\\site-packages (from openmim<0.4.0,>=0.3.7->autogluon.multimodal) (0.4.6)\n",
            "Requirement already satisfied: model-index in c:\\users\\anthony\\appdata\\local\\programs\\python\\python310\\lib\\site-packages (from openmim<0.4.0,>=0.3.7->autogluon.multimodal) (0.1.11)\n",
            "Requirement already satisfied: opendatalab in c:\\users\\anthony\\appdata\\local\\programs\\python\\python310\\lib\\site-packages (from openmim<0.4.0,>=0.3.7->autogluon.multimodal) (0.0.10)\n",
            "Requirement already satisfied: pip>=19.3 in c:\\users\\anthony\\appdata\\local\\programs\\python\\python310\\lib\\site-packages (from openmim<0.4.0,>=0.3.7->autogluon.multimodal) (24.2)\n",
            "Requirement already satisfied: rich in c:\\users\\anthony\\appdata\\local\\programs\\python\\python310\\lib\\site-packages (from openmim<0.4.0,>=0.3.7->autogluon.multimodal) (13.8.1)\n",
            "Requirement already satisfied: tabulate in c:\\users\\anthony\\appdata\\local\\programs\\python\\python310\\lib\\site-packages (from openmim<0.4.0,>=0.3.7->autogluon.multimodal) (0.9.0)\n",
            "Requirement already satisfied: python-dateutil>=2.8.2 in c:\\users\\anthony\\appdata\\local\\programs\\python\\python310\\lib\\site-packages (from pandas<2.3.0,>=2.0.0->autogluon.multimodal) (2.8.2)\n",
            "Requirement already satisfied: pytz>=2020.1 in c:\\users\\anthony\\appdata\\local\\programs\\python\\python310\\lib\\site-packages (from pandas<2.3.0,>=2.0.0->autogluon.multimodal) (2023.3)\n",
            "Requirement already satisfied: tzdata>=2022.1 in c:\\users\\anthony\\appdata\\local\\programs\\python\\python310\\lib\\site-packages (from pandas<2.3.0,>=2.0.0->autogluon.multimodal) (2023.3)\n",
            "Requirement already satisfied: charset-normalizer<4,>=2 in c:\\users\\anthony\\appdata\\local\\programs\\python\\python310\\lib\\site-packages (from requests<3,>=2.21->autogluon.multimodal) (3.3.2)\n",
            "Requirement already satisfied: idna<4,>=2.5 in c:\\users\\anthony\\appdata\\local\\programs\\python\\python310\\lib\\site-packages (from requests<3,>=2.21->autogluon.multimodal) (3.10)\n",
            "Requirement already satisfied: urllib3<3,>=1.21.1 in c:\\users\\anthony\\appdata\\local\\programs\\python\\python310\\lib\\site-packages (from requests<3,>=2.21->autogluon.multimodal) (2.2.3)\n",
            "Requirement already satisfied: certifi>=2017.4.17 in c:\\users\\anthony\\appdata\\local\\programs\\python\\python310\\lib\\site-packages (from requests<3,>=2.21->autogluon.multimodal) (2024.8.30)\n",
            "Requirement already satisfied: imageio>=2.4.1 in c:\\users\\anthony\\appdata\\local\\programs\\python\\python310\\lib\\site-packages (from scikit-image<0.21.0,>=0.19.1->autogluon.multimodal) (2.35.1)\n",
            "Requirement already satisfied: tifffile>=2019.7.26 in c:\\users\\anthony\\appdata\\local\\programs\\python\\python310\\lib\\site-packages (from scikit-image<0.21.0,>=0.19.1->autogluon.multimodal) (2024.9.20)\n",
            "Requirement already satisfied: PyWavelets>=1.1.1 in c:\\users\\anthony\\appdata\\local\\programs\\python\\python310\\lib\\site-packages (from scikit-image<0.21.0,>=0.19.1->autogluon.multimodal) (1.7.0)\n",
            "Requirement already satisfied: lazy_loader>=0.1 in c:\\users\\anthony\\appdata\\local\\programs\\python\\python310\\lib\\site-packages (from scikit-image<0.21.0,>=0.19.1->autogluon.multimodal) (0.4)\n",
            "Requirement already satisfied: threadpoolctl>=2.0.0 in c:\\users\\anthony\\appdata\\local\\programs\\python\\python310\\lib\\site-packages (from scikit-learn<1.4.1,>=1.3.0->autogluon.multimodal) (3.1.0)\n",
            "Requirement already satisfied: absl-py>=0.4 in c:\\users\\anthony\\appdata\\local\\programs\\python\\python310\\lib\\site-packages (from tensorboard<3,>=2.9->autogluon.multimodal) (2.1.0)\n",
            "Requirement already satisfied: grpcio>=1.48.2 in c:\\users\\anthony\\appdata\\local\\programs\\python\\python310\\lib\\site-packages (from tensorboard<3,>=2.9->autogluon.multimodal) (1.66.1)\n",
            "Requirement already satisfied: google-auth<3,>=1.6.3 in c:\\users\\anthony\\appdata\\local\\programs\\python\\python310\\lib\\site-packages (from tensorboard<3,>=2.9->autogluon.multimodal) (2.35.0)\n",
            "Requirement already satisfied: google-auth-oauthlib<2,>=0.5 in c:\\users\\anthony\\appdata\\local\\programs\\python\\python310\\lib\\site-packages (from tensorboard<3,>=2.9->autogluon.multimodal) (1.2.1)\n",
            "Requirement already satisfied: markdown>=2.6.8 in c:\\users\\anthony\\appdata\\local\\programs\\python\\python310\\lib\\site-packages (from tensorboard<3,>=2.9->autogluon.multimodal) (3.7)\n",
            "Requirement already satisfied: protobuf!=4.24.0,>=3.19.6 in c:\\users\\anthony\\appdata\\local\\programs\\python\\python310\\lib\\site-packages (from tensorboard<3,>=2.9->autogluon.multimodal) (4.25.5)\n",
            "Requirement already satisfied: six>1.9 in c:\\users\\anthony\\appdata\\local\\programs\\python\\python310\\lib\\site-packages (from tensorboard<3,>=2.9->autogluon.multimodal) (1.16.0)\n",
            "Requirement already satisfied: tensorboard-data-server<0.8.0,>=0.7.0 in c:\\users\\anthony\\appdata\\local\\programs\\python\\python310\\lib\\site-packages (from tensorboard<3,>=2.9->autogluon.multimodal) (0.7.2)\n",
            "Requirement already satisfied: werkzeug>=1.0.1 in c:\\users\\anthony\\appdata\\local\\programs\\python\\python310\\lib\\site-packages (from tensorboard<3,>=2.9->autogluon.multimodal) (3.0.4)\n",
            "Requirement already satisfied: safetensors in c:\\users\\anthony\\appdata\\local\\programs\\python\\python310\\lib\\site-packages (from timm<0.10.0,>=0.9.5->autogluon.multimodal) (0.4.5)\n",
            "Requirement already satisfied: filelock in c:\\users\\anthony\\appdata\\local\\programs\\python\\python310\\lib\\site-packages (from torch<2.4,>=2.2->autogluon.multimodal) (3.12.0)\n",
            "Requirement already satisfied: sympy in c:\\users\\anthony\\appdata\\local\\programs\\python\\python310\\lib\\site-packages (from torch<2.4,>=2.2->autogluon.multimodal) (1.13.3)\n",
            "Requirement already satisfied: mkl<=2021.4.0,>=2021.1.1 in c:\\users\\anthony\\appdata\\local\\programs\\python\\python310\\lib\\site-packages (from torch<2.4,>=2.2->autogluon.multimodal) (2021.4.0)\n",
            "Requirement already satisfied: tokenizers<0.20,>=0.19 in c:\\users\\anthony\\appdata\\local\\programs\\python\\python310\\lib\\site-packages (from transformers<4.41.0,>=4.38.0->transformers[sentencepiece]<4.41.0,>=4.38.0->autogluon.multimodal) (0.19.1)\n",
            "Requirement already satisfied: sentencepiece!=0.1.92,>=0.1.91 in c:\\users\\anthony\\appdata\\local\\programs\\python\\python310\\lib\\site-packages (from transformers[sentencepiece]<4.41.0,>=4.38.0->autogluon.multimodal) (0.2.0)\n",
            "Requirement already satisfied: pyarrow>=15.0.0 in c:\\users\\anthony\\appdata\\local\\programs\\python\\python310\\lib\\site-packages (from datasets>=2.0.0->evaluate<0.5.0,>=0.4.0->autogluon.multimodal) (17.0.0)\n",
            "Requirement already satisfied: aiohttp in c:\\users\\anthony\\appdata\\local\\programs\\python\\python310\\lib\\site-packages (from datasets>=2.0.0->evaluate<0.5.0,>=0.4.0->autogluon.multimodal) (3.10.7)\n",
            "Requirement already satisfied: beautifulsoup4 in c:\\users\\anthony\\appdata\\local\\programs\\python\\python310\\lib\\site-packages (from gdown>=4.0.0->nlpaug<1.2.0,>=1.1.10->autogluon.multimodal) (4.12.3)\n",
            "Requirement already satisfied: cachetools<6.0,>=2.0.0 in c:\\users\\anthony\\appdata\\local\\programs\\python\\python310\\lib\\site-packages (from google-auth<3,>=1.6.3->tensorboard<3,>=2.9->autogluon.multimodal) (5.3.0)\n",
            "Requirement already satisfied: pyasn1-modules>=0.2.1 in c:\\users\\anthony\\appdata\\local\\programs\\python\\python310\\lib\\site-packages (from google-auth<3,>=1.6.3->tensorboard<3,>=2.9->autogluon.multimodal) (0.3.0)\n",
            "Requirement already satisfied: rsa<5,>=3.1.4 in c:\\users\\anthony\\appdata\\local\\programs\\python\\python310\\lib\\site-packages (from google-auth<3,>=1.6.3->tensorboard<3,>=2.9->autogluon.multimodal) (4.9)\n",
            "Requirement already satisfied: requests-oauthlib>=0.7.0 in c:\\users\\anthony\\appdata\\local\\programs\\python\\python310\\lib\\site-packages (from google-auth-oauthlib<2,>=0.5->tensorboard<3,>=2.9->autogluon.multimodal) (1.3.1)\n",
            "Requirement already satisfied: future in c:\\users\\anthony\\appdata\\local\\programs\\python\\python310\\lib\\site-packages (from hyperopt<0.2.8,>=0.2.7->autogluon.core[raytune]==1.1.1->autogluon.multimodal) (1.0.0)\n",
            "Requirement already satisfied: cloudpickle in c:\\users\\anthony\\appdata\\local\\programs\\python\\python310\\lib\\site-packages (from hyperopt<0.2.8,>=0.2.7->autogluon.core[raytune]==1.1.1->autogluon.multimodal) (3.0.0)\n",
            "Requirement already satisfied: py4j in c:\\users\\anthony\\appdata\\local\\programs\\python\\python310\\lib\\site-packages (from hyperopt<0.2.8,>=0.2.7->autogluon.core[raytune]==1.1.1->autogluon.multimodal) (0.10.9.7)\n",
            "Requirement already satisfied: intel-openmp==2021.* in c:\\users\\anthony\\appdata\\local\\programs\\python\\python310\\lib\\site-packages (from mkl<=2021.4.0,>=2021.1.1->torch<2.4,>=2.2->autogluon.multimodal) (2021.4.0)\n",
            "Requirement already satisfied: tbb==2021.* in c:\\users\\anthony\\appdata\\local\\programs\\python\\python310\\lib\\site-packages (from mkl<=2021.4.0,>=2021.1.1->torch<2.4,>=2.2->autogluon.multimodal) (2021.13.1)\n",
            "Requirement already satisfied: msgpack<2.0.0,>=1.0.0 in c:\\users\\anthony\\appdata\\local\\programs\\python\\python310\\lib\\site-packages (from ray<2.11,>=2.10.0->ray[default,tune]<2.11,>=2.10.0; extra == \"raytune\"->autogluon.core[raytune]==1.1.1->autogluon.multimodal) (1.1.0)\n",
            "Requirement already satisfied: aiosignal in c:\\users\\anthony\\appdata\\local\\programs\\python\\python310\\lib\\site-packages (from ray<2.11,>=2.10.0->ray[default,tune]<2.11,>=2.10.0; extra == \"raytune\"->autogluon.core[raytune]==1.1.1->autogluon.multimodal) (1.3.1)\n",
            "Requirement already satisfied: frozenlist in c:\\users\\anthony\\appdata\\local\\programs\\python\\python310\\lib\\site-packages (from ray<2.11,>=2.10.0->ray[default,tune]<2.11,>=2.10.0; extra == \"raytune\"->autogluon.core[raytune]==1.1.1->autogluon.multimodal) (1.4.1)\n",
            "Requirement already satisfied: aiohttp-cors in c:\\users\\anthony\\appdata\\local\\programs\\python\\python310\\lib\\site-packages (from ray[default,tune]<2.11,>=2.10.0; extra == \"raytune\"->autogluon.core[raytune]==1.1.1->autogluon.multimodal) (0.7.0)\n",
            "Requirement already satisfied: colorful in c:\\users\\anthony\\appdata\\local\\programs\\python\\python310\\lib\\site-packages (from ray[default,tune]<2.11,>=2.10.0; extra == \"raytune\"->autogluon.core[raytune]==1.1.1->autogluon.multimodal) (0.5.6)\n",
            "Requirement already satisfied: py-spy>=0.2.0 in c:\\users\\anthony\\appdata\\local\\programs\\python\\python310\\lib\\site-packages (from ray[default,tune]<2.11,>=2.10.0; extra == \"raytune\"->autogluon.core[raytune]==1.1.1->autogluon.multimodal) (0.3.14)\n",
            "Requirement already satisfied: opencensus in c:\\users\\anthony\\appdata\\local\\programs\\python\\python310\\lib\\site-packages (from ray[default,tune]<2.11,>=2.10.0; extra == \"raytune\"->autogluon.core[raytune]==1.1.1->autogluon.multimodal) (0.11.4)\n",
            "Requirement already satisfied: pydantic!=2.0.*,!=2.1.*,!=2.2.*,!=2.3.*,!=2.4.*,<3 in c:\\users\\anthony\\appdata\\local\\programs\\python\\python310\\lib\\site-packages (from ray[default,tune]<2.11,>=2.10.0; extra == \"raytune\"->autogluon.core[raytune]==1.1.1->autogluon.multimodal) (2.9.2)\n",
            "Requirement already satisfied: prometheus-client>=0.7.1 in c:\\users\\anthony\\appdata\\local\\programs\\python\\python310\\lib\\site-packages (from ray[default,tune]<2.11,>=2.10.0; extra == \"raytune\"->autogluon.core[raytune]==1.1.1->autogluon.multimodal) (0.21.0)\n",
            "Requirement already satisfied: smart-open in c:\\users\\anthony\\appdata\\local\\programs\\python\\python310\\lib\\site-packages (from ray[default,tune]<2.11,>=2.10.0; extra == \"raytune\"->autogluon.core[raytune]==1.1.1->autogluon.multimodal) (7.0.4)\n",
            "Requirement already satisfied: virtualenv!=20.21.1,>=20.0.24 in c:\\users\\anthony\\appdata\\local\\programs\\python\\python310\\lib\\site-packages (from ray[default,tune]<2.11,>=2.10.0; extra == \"raytune\"->autogluon.core[raytune]==1.1.1->autogluon.multimodal) (20.23.0)\n",
            "Requirement already satisfied: tensorboardX>=1.9 in c:\\users\\anthony\\appdata\\local\\programs\\python\\python310\\lib\\site-packages (from ray[default,tune]<2.11,>=2.10.0; extra == \"raytune\"->autogluon.core[raytune]==1.1.1->autogluon.multimodal) (2.6.2.2)\n",
            "Requirement already satisfied: contourpy>=1.0.1 in c:\\users\\anthony\\appdata\\local\\programs\\python\\python310\\lib\\site-packages (from matplotlib->autogluon.core==1.1.1->autogluon.core[raytune]==1.1.1->autogluon.multimodal) (1.0.7)\n",
            "Requirement already satisfied: cycler>=0.10 in c:\\users\\anthony\\appdata\\local\\programs\\python\\python310\\lib\\site-packages (from matplotlib->autogluon.core==1.1.1->autogluon.core[raytune]==1.1.1->autogluon.multimodal) (0.11.0)\n",
            "Requirement already satisfied: fonttools>=4.22.0 in c:\\users\\anthony\\appdata\\local\\programs\\python\\python310\\lib\\site-packages (from matplotlib->autogluon.core==1.1.1->autogluon.core[raytune]==1.1.1->autogluon.multimodal) (4.39.4)\n",
            "Requirement already satisfied: kiwisolver>=1.0.1 in c:\\users\\anthony\\appdata\\local\\programs\\python\\python310\\lib\\site-packages (from matplotlib->autogluon.core==1.1.1->autogluon.core[raytune]==1.1.1->autogluon.multimodal) (1.4.4)\n",
            "Requirement already satisfied: pyparsing>=2.3.1 in c:\\users\\anthony\\appdata\\local\\programs\\python\\python310\\lib\\site-packages (from matplotlib->autogluon.core==1.1.1->autogluon.core[raytune]==1.1.1->autogluon.multimodal) (3.0.9)\n",
            "Requirement already satisfied: ordered-set in c:\\users\\anthony\\appdata\\local\\programs\\python\\python310\\lib\\site-packages (from model-index->openmim<0.4.0,>=0.3.7->autogluon.multimodal) (4.1.0)\n",
            "Requirement already satisfied: pycryptodome in c:\\users\\anthony\\appdata\\local\\programs\\python\\python310\\lib\\site-packages (from opendatalab->openmim<0.4.0,>=0.3.7->autogluon.multimodal) (3.20.0)\n",
            "Requirement already satisfied: openxlab in c:\\users\\anthony\\appdata\\local\\programs\\python\\python310\\lib\\site-packages (from opendatalab->openmim<0.4.0,>=0.3.7->autogluon.multimodal) (0.0.11)\n",
            "Requirement already satisfied: pywin32 in c:\\users\\anthony\\appdata\\roaming\\python\\python310\\site-packages (from opendatalab->openmim<0.4.0,>=0.3.7->autogluon.multimodal) (306)\n",
            "Requirement already satisfied: markdown-it-py>=2.2.0 in c:\\users\\anthony\\appdata\\local\\programs\\python\\python310\\lib\\site-packages (from rich->openmim<0.4.0,>=0.3.7->autogluon.multimodal) (3.0.0)\n",
            "Requirement already satisfied: pygments<3.0.0,>=2.13.0 in c:\\users\\anthony\\appdata\\local\\programs\\python\\python310\\lib\\site-packages (from rich->openmim<0.4.0,>=0.3.7->autogluon.multimodal) (2.18.0)\n",
            "Requirement already satisfied: mpmath<1.4,>=1.1.0 in c:\\users\\anthony\\appdata\\local\\programs\\python\\python310\\lib\\site-packages (from sympy->torch<2.4,>=2.2->autogluon.multimodal) (1.3.0)\n",
            "Requirement already satisfied: aiohappyeyeballs>=2.3.0 in c:\\users\\anthony\\appdata\\local\\programs\\python\\python310\\lib\\site-packages (from aiohttp->datasets>=2.0.0->evaluate<0.5.0,>=0.4.0->autogluon.multimodal) (2.4.2)\n",
            "Requirement already satisfied: multidict<7.0,>=4.5 in c:\\users\\anthony\\appdata\\local\\programs\\python\\python310\\lib\\site-packages (from aiohttp->datasets>=2.0.0->evaluate<0.5.0,>=0.4.0->autogluon.multimodal) (6.1.0)\n",
            "Requirement already satisfied: yarl<2.0,>=1.12.0 in c:\\users\\anthony\\appdata\\local\\programs\\python\\python310\\lib\\site-packages (from aiohttp->datasets>=2.0.0->evaluate<0.5.0,>=0.4.0->autogluon.multimodal) (1.13.1)\n",
            "Requirement already satisfied: async-timeout<5.0,>=4.0 in c:\\users\\anthony\\appdata\\local\\programs\\python\\python310\\lib\\site-packages (from aiohttp->datasets>=2.0.0->evaluate<0.5.0,>=0.4.0->autogluon.multimodal) (4.0.3)\n",
            "Requirement already satisfied: mdurl~=0.1 in c:\\users\\anthony\\appdata\\local\\programs\\python\\python310\\lib\\site-packages (from markdown-it-py>=2.2.0->rich->openmim<0.4.0,>=0.3.7->autogluon.multimodal) (0.1.2)\n",
            "Requirement already satisfied: pyasn1<0.6.0,>=0.4.6 in c:\\users\\anthony\\appdata\\local\\programs\\python\\python310\\lib\\site-packages (from pyasn1-modules>=0.2.1->google-auth<3,>=1.6.3->tensorboard<3,>=2.9->autogluon.multimodal) (0.5.0)\n",
            "Requirement already satisfied: annotated-types>=0.6.0 in c:\\users\\anthony\\appdata\\local\\programs\\python\\python310\\lib\\site-packages (from pydantic!=2.0.*,!=2.1.*,!=2.2.*,!=2.3.*,!=2.4.*,<3->ray[default,tune]<2.11,>=2.10.0; extra == \"raytune\"->autogluon.core[raytune]==1.1.1->autogluon.multimodal) (0.7.0)\n",
            "Requirement already satisfied: pydantic-core==2.23.4 in c:\\users\\anthony\\appdata\\local\\programs\\python\\python310\\lib\\site-packages (from pydantic!=2.0.*,!=2.1.*,!=2.2.*,!=2.3.*,!=2.4.*,<3->ray[default,tune]<2.11,>=2.10.0; extra == \"raytune\"->autogluon.core[raytune]==1.1.1->autogluon.multimodal) (2.23.4)\n",
            "Requirement already satisfied: oauthlib>=3.0.0 in c:\\users\\anthony\\appdata\\local\\programs\\python\\python310\\lib\\site-packages (from requests-oauthlib>=0.7.0->google-auth-oauthlib<2,>=0.5->tensorboard<3,>=2.9->autogluon.multimodal) (3.2.2)\n",
            "Requirement already satisfied: distlib<1,>=0.3.6 in c:\\users\\anthony\\appdata\\local\\programs\\python\\python310\\lib\\site-packages (from virtualenv!=20.21.1,>=20.0.24->ray[default,tune]<2.11,>=2.10.0; extra == \"raytune\"->autogluon.core[raytune]==1.1.1->autogluon.multimodal) (0.3.6)\n",
            "Requirement already satisfied: platformdirs<4,>=3.2 in c:\\users\\anthony\\appdata\\local\\programs\\python\\python310\\lib\\site-packages (from virtualenv!=20.21.1,>=20.0.24->ray[default,tune]<2.11,>=2.10.0; extra == \"raytune\"->autogluon.core[raytune]==1.1.1->autogluon.multimodal) (3.5.1)\n",
            "Requirement already satisfied: soupsieve>1.2 in c:\\users\\anthony\\appdata\\local\\programs\\python\\python310\\lib\\site-packages (from beautifulsoup4->gdown>=4.0.0->nlpaug<1.2.0,>=1.1.10->autogluon.multimodal) (2.6)\n",
            "Requirement already satisfied: opencensus-context>=0.1.3 in c:\\users\\anthony\\appdata\\local\\programs\\python\\python310\\lib\\site-packages (from opencensus->ray[default,tune]<2.11,>=2.10.0; extra == \"raytune\"->autogluon.core[raytune]==1.1.1->autogluon.multimodal) (0.1.3)\n",
            "Requirement already satisfied: google-api-core<3.0.0,>=1.0.0 in c:\\users\\anthony\\appdata\\local\\programs\\python\\python310\\lib\\site-packages (from opencensus->ray[default,tune]<2.11,>=2.10.0; extra == \"raytune\"->autogluon.core[raytune]==1.1.1->autogluon.multimodal) (2.20.0)\n",
            "Requirement already satisfied: PySocks!=1.5.7,>=1.5.6 in c:\\users\\anthony\\appdata\\local\\programs\\python\\python310\\lib\\site-packages (from requests[socks]->gdown>=4.0.0->nlpaug<1.2.0,>=1.1.10->autogluon.multimodal) (1.7.1)\n",
            "Requirement already satisfied: wrapt in c:\\users\\anthony\\appdata\\local\\programs\\python\\python310\\lib\\site-packages (from smart-open->ray[default,tune]<2.11,>=2.10.0; extra == \"raytune\"->autogluon.core[raytune]==1.1.1->autogluon.multimodal) (1.14.1)\n",
            "Requirement already satisfied: googleapis-common-protos<2.0.dev0,>=1.56.2 in c:\\users\\anthony\\appdata\\local\\programs\\python\\python310\\lib\\site-packages (from google-api-core<3.0.0,>=1.0.0->opencensus->ray[default,tune]<2.11,>=2.10.0; extra == \"raytune\"->autogluon.core[raytune]==1.1.1->autogluon.multimodal) (1.65.0)\n",
            "Requirement already satisfied: proto-plus<2.0.0dev,>=1.22.3 in c:\\users\\anthony\\appdata\\local\\programs\\python\\python310\\lib\\site-packages (from google-api-core<3.0.0,>=1.0.0->opencensus->ray[default,tune]<2.11,>=2.10.0; extra == \"raytune\"->autogluon.core[raytune]==1.1.1->autogluon.multimodal) (1.24.0)\n"
          ]
        }
      ],
      "source": [
        "!pip install autogluon.multimodal\n"
      ]
    },
    {
      "cell_type": "code",
      "execution_count": 2,
      "id": "9e219933",
      "metadata": {
        "id": "9e219933"
      },
      "outputs": [
        {
          "data": {
            "text/plain": [
              "'[{\"entity_group\": \"PERSON\", \"start\": 0, \"end\": 15}, {\"entity_group\": \"LOCATION\", \"start\": 28, \"end\": 35}]'"
            ]
          },
          "execution_count": 2,
          "metadata": {},
          "output_type": "execute_result"
        }
      ],
      "source": [
        "import json\n",
        "json.dumps([\n",
        "    {\"entity_group\": \"PERSON\", \"start\": 0, \"end\": 15},\n",
        "    {\"entity_group\": \"LOCATION\", \"start\": 28, \"end\": 35}\n",
        "])"
      ]
    },
    {
      "cell_type": "markdown",
      "id": "e8610436",
      "metadata": {
        "id": "e8610436"
      },
      "source": [
        "where **entity_group** is the category of the entity and **start** is a character-level position indicating where the entity begins while **end** represents the ending position of the entity. To make sure that AutoMM can recognise your json annotations, it is required to use the exactly same keys/properties (entity_group, start, end) specified above when constructing your data. You can annote \"Albert Einstein\" as a single entity group or you can also assign each word a label.\n",
        "\n",
        "Following is an example of visualizing the annotations with the `visualize_ner` utility."
      ]
    },
    {
      "cell_type": "code",
      "execution_count": 3,
      "id": "b1444c6a",
      "metadata": {
        "id": "b1444c6a"
      },
      "outputs": [
        {
          "name": "stdout",
          "output_type": "stream",
          "text": [
            "WARNING:tensorflow:From c:\\Users\\Anthony\\AppData\\Local\\Programs\\Python\\Python310\\lib\\site-packages\\keras\\src\\losses.py:2976: The name tf.losses.sparse_softmax_cross_entropy is deprecated. Please use tf.compat.v1.losses.sparse_softmax_cross_entropy instead.\n",
            "\n"
          ]
        },
        {
          "data": {
            "text/html": [
              "<mark style=\"background-color:#7F0AAC; color:white; border-radius: .6em .6em; padding: .1em;\">Albert Einstein          <b style=\"background-color:white; color:black; font-size:x-small; border-radius: 0.5em .5em; padding: .0em;\">PERSON </b>          </mark> was born in <mark style=\"background-color:#C4AA2F; color:white; border-radius: .6em .6em; padding: .1em;\">Germany          <b style=\"background-color:white; color:black; font-size:x-small; border-radius: 0.5em .5em; padding: .0em;\">LOCATION </b>          </mark> and is widely acknowledged to be one of the greatest physicists."
            ],
            "text/plain": [
              "<autogluon.multimodal.utils.visualizer.NERVisualizer at 0x1dd2804be80>"
            ]
          },
          "execution_count": 3,
          "metadata": {},
          "output_type": "execute_result"
        }
      ],
      "source": [
        "from autogluon.multimodal.utils import visualize_ner\n",
        "\n",
        "sentence = \"Albert Einstein was born in Germany and is widely acknowledged to be one of the greatest physicists.\"\n",
        "annotation = [{\"entity_group\": \"PERSON\", \"start\": 0, \"end\": 15},\n",
        "              {\"entity_group\": \"LOCATION\", \"start\": 28, \"end\": 35}]\n",
        "\n",
        "visualize_ner(sentence, annotation)"
      ]
    },
    {
      "cell_type": "markdown",
      "id": "b55f14bd",
      "metadata": {
        "id": "b55f14bd"
      },
      "source": [
        "If you are already familiar with the NER task, you probably have heard about the [BIO](https://en.wikipedia.org/wiki/Inside%E2%80%93outside%E2%80%93beginning_(tagging)) (Benginning-Inside-Outside) format. You can adopt this format (which is not compulsory) to add an *I-prefix* or a *B-prefix* to each tag to indicate wether the tag is the beginning of the annotated chunk or inside the chunk. For example, you can annotate \"Albert\" as \"B-PERSON\" because it is the beginning of the name and \"Einstein\" as \"I-PERSON\" as it is inside the PERSON chunk. You do not need to worry about the *O* tags, an *O* tag indicates that a word belongs to no chunk, as AutoMM will take care of that automatically.\n",
        "\n",
        "Now, let's look at an example dataset. This dataset is converted from the [MIT movies corpus](https://groups.csail.mit.edu/sls/downloads/movie/) which provides annotations on entity groups such as actor, character, director, genre, song, title, trailer, year, etc."
      ]
    },
    {
      "cell_type": "code",
      "execution_count": 4,
      "id": "ab2692f3",
      "metadata": {
        "id": "ab2692f3"
      },
      "outputs": [
        {
          "data": {
            "text/html": [
              "<div>\n",
              "<style scoped>\n",
              "    .dataframe tbody tr th:only-of-type {\n",
              "        vertical-align: middle;\n",
              "    }\n",
              "\n",
              "    .dataframe tbody tr th {\n",
              "        vertical-align: top;\n",
              "    }\n",
              "\n",
              "    .dataframe thead th {\n",
              "        text-align: right;\n",
              "    }\n",
              "</style>\n",
              "<table border=\"1\" class=\"dataframe\">\n",
              "  <thead>\n",
              "    <tr style=\"text-align: right;\">\n",
              "      <th></th>\n",
              "      <th>text_snippet</th>\n",
              "      <th>entity_annotations</th>\n",
              "    </tr>\n",
              "  </thead>\n",
              "  <tbody>\n",
              "    <tr>\n",
              "      <th>0</th>\n",
              "      <td>what movies star bruce willis</td>\n",
              "      <td>[{\"entity_group\": \"ACTOR\", \"start\": 17, \"end\":...</td>\n",
              "    </tr>\n",
              "    <tr>\n",
              "      <th>1</th>\n",
              "      <td>show me films with drew barrymore from the 1980s</td>\n",
              "      <td>[{\"entity_group\": \"ACTOR\", \"start\": 19, \"end\":...</td>\n",
              "    </tr>\n",
              "    <tr>\n",
              "      <th>2</th>\n",
              "      <td>what movies starred both al pacino and robert ...</td>\n",
              "      <td>[{\"entity_group\": \"ACTOR\", \"start\": 25, \"end\":...</td>\n",
              "    </tr>\n",
              "    <tr>\n",
              "      <th>3</th>\n",
              "      <td>find me all of the movies that starred harold ...</td>\n",
              "      <td>[{\"entity_group\": \"ACTOR\", \"start\": 39, \"end\":...</td>\n",
              "    </tr>\n",
              "    <tr>\n",
              "      <th>4</th>\n",
              "      <td>find me a movie with a quote about baseball in it</td>\n",
              "      <td>[]</td>\n",
              "    </tr>\n",
              "  </tbody>\n",
              "</table>\n",
              "</div>"
            ],
            "text/plain": [
              "                                        text_snippet  \\\n",
              "0                      what movies star bruce willis   \n",
              "1   show me films with drew barrymore from the 1980s   \n",
              "2  what movies starred both al pacino and robert ...   \n",
              "3  find me all of the movies that starred harold ...   \n",
              "4  find me a movie with a quote about baseball in it   \n",
              "\n",
              "                                  entity_annotations  \n",
              "0  [{\"entity_group\": \"ACTOR\", \"start\": 17, \"end\":...  \n",
              "1  [{\"entity_group\": \"ACTOR\", \"start\": 19, \"end\":...  \n",
              "2  [{\"entity_group\": \"ACTOR\", \"start\": 25, \"end\":...  \n",
              "3  [{\"entity_group\": \"ACTOR\", \"start\": 39, \"end\":...  \n",
              "4                                                 []  "
            ]
          },
          "execution_count": 4,
          "metadata": {},
          "output_type": "execute_result"
        }
      ],
      "source": [
        "from autogluon.core.utils.loaders import load_pd\n",
        "train_data = load_pd.load('https://automl-mm-bench.s3.amazonaws.com/ner/mit-movies/train_v2.csv')\n",
        "test_data = load_pd.load('https://automl-mm-bench.s3.amazonaws.com/ner/mit-movies/test_v2.csv')\n",
        "train_data.head(5)"
      ]
    },
    {
      "cell_type": "markdown",
      "id": "ec113582",
      "metadata": {
        "id": "ec113582"
      },
      "source": [
        "Let's print a row."
      ]
    },
    {
      "cell_type": "code",
      "execution_count": 5,
      "id": "690433a5",
      "metadata": {
        "id": "690433a5"
      },
      "outputs": [
        {
          "name": "stdout",
          "output_type": "stream",
          "text": [
            "text_snippet: show me films with drew barrymore from the 1980s\n",
            "entity_annotations: [{\"entity_group\": \"ACTOR\", \"start\": 19, \"end\": 33}, {\"entity_group\": \"YEAR\", \"start\": 43, \"end\": 48}]\n"
          ]
        },
        {
          "data": {
            "text/html": [
              "show me films with <mark style=\"background-color:#7F0AAC; color:white; border-radius: .6em .6em; padding: .1em;\">drew barrymore          <b style=\"background-color:white; color:black; font-size:x-small; border-radius: 0.5em .5em; padding: .0em;\">ACTOR </b>          </mark> from the <mark style=\"background-color:#C4AA2F; color:white; border-radius: .6em .6em; padding: .1em;\">1980s          <b style=\"background-color:white; color:black; font-size:x-small; border-radius: 0.5em .5em; padding: .0em;\">YEAR </b>          </mark>"
            ],
            "text/plain": [
              "<autogluon.multimodal.utils.visualizer.NERVisualizer at 0x1dd2804aef0>"
            ]
          },
          "execution_count": 5,
          "metadata": {},
          "output_type": "execute_result"
        }
      ],
      "source": [
        "print(f\"text_snippet: {train_data['text_snippet'][1]}\")\n",
        "print(f\"entity_annotations: {train_data['entity_annotations'][1]}\")\n",
        "visualize_ner(train_data['text_snippet'][1], train_data['entity_annotations'][1])"
      ]
    },
    {
      "cell_type": "markdown",
      "id": "8e0083ff",
      "metadata": {
        "id": "8e0083ff"
      },
      "source": [
        "## Training\n",
        "Now, let's create a predictor for named entity recognition by setting the *problem_type* to **ner** and specifying the label column. Afterwards, we call predictor.fit() to train the model for five minutes. To achieve reasonable performance in your applications, you are recommended to set a longer enough time_limit (e.g., 30/60 minutes). You can also specify your backbone model and other hyperparameters using the hyperparameters argument. Here, we save the model to the directory `\"automm_ner\"`. For the purpose of demonstration, we use the lightweighted `'google/electra-small-discriminator'` backbone."
      ]
    },
    {
      "cell_type": "code",
      "execution_count": 6,
      "id": "c9ea587f",
      "metadata": {
        "id": "c9ea587f"
      },
      "outputs": [
        {
          "name": "stderr",
          "output_type": "stream",
          "text": [
            "=================== System Info ===================\n",
            "AutoGluon Version:  1.1.1\n",
            "Python Version:     3.10.11\n",
            "Operating System:   Windows\n",
            "Platform Machine:   AMD64\n",
            "Platform Version:   10.0.22631\n",
            "CPU Count:          24\n",
            "Pytorch Version:    2.3.1+cpu\n",
            "CUDA Version:       CUDA is not available\n",
            "Memory Avail:       8.59 GB / 31.91 GB (26.9%)\n",
            "Disk Space Avail:   58.49 GB / 464.51 GB (12.6%)\n",
            "===================================================\n",
            "\n",
            "AutoMM starts to create your model. ✨✨✨\n",
            "\n",
            "To track the learning progress, you can open a terminal and launch Tensorboard:\n",
            "    ```shell\n",
            "    # Assume you have installed tensorboard\n",
            "    tensorboard --logdir c:\\Users\\Anthony\\Desktop\\Grad School\\CMPE 255\\Notebooks\\tmp\\396d3b35d035427db323c477beb70620-automm_ner\n",
            "    ```\n",
            "\n",
            "Seed set to 0\n",
            "c:\\Users\\Anthony\\AppData\\Local\\Programs\\Python\\Python310\\lib\\site-packages\\huggingface_hub\\file_download.py:1142: FutureWarning: `resume_download` is deprecated and will be removed in version 1.0.0. Downloads always resume when possible. If you want to force a new download, use `force_download=True`.\n",
            "  warnings.warn(\n"
          ]
        },
        {
          "data": {
            "application/vnd.jupyter.widget-view+json": {
              "model_id": "bcd8634ea2fd4d5ba5324f72edf5b3bd",
              "version_major": 2,
              "version_minor": 0
            },
            "text/plain": [
              "config.json:   0%|          | 0.00/665 [00:00<?, ?B/s]"
            ]
          },
          "metadata": {},
          "output_type": "display_data"
        },
        {
          "name": "stderr",
          "output_type": "stream",
          "text": [
            "c:\\Users\\Anthony\\AppData\\Local\\Programs\\Python\\Python310\\lib\\site-packages\\huggingface_hub\\file_download.py:147: UserWarning: `huggingface_hub` cache-system uses symlinks by default to efficiently store duplicated files but your machine does not support them in C:\\Users\\Anthony\\.cache\\huggingface\\hub\\models--google--electra-small-discriminator. Caching files will still work but in a degraded version that might require more space on your disk. This warning can be disabled by setting the `HF_HUB_DISABLE_SYMLINKS_WARNING` environment variable. For more details, see https://huggingface.co/docs/huggingface_hub/how-to-cache#limitations.\n",
            "To support symlinks on Windows, you either need to activate Developer Mode or to run Python as an administrator. In order to activate developer mode, see this article: https://docs.microsoft.com/en-us/windows/apps/get-started/enable-your-device-for-development\n",
            "  warnings.warn(message)\n"
          ]
        },
        {
          "data": {
            "application/vnd.jupyter.widget-view+json": {
              "model_id": "3f432ee22846405fb174ce64983add01",
              "version_major": 2,
              "version_minor": 0
            },
            "text/plain": [
              "pytorch_model.bin:   0%|          | 0.00/54.2M [00:00<?, ?B/s]"
            ]
          },
          "metadata": {},
          "output_type": "display_data"
        },
        {
          "data": {
            "application/vnd.jupyter.widget-view+json": {
              "model_id": "b4aab2add21c43d1bd0fe7f54a6626c1",
              "version_major": 2,
              "version_minor": 0
            },
            "text/plain": [
              "tokenizer_config.json:   0%|          | 0.00/48.0 [00:00<?, ?B/s]"
            ]
          },
          "metadata": {},
          "output_type": "display_data"
        },
        {
          "data": {
            "application/vnd.jupyter.widget-view+json": {
              "model_id": "af4563676057483b8dcc6e2da888d4ae",
              "version_major": 2,
              "version_minor": 0
            },
            "text/plain": [
              "vocab.txt:   0%|          | 0.00/232k [00:00<?, ?B/s]"
            ]
          },
          "metadata": {},
          "output_type": "display_data"
        },
        {
          "data": {
            "application/vnd.jupyter.widget-view+json": {
              "model_id": "f969b4934fa641558eeb9e82e6559c9f",
              "version_major": 2,
              "version_minor": 0
            },
            "text/plain": [
              "tokenizer.json:   0%|          | 0.00/466k [00:00<?, ?B/s]"
            ]
          },
          "metadata": {},
          "output_type": "display_data"
        },
        {
          "name": "stderr",
          "output_type": "stream",
          "text": [
            "GPU Count: 0\n",
            "GPU Count to be Used: 0\n",
            "\n",
            "c:\\Users\\Anthony\\AppData\\Local\\Programs\\Python\\Python310\\lib\\site-packages\\autogluon\\multimodal\\utils\\environment.py:131: UserWarning: Only CPU is detected in the instance. This may result in slow speed for MultiModalPredictor. Consider using an instance with GPU support.\n",
            "  warnings.warn(\n",
            "GPU available: False, used: False\n",
            "TPU available: False, using: 0 TPU cores\n",
            "HPU available: False, using: 0 HPUs\n",
            "\n",
            "  | Name              | Type              | Params | Mode \n",
            "----------------------------------------------------------------\n",
            "0 | model             | HFAutoModelForNER | 13.5 M | train\n",
            "1 | validation_metric | MulticlassF1Score | 0      | train\n",
            "2 | loss_func         | CrossEntropyLoss  | 0      | train\n",
            "----------------------------------------------------------------\n",
            "13.5 M    Trainable params\n",
            "0         Non-trainable params\n",
            "13.5 M    Total params\n",
            "53.959    Total estimated model params size (MB)\n"
          ]
        },
        {
          "data": {
            "application/vnd.jupyter.widget-view+json": {
              "model_id": "cda085587c874682a3f2b4f0921de817",
              "version_major": 2,
              "version_minor": 0
            },
            "text/plain": [
              "Sanity Checking: |          | 0/? [00:00<?, ?it/s]"
            ]
          },
          "metadata": {},
          "output_type": "display_data"
        },
        {
          "data": {
            "application/vnd.jupyter.widget-view+json": {
              "model_id": "9b52a763eaf94186b63f945029c61bfa",
              "version_major": 2,
              "version_minor": 0
            },
            "text/plain": [
              "Training: |          | 0/? [00:00<?, ?it/s]"
            ]
          },
          "metadata": {},
          "output_type": "display_data"
        },
        {
          "name": "stderr",
          "output_type": "stream",
          "text": [
            "Time limit reached. Elapsed time is 0:05:00. Signaling Trainer to stop.\n"
          ]
        },
        {
          "data": {
            "application/vnd.jupyter.widget-view+json": {
              "model_id": "40dede1ee3a84f39bd48ccd29fce5d1e",
              "version_major": 2,
              "version_minor": 0
            },
            "text/plain": [
              "Validation: |          | 0/? [00:00<?, ?it/s]"
            ]
          },
          "metadata": {},
          "output_type": "display_data"
        },
        {
          "name": "stderr",
          "output_type": "stream",
          "text": [
            "Epoch 0, global step 3: 'val_ner_token_f1' reached 0.05172 (best 0.05172), saving model to 'C:\\\\Users\\\\Anthony\\\\Desktop\\\\Grad School\\\\CMPE 255\\\\Notebooks\\\\tmp\\\\396d3b35d035427db323c477beb70620-automm_ner\\\\epoch=0-step=3.ckpt' as top 3\n",
            "AutoMM has created your model. 🎉🎉🎉\n",
            "\n",
            "To load the model, use the code below:\n",
            "    ```python\n",
            "    from autogluon.multimodal import MultiModalPredictor\n",
            "    predictor = MultiModalPredictor.load(\"c:\\Users\\Anthony\\Desktop\\Grad School\\CMPE 255\\Notebooks\\tmp\\396d3b35d035427db323c477beb70620-automm_ner\")\n",
            "    ```\n",
            "\n",
            "If you are not satisfied with the model, try to increase the training time, \n",
            "adjust the hyperparameters (https://auto.gluon.ai/stable/tutorials/multimodal/advanced_topics/customization.html),\n",
            "or post issues on GitHub (https://github.com/autogluon/autogluon/issues).\n",
            "\n",
            "\n"
          ]
        },
        {
          "data": {
            "text/plain": [
              "<autogluon.multimodal.predictor.MultiModalPredictor at 0x1dd817bcd00>"
            ]
          },
          "execution_count": 6,
          "metadata": {},
          "output_type": "execute_result"
        }
      ],
      "source": [
        "from autogluon.multimodal import MultiModalPredictor\n",
        "import uuid\n",
        "\n",
        "label_col = \"entity_annotations\"\n",
        "model_path = f\"./tmp/{uuid.uuid4().hex}-automm_ner\"  # You can rename it to the model path you like\n",
        "predictor = MultiModalPredictor(problem_type=\"ner\", label=label_col, path=model_path)\n",
        "predictor.fit(\n",
        "    train_data=train_data,\n",
        "    hyperparameters={'model.ner_text.checkpoint_name':'google/electra-small-discriminator'},\n",
        "    time_limit=300, #second\n",
        ")"
      ]
    },
    {
      "cell_type": "markdown",
      "id": "688d33e4",
      "metadata": {
        "id": "688d33e4"
      },
      "source": [
        "## Evaluation\n",
        "Evaluation is also straightforward, we use [seqeval](https://huggingface.co/spaces/evaluate-metric/seqeval) for NER evaluation and the supported metrics are *overall_recall*, *overall_precision*, *overall_f1*, *overall_accuracy*. If you are interested in seeing the performance on a specific entity group, you can use the entity group name as the evaluation metric with which you will obtain the performances (precision, recall, f1) on the given entity group:"
      ]
    },
    {
      "cell_type": "code",
      "execution_count": 7,
      "id": "48ddcf77",
      "metadata": {
        "id": "48ddcf77"
      },
      "outputs": [
        {
          "data": {
            "application/vnd.jupyter.widget-view+json": {
              "model_id": "b6df9640496a48419e2e1e34d846e0c9",
              "version_major": 2,
              "version_minor": 0
            },
            "text/plain": [
              "Predicting: |          | 0/? [00:00<?, ?it/s]"
            ]
          },
          "metadata": {},
          "output_type": "display_data"
        },
        {
          "data": {
            "application/vnd.jupyter.widget-view+json": {
              "model_id": "2af59b1b92b244e692ba986a4c55a78c",
              "version_major": 2,
              "version_minor": 0
            },
            "text/plain": [
              "Downloading builder script:   0%|          | 0.00/6.34k [00:00<?, ?B/s]"
            ]
          },
          "metadata": {},
          "output_type": "display_data"
        },
        {
          "data": {
            "text/plain": [
              "{'overall_recall': 0.05412998688893051,\n",
              " 'overall_precision': 0.013758628897881457,\n",
              " 'overall_f1': 0.021940479805648345,\n",
              " 'actor': {'precision': 0.002789400278940028,\n",
              "  'recall': 0.012315270935960592,\n",
              "  'f1': 0.004548555833522856,\n",
              "  'number': 812}}"
            ]
          },
          "execution_count": 7,
          "metadata": {},
          "output_type": "execute_result"
        }
      ],
      "source": [
        "predictor.evaluate(test_data,  metrics=['overall_recall', \"overall_precision\", \"overall_f1\", \"actor\"])"
      ]
    },
    {
      "cell_type": "markdown",
      "id": "8e721276",
      "metadata": {
        "id": "8e721276"
      },
      "source": [
        "## Prediction + Visualization\n",
        "You can easily obtain the predictions given an input sentence by by calling predictor.predict(). If you are running the code in a Jupyter notebook, you can also easily visualize the predictions using the `visualize_ner` function which will highlight the named entities and their labels in a text."
      ]
    },
    {
      "cell_type": "code",
      "execution_count": 8,
      "id": "10ccaa80",
      "metadata": {
        "id": "10ccaa80"
      },
      "outputs": [
        {
          "data": {
            "application/vnd.jupyter.widget-view+json": {
              "model_id": "82c6767bbe54435da897aabc57ea0a4f",
              "version_major": 2,
              "version_minor": 0
            },
            "text/plain": [
              "Predicting: |          | 0/? [00:00<?, ?it/s]"
            ]
          },
          "metadata": {},
          "output_type": "display_data"
        },
        {
          "name": "stdout",
          "output_type": "stream",
          "text": [
            "Predicted entities: [{'entity_group': 'YEAR', 'start': 0, 'end': 4}, {'entity_group': 'RATINGS_AVERAGE', 'start': 5, 'end': 7}, {'entity_group': 'RATINGS_AVERAGE', 'start': 8, 'end': 18}, {'entity_group': 'CHARACTER', 'start': 19, 'end': 21}, {'entity_group': 'TITLE', 'start': 22, 'end': 30}, {'entity_group': 'YEAR', 'start': 31, 'end': 38}, {'entity_group': 'CHARACTER', 'start': 39, 'end': 44}, {'entity_group': 'ACTOR', 'start': 45, 'end': 55}, {'entity_group': 'GENRE', 'start': 56, 'end': 62}, {'entity_group': 'CHARACTER', 'start': 63, 'end': 70}, {'entity_group': 'GENRE', 'start': 71, 'end': 73}, {'entity_group': 'ACTOR', 'start': 74, 'end': 87}]\n"
          ]
        },
        {
          "data": {
            "text/html": [
              "<mark style=\"background-color:#7F0AAC; color:white; border-radius: .6em .6em; padding: .1em;\">Game          <b style=\"background-color:white; color:black; font-size:x-small; border-radius: 0.5em .5em; padding: .0em;\">YEAR </b>          </mark> <mark style=\"background-color:#C4AA2F; color:white; border-radius: .6em .6em; padding: .1em;\">of          <b style=\"background-color:white; color:black; font-size:x-small; border-radius: 0.5em .5em; padding: .0em;\">RATINGS_AVERAGE </b>          </mark> <mark style=\"background-color:#C4AA2F; color:white; border-radius: .6em .6em; padding: .1em;\">Thrones is          <b style=\"background-color:white; color:black; font-size:x-small; border-radius: 0.5em .5em; padding: .0em;\">RATINGS_AVERAGE </b>          </mark> <mark style=\"background-color:#16A675; color:white; border-radius: .6em .6em; padding: .1em;\">an          <b style=\"background-color:white; color:black; font-size:x-small; border-radius: 0.5em .5em; padding: .0em;\">CHARACTER </b>          </mark> <mark style=\"background-color:#21CCC0; color:white; border-radius: .6em .6em; padding: .1em;\">American          <b style=\"background-color:white; color:black; font-size:x-small; border-radius: 0.5em .5em; padding: .0em;\">TITLE </b>          </mark> <mark style=\"background-color:#7F0AAC; color:white; border-radius: .6em .6em; padding: .1em;\">fantasy          <b style=\"background-color:white; color:black; font-size:x-small; border-radius: 0.5em .5em; padding: .0em;\">YEAR </b>          </mark> <mark style=\"background-color:#16A675; color:white; border-radius: .6em .6em; padding: .1em;\">drama          <b style=\"background-color:white; color:black; font-size:x-small; border-radius: 0.5em .5em; padding: .0em;\">CHARACTER </b>          </mark> <mark style=\"background-color:#4EB343; color:white; border-radius: .6em .6em; padding: .1em;\">television          <b style=\"background-color:white; color:black; font-size:x-small; border-radius: 0.5em .5em; padding: .0em;\">ACTOR </b>          </mark> <mark style=\"background-color:#A252FB; color:white; border-radius: .6em .6em; padding: .1em;\">series          <b style=\"background-color:white; color:black; font-size:x-small; border-radius: 0.5em .5em; padding: .0em;\">GENRE </b>          </mark> <mark style=\"background-color:#16A675; color:white; border-radius: .6em .6em; padding: .1em;\">created          <b style=\"background-color:white; color:black; font-size:x-small; border-radius: 0.5em .5em; padding: .0em;\">CHARACTER </b>          </mark> <mark style=\"background-color:#A252FB; color:white; border-radius: .6em .6em; padding: .1em;\">by          <b style=\"background-color:white; color:black; font-size:x-small; border-radius: 0.5em .5em; padding: .0em;\">GENRE </b>          </mark> <mark style=\"background-color:#4EB343; color:white; border-radius: .6em .6em; padding: .1em;\">David Benioff          <b style=\"background-color:white; color:black; font-size:x-small; border-radius: 0.5em .5em; padding: .0em;\">ACTOR </b>          </mark>"
            ],
            "text/plain": [
              "<autogluon.multimodal.utils.visualizer.NERVisualizer at 0x1dd8147c3a0>"
            ]
          },
          "execution_count": 8,
          "metadata": {},
          "output_type": "execute_result"
        }
      ],
      "source": [
        "from autogluon.multimodal.utils import visualize_ner\n",
        "\n",
        "sentence = \"Game of Thrones is an American fantasy drama television series created by David Benioff\"\n",
        "predictions = predictor.predict({'text_snippet': [sentence]})\n",
        "print('Predicted entities:', predictions[0])\n",
        "\n",
        "# Visualize\n",
        "visualize_ner(sentence, predictions[0])"
      ]
    },
    {
      "cell_type": "markdown",
      "id": "a6c64e18-58e3-46a8-8a9c-f2da25732659",
      "metadata": {
        "id": "a6c64e18-58e3-46a8-8a9c-f2da25732659",
        "tags": []
      },
      "source": [
        "## Prediction Probabilities\n",
        "\n",
        "You can also output the probabilities for a deep dive into the predictions."
      ]
    },
    {
      "cell_type": "code",
      "execution_count": 9,
      "id": "40330bc3-55a6-4950-a552-479f742f8c6d",
      "metadata": {
        "id": "40330bc3-55a6-4950-a552-479f742f8c6d"
      },
      "outputs": [
        {
          "data": {
            "application/vnd.jupyter.widget-view+json": {
              "model_id": "f21bffd371624127abe74e2c03da89f5",
              "version_major": 2,
              "version_minor": 0
            },
            "text/plain": [
              "Predicting: |          | 0/? [00:00<?, ?it/s]"
            ]
          },
          "metadata": {},
          "output_type": "display_data"
        },
        {
          "name": "stdout",
          "output_type": "stream",
          "text": [
            "{'O': 0.021596087, 'B-DIRECTOR': 0.06962614, 'B-YEAR': 0.0027464023, 'I-GENRE': 0.0046955887, 'I-ACTOR': 0.021891167, 'B-CHARACTER': 0.027778707, 'I-PLOT': 0.0054308283, 'B-PLOT': 0.0027801134, 'B-REVIEW': 0.0061453655, 'B-GENRE': 0.033979673, 'B-TRAILER': 0.012183686, 'I-YEAR': 0.29880387, 'I-TRAILER': 0.0027063116, 'B-TITLE': 0.02287895, 'I-CHARACTER': 0.024822725, 'B-SONG': 0.09091615, 'B-ACTOR': 0.014655129, 'B-RATING': 0.06675694, 'I-SONG': 0.00071075367, 'I-DIRECTOR': 0.038429484, 'I-REVIEW': 0.006972863, 'I-TITLE': 0.0038314736, 'B-RATINGS_AVERAGE': 0.015362135, 'I-RATINGS_AVERAGE': 0.17716941, 'I-RATING': 0.005818325}\n"
          ]
        }
      ],
      "source": [
        "predictions = predictor.predict_proba({'text_snippet': [sentence]})\n",
        "print(predictions[0][0]['probability'])"
      ]
    },
    {
      "cell_type": "markdown",
      "id": "fd829849",
      "metadata": {
        "id": "fd829849"
      },
      "source": [
        "## Reloading and Continuous Training\n",
        "The trained predictor is automatically saved and you can easily reload it using the path. If you are not saftisfied with the current model performance, you can continue training the loaded model with new data."
      ]
    },
    {
      "cell_type": "code",
      "execution_count": 10,
      "id": "babd7ba2",
      "metadata": {
        "id": "babd7ba2"
      },
      "outputs": [
        {
          "name": "stderr",
          "output_type": "stream",
          "text": [
            "Load pretrained checkpoint: c:\\Users\\Anthony\\Desktop\\Grad School\\CMPE 255\\Notebooks\\tmp\\396d3b35d035427db323c477beb70620-automm_ner\\model.ckpt\n",
            "=================== System Info ===================\n",
            "AutoGluon Version:  1.1.1\n",
            "Python Version:     3.10.11\n",
            "Operating System:   Windows\n",
            "Platform Machine:   AMD64\n",
            "Platform Version:   10.0.22631\n",
            "CPU Count:          24\n",
            "Pytorch Version:    2.3.1+cpu\n",
            "CUDA Version:       CUDA is not available\n",
            "Memory Avail:       10.44 GB / 31.91 GB (32.7%)\n",
            "Disk Space Avail:   50.52 GB / 464.51 GB (10.9%)\n",
            "===================================================\n",
            "\n",
            "AutoMM starts to create your model. ✨✨✨\n",
            "\n",
            "To track the learning progress, you can open a terminal and launch Tensorboard:\n",
            "    ```shell\n",
            "    # Assume you have installed tensorboard\n",
            "    tensorboard --logdir c:\\Users\\Anthony\\Desktop\\Grad School\\CMPE 255\\Notebooks\\tmp\\68256507be2143c4b95735f2d6f572d4-automm_ner_continue_train\n",
            "    ```\n",
            "\n",
            "Seed set to 0\n",
            "GPU Count: 0\n",
            "GPU Count to be Used: 0\n",
            "\n",
            "GPU available: False, used: False\n",
            "TPU available: False, using: 0 TPU cores\n",
            "HPU available: False, using: 0 HPUs\n",
            "\n",
            "  | Name              | Type              | Params | Mode \n",
            "----------------------------------------------------------------\n",
            "0 | model             | HFAutoModelForNER | 13.5 M | train\n",
            "1 | validation_metric | MulticlassF1Score | 0      | train\n",
            "2 | loss_func         | CrossEntropyLoss  | 0      | train\n",
            "----------------------------------------------------------------\n",
            "13.5 M    Trainable params\n",
            "0         Non-trainable params\n",
            "13.5 M    Total params\n",
            "53.959    Total estimated model params size (MB)\n"
          ]
        },
        {
          "data": {
            "application/vnd.jupyter.widget-view+json": {
              "model_id": "53a9f77992f0437e8e682eede10a5eb1",
              "version_major": 2,
              "version_minor": 0
            },
            "text/plain": [
              "Sanity Checking: |          | 0/? [00:00<?, ?it/s]"
            ]
          },
          "metadata": {},
          "output_type": "display_data"
        },
        {
          "data": {
            "application/vnd.jupyter.widget-view+json": {
              "model_id": "3ce3b9ca48cd47c1b5efb8eeb4810dbf",
              "version_major": 2,
              "version_minor": 0
            },
            "text/plain": [
              "Training: |          | 0/? [00:00<?, ?it/s]"
            ]
          },
          "metadata": {},
          "output_type": "display_data"
        },
        {
          "name": "stderr",
          "output_type": "stream",
          "text": [
            "Time limit reached. Elapsed time is 0:01:05. Signaling Trainer to stop.\n"
          ]
        },
        {
          "data": {
            "application/vnd.jupyter.widget-view+json": {
              "model_id": "d6b4ea8ede734fa6ab92b784ee88a778",
              "version_major": 2,
              "version_minor": 0
            },
            "text/plain": [
              "Validation: |          | 0/? [00:00<?, ?it/s]"
            ]
          },
          "metadata": {},
          "output_type": "display_data"
        },
        {
          "name": "stderr",
          "output_type": "stream",
          "text": [
            "AutoMM has created your model. 🎉🎉🎉\n",
            "\n",
            "To load the model, use the code below:\n",
            "    ```python\n",
            "    from autogluon.multimodal import MultiModalPredictor\n",
            "    predictor = MultiModalPredictor.load(\"c:\\Users\\Anthony\\Desktop\\Grad School\\CMPE 255\\Notebooks\\tmp\\68256507be2143c4b95735f2d6f572d4-automm_ner_continue_train\")\n",
            "    ```\n",
            "\n",
            "If you are not satisfied with the model, try to increase the training time, \n",
            "adjust the hyperparameters (https://auto.gluon.ai/stable/tutorials/multimodal/advanced_topics/customization.html),\n",
            "or post issues on GitHub (https://github.com/autogluon/autogluon/issues).\n",
            "\n",
            "\n"
          ]
        },
        {
          "data": {
            "application/vnd.jupyter.widget-view+json": {
              "model_id": "421ccc785d444f25a1e15f886fc16ccc",
              "version_major": 2,
              "version_minor": 0
            },
            "text/plain": [
              "Predicting: |          | 0/? [00:00<?, ?it/s]"
            ]
          },
          "metadata": {},
          "output_type": "display_data"
        },
        {
          "name": "stdout",
          "output_type": "stream",
          "text": [
            "{'overall_f1': 0.021940479805648345, 'ACTOR': {'precision': 0.002789400278940028, 'recall': 0.012315270935960592, 'f1': 0.004548555833522856, 'number': 812}}\n"
          ]
        }
      ],
      "source": [
        "new_predictor = MultiModalPredictor.load(model_path)\n",
        "new_model_path = f\"./tmp/{uuid.uuid4().hex}-automm_ner_continue_train\"\n",
        "new_predictor.fit(train_data, time_limit=60, save_path=new_model_path)\n",
        "test_score = new_predictor.evaluate(test_data, metrics=['overall_f1', 'ACTOR'])\n",
        "print(test_score)"
      ]
    },
    {
      "cell_type": "markdown",
      "id": "ba575445",
      "metadata": {
        "id": "ba575445"
      },
      "source": [
        "## Other Examples\n",
        "\n",
        "You may go to [AutoMM Examples](https://github.com/autogluon/autogluon/tree/master/examples/automm) to explore other examples about AutoMM.\n",
        "\n",
        "## Customization\n",
        "To learn how to customize AutoMM, please refer to [Customize AutoMM](../advanced_topics/customization.ipynb)."
      ]
    }
  ],
  "metadata": {
    "colab": {
      "provenance": []
    },
    "kernelspec": {
      "display_name": "Python 3",
      "language": "python",
      "name": "python3"
    },
    "language_info": {
      "codemirror_mode": {
        "name": "ipython",
        "version": 3
      },
      "file_extension": ".py",
      "mimetype": "text/x-python",
      "name": "python",
      "nbconvert_exporter": "python",
      "pygments_lexer": "ipython3",
      "version": "3.10.11"
    }
  },
  "nbformat": 4,
  "nbformat_minor": 5
}
