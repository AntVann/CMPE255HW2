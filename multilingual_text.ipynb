{
  "cells": [
    {
      "cell_type": "markdown",
      "id": "b03a4ef8",
      "metadata": {
        "id": "b03a4ef8"
      },
      "source": [
        "# AutoMM for Text - Multilingual Problems\n",
        "\n",
        "[![Open In Colab](https://colab.research.google.com/assets/colab-badge.svg)](https://colab.research.google.com/github/autogluon/autogluon/blob/stable/docs/tutorials/multimodal/text_prediction/multilingual_text.ipynb)\n",
        "[![Open In SageMaker Studio Lab](https://studiolab.sagemaker.aws/studiolab.svg)](https://studiolab.sagemaker.aws/import/github/autogluon/autogluon/blob/stable/docs/tutorials/multimodal/text_prediction/multilingual_text.ipynb)\n",
        "\n",
        "\n",
        "\n",
        "People around the world speaks lots of languages. According to [SIL International](https://en.wikipedia.org/wiki/SIL_International)'s [Ethnologue: Languages of the World](https://en.wikipedia.org/wiki/Ethnologue),\n",
        "there are more than **7,100** spoken and signed languages. In fact, web data nowadays are highly multilingual and lots of\n",
        "real-world problems involve text written in languages other than English.\n",
        "\n",
        "In this tutorial, we introduce how `MultiModalPredictor` can help you build multilingual models. For the purpose of demonstration,\n",
        "we use the [Cross-Lingual Amazon Product Review Sentiment](https://webis.de/data/webis-cls-10.html) dataset, which\n",
        "comprises about 800,000 Amazon product reviews in four languages: English, German, French, and Japanese.\n",
        "We will demonstrate how to use AutoGluon Text to build sentiment classification models on the German fold of this dataset in two ways:\n",
        "\n",
        "- Finetune the German BERT\n",
        "- Cross-lingual transfer from English to German\n",
        "\n",
        "*Note:* You are recommended to also check [Single GPU Billion-scale Model Training via Parameter-Efficient Finetuning](../advanced_topics/efficient_finetuning_basic.ipynb) about how to achieve better performance via parameter-efficient finetuning.\n",
        "\n",
        "## Load Dataset\n",
        "\n",
        "The [Cross-Lingual Amazon Product Review Sentiment](https://webis.de/data/webis-cls-10.html) dataset contains Amazon product reviews in four languages.\n",
        "Here, we load the English and German fold of the dataset. In the label column, `0` means negative sentiment and `1` means positive sentiment."
      ]
    },
    {
      "cell_type": "code",
      "execution_count": 1,
      "id": "aa00faab-252f-44c9-b8f7-57131aa8251c",
      "metadata": {
        "id": "aa00faab-252f-44c9-b8f7-57131aa8251c",
        "tags": [
          "remove-cell"
        ]
      },
      "outputs": [
        {
          "name": "stdout",
          "output_type": "stream",
          "text": [
            "Requirement already satisfied: autogluon.multimodal in c:\\users\\anthony\\appdata\\local\\programs\\python\\python310\\lib\\site-packages (1.1.1)\n",
            "Requirement already satisfied: numpy<1.29,>=1.21 in c:\\users\\anthony\\appdata\\local\\programs\\python\\python310\\lib\\site-packages (from autogluon.multimodal) (1.23.5)\n",
            "Requirement already satisfied: scipy<1.13,>=1.5.4 in c:\\users\\anthony\\appdata\\local\\programs\\python\\python310\\lib\\site-packages (from autogluon.multimodal) (1.10.1)\n",
            "Requirement already satisfied: pandas<2.3.0,>=2.0.0 in c:\\users\\anthony\\appdata\\local\\programs\\python\\python310\\lib\\site-packages (from autogluon.multimodal) (2.0.3)\n",
            "Requirement already satisfied: scikit-learn<1.4.1,>=1.3.0 in c:\\users\\anthony\\appdata\\local\\programs\\python\\python310\\lib\\site-packages (from autogluon.multimodal) (1.4.0)\n",
            "Requirement already satisfied: Pillow<11,>=10.0.1 in c:\\users\\anthony\\appdata\\local\\programs\\python\\python310\\lib\\site-packages (from autogluon.multimodal) (10.4.0)\n",
            "Requirement already satisfied: tqdm<5,>=4.38 in c:\\users\\anthony\\appdata\\local\\programs\\python\\python310\\lib\\site-packages (from autogluon.multimodal) (4.66.5)\n",
            "Requirement already satisfied: boto3<2,>=1.10 in c:\\users\\anthony\\appdata\\local\\programs\\python\\python310\\lib\\site-packages (from autogluon.multimodal) (1.35.24)\n",
            "Requirement already satisfied: torch<2.4,>=2.2 in c:\\users\\anthony\\appdata\\local\\programs\\python\\python310\\lib\\site-packages (from autogluon.multimodal) (2.3.1)\n",
            "Requirement already satisfied: lightning<2.4,>=2.2 in c:\\users\\anthony\\appdata\\local\\programs\\python\\python310\\lib\\site-packages (from autogluon.multimodal) (2.3.3)\n",
            "Requirement already satisfied: transformers<4.41.0,>=4.38.0 in c:\\users\\anthony\\appdata\\local\\programs\\python\\python310\\lib\\site-packages (from transformers[sentencepiece]<4.41.0,>=4.38.0->autogluon.multimodal) (4.40.2)\n",
            "Requirement already satisfied: accelerate<0.22.0,>=0.21.0 in c:\\users\\anthony\\appdata\\local\\programs\\python\\python310\\lib\\site-packages (from autogluon.multimodal) (0.21.0)\n",
            "Requirement already satisfied: requests<3,>=2.21 in c:\\users\\anthony\\appdata\\local\\programs\\python\\python310\\lib\\site-packages (from autogluon.multimodal) (2.32.3)\n",
            "Requirement already satisfied: jsonschema<4.22,>=4.18 in c:\\users\\anthony\\appdata\\local\\programs\\python\\python310\\lib\\site-packages (from autogluon.multimodal) (4.21.1)\n",
            "Requirement already satisfied: seqeval<1.3.0,>=1.2.2 in c:\\users\\anthony\\appdata\\local\\programs\\python\\python310\\lib\\site-packages (from autogluon.multimodal) (1.2.2)\n",
            "Requirement already satisfied: evaluate<0.5.0,>=0.4.0 in c:\\users\\anthony\\appdata\\local\\programs\\python\\python310\\lib\\site-packages (from autogluon.multimodal) (0.4.3)\n",
            "Requirement already satisfied: timm<0.10.0,>=0.9.5 in c:\\users\\anthony\\appdata\\local\\programs\\python\\python310\\lib\\site-packages (from autogluon.multimodal) (0.9.16)\n",
            "Requirement already satisfied: torchvision<0.19.0,>=0.16.0 in c:\\users\\anthony\\appdata\\local\\programs\\python\\python310\\lib\\site-packages (from autogluon.multimodal) (0.18.1)\n",
            "Requirement already satisfied: scikit-image<0.21.0,>=0.19.1 in c:\\users\\anthony\\appdata\\local\\programs\\python\\python310\\lib\\site-packages (from autogluon.multimodal) (0.20.0)\n",
            "Requirement already satisfied: text-unidecode<1.4,>=1.3 in c:\\users\\anthony\\appdata\\local\\programs\\python\\python310\\lib\\site-packages (from autogluon.multimodal) (1.3)\n",
            "Requirement already satisfied: torchmetrics<1.3.0,>=1.2.0 in c:\\users\\anthony\\appdata\\local\\programs\\python\\python310\\lib\\site-packages (from autogluon.multimodal) (1.2.1)\n",
            "Requirement already satisfied: nptyping<2.5.0,>=1.4.4 in c:\\users\\anthony\\appdata\\local\\programs\\python\\python310\\lib\\site-packages (from autogluon.multimodal) (2.4.1)\n",
            "Requirement already satisfied: omegaconf<2.3.0,>=2.1.1 in c:\\users\\anthony\\appdata\\local\\programs\\python\\python310\\lib\\site-packages (from autogluon.multimodal) (2.2.3)\n",
            "Requirement already satisfied: autogluon.core==1.1.1 in c:\\users\\anthony\\appdata\\local\\programs\\python\\python310\\lib\\site-packages (from autogluon.core[raytune]==1.1.1->autogluon.multimodal) (1.1.1)\n",
            "Requirement already satisfied: autogluon.features==1.1.1 in c:\\users\\anthony\\appdata\\local\\programs\\python\\python310\\lib\\site-packages (from autogluon.multimodal) (1.1.1)\n",
            "Requirement already satisfied: autogluon.common==1.1.1 in c:\\users\\anthony\\appdata\\local\\programs\\python\\python310\\lib\\site-packages (from autogluon.multimodal) (1.1.1)\n",
            "Requirement already satisfied: pytorch-metric-learning<2.4,>=1.3.0 in c:\\users\\anthony\\appdata\\local\\programs\\python\\python310\\lib\\site-packages (from autogluon.multimodal) (2.3.0)\n",
            "Requirement already satisfied: nlpaug<1.2.0,>=1.1.10 in c:\\users\\anthony\\appdata\\local\\programs\\python\\python310\\lib\\site-packages (from autogluon.multimodal) (1.1.11)\n",
            "Requirement already satisfied: nltk<4.0.0,>=3.4.5 in c:\\users\\anthony\\appdata\\local\\programs\\python\\python310\\lib\\site-packages (from autogluon.multimodal) (3.9.1)\n",
            "Requirement already satisfied: openmim<0.4.0,>=0.3.7 in c:\\users\\anthony\\appdata\\local\\programs\\python\\python310\\lib\\site-packages (from autogluon.multimodal) (0.3.9)\n",
            "Requirement already satisfied: defusedxml<0.7.2,>=0.7.1 in c:\\users\\anthony\\appdata\\local\\programs\\python\\python310\\lib\\site-packages (from autogluon.multimodal) (0.7.1)\n",
            "Requirement already satisfied: jinja2<3.2,>=3.0.3 in c:\\users\\anthony\\appdata\\local\\programs\\python\\python310\\lib\\site-packages (from autogluon.multimodal) (3.1.2)\n",
            "Requirement already satisfied: tensorboard<3,>=2.9 in c:\\users\\anthony\\appdata\\local\\programs\\python\\python310\\lib\\site-packages (from autogluon.multimodal) (2.15.2)\n",
            "Requirement already satisfied: pytesseract<0.3.11,>=0.3.9 in c:\\users\\anthony\\appdata\\local\\programs\\python\\python310\\lib\\site-packages (from autogluon.multimodal) (0.3.10)\n",
            "Requirement already satisfied: nvidia-ml-py3==7.352.0 in c:\\users\\anthony\\appdata\\local\\programs\\python\\python310\\lib\\site-packages (from autogluon.multimodal) (7.352.0)\n",
            "Requirement already satisfied: pdf2image<1.19,>=1.17.0 in c:\\users\\anthony\\appdata\\local\\programs\\python\\python310\\lib\\site-packages (from autogluon.multimodal) (1.17.0)\n",
            "Requirement already satisfied: psutil<6,>=5.7.3 in c:\\users\\anthony\\appdata\\roaming\\python\\python310\\site-packages (from autogluon.common==1.1.1->autogluon.multimodal) (5.9.5)\n",
            "Requirement already satisfied: setuptools in c:\\users\\anthony\\appdata\\local\\programs\\python\\python310\\lib\\site-packages (from autogluon.common==1.1.1->autogluon.multimodal) (75.1.0)\n",
            "Requirement already satisfied: networkx<4,>=3.0 in c:\\users\\anthony\\appdata\\local\\programs\\python\\python310\\lib\\site-packages (from autogluon.core==1.1.1->autogluon.core[raytune]==1.1.1->autogluon.multimodal) (3.3)\n",
            "Requirement already satisfied: matplotlib in c:\\users\\anthony\\appdata\\local\\programs\\python\\python310\\lib\\site-packages (from autogluon.core==1.1.1->autogluon.core[raytune]==1.1.1->autogluon.multimodal) (3.7.1)\n",
            "Requirement already satisfied: ray<2.11,>=2.10.0 in c:\\users\\anthony\\appdata\\local\\programs\\python\\python310\\lib\\site-packages (from ray[default,tune]<2.11,>=2.10.0; extra == \"raytune\"->autogluon.core[raytune]==1.1.1->autogluon.multimodal) (2.10.0)\n",
            "Requirement already satisfied: hyperopt<0.2.8,>=0.2.7 in c:\\users\\anthony\\appdata\\local\\programs\\python\\python310\\lib\\site-packages (from autogluon.core[raytune]==1.1.1->autogluon.multimodal) (0.2.7)\n",
            "Requirement already satisfied: packaging>=20.0 in c:\\users\\anthony\\appdata\\local\\programs\\python\\python310\\lib\\site-packages (from accelerate<0.22.0,>=0.21.0->autogluon.multimodal) (24.1)\n",
            "Requirement already satisfied: pyyaml in c:\\users\\anthony\\appdata\\local\\programs\\python\\python310\\lib\\site-packages (from accelerate<0.22.0,>=0.21.0->autogluon.multimodal) (6.0.2)\n",
            "Requirement already satisfied: botocore<1.36.0,>=1.35.24 in c:\\users\\anthony\\appdata\\local\\programs\\python\\python310\\lib\\site-packages (from boto3<2,>=1.10->autogluon.multimodal) (1.35.24)\n",
            "Requirement already satisfied: jmespath<2.0.0,>=0.7.1 in c:\\users\\anthony\\appdata\\local\\programs\\python\\python310\\lib\\site-packages (from boto3<2,>=1.10->autogluon.multimodal) (1.0.1)\n",
            "Requirement already satisfied: s3transfer<0.11.0,>=0.10.0 in c:\\users\\anthony\\appdata\\local\\programs\\python\\python310\\lib\\site-packages (from boto3<2,>=1.10->autogluon.multimodal) (0.10.2)\n",
            "Requirement already satisfied: datasets>=2.0.0 in c:\\users\\anthony\\appdata\\local\\programs\\python\\python310\\lib\\site-packages (from evaluate<0.5.0,>=0.4.0->autogluon.multimodal) (3.0.1)\n",
            "Requirement already satisfied: dill in c:\\users\\anthony\\appdata\\local\\programs\\python\\python310\\lib\\site-packages (from evaluate<0.5.0,>=0.4.0->autogluon.multimodal) (0.3.8)\n",
            "Requirement already satisfied: xxhash in c:\\users\\anthony\\appdata\\local\\programs\\python\\python310\\lib\\site-packages (from evaluate<0.5.0,>=0.4.0->autogluon.multimodal) (3.5.0)\n",
            "Requirement already satisfied: multiprocess in c:\\users\\anthony\\appdata\\local\\programs\\python\\python310\\lib\\site-packages (from evaluate<0.5.0,>=0.4.0->autogluon.multimodal) (0.70.16)\n",
            "Requirement already satisfied: fsspec>=2021.05.0 in c:\\users\\anthony\\appdata\\local\\programs\\python\\python310\\lib\\site-packages (from fsspec[http]>=2021.05.0->evaluate<0.5.0,>=0.4.0->autogluon.multimodal) (2024.6.1)\n",
            "Requirement already satisfied: huggingface-hub>=0.7.0 in c:\\users\\anthony\\appdata\\local\\programs\\python\\python310\\lib\\site-packages (from evaluate<0.5.0,>=0.4.0->autogluon.multimodal) (0.25.0)\n",
            "Requirement already satisfied: MarkupSafe>=2.0 in c:\\users\\anthony\\appdata\\local\\programs\\python\\python310\\lib\\site-packages (from jinja2<3.2,>=3.0.3->autogluon.multimodal) (2.1.5)\n",
            "Requirement already satisfied: attrs>=22.2.0 in c:\\users\\anthony\\appdata\\local\\programs\\python\\python310\\lib\\site-packages (from jsonschema<4.22,>=4.18->autogluon.multimodal) (24.2.0)\n",
            "Requirement already satisfied: jsonschema-specifications>=2023.03.6 in c:\\users\\anthony\\appdata\\local\\programs\\python\\python310\\lib\\site-packages (from jsonschema<4.22,>=4.18->autogluon.multimodal) (2023.12.1)\n",
            "Requirement already satisfied: referencing>=0.28.4 in c:\\users\\anthony\\appdata\\local\\programs\\python\\python310\\lib\\site-packages (from jsonschema<4.22,>=4.18->autogluon.multimodal) (0.35.1)\n",
            "Requirement already satisfied: rpds-py>=0.7.1 in c:\\users\\anthony\\appdata\\local\\programs\\python\\python310\\lib\\site-packages (from jsonschema<4.22,>=4.18->autogluon.multimodal) (0.20.0)\n",
            "Requirement already satisfied: lightning-utilities<2.0,>=0.10.0 in c:\\users\\anthony\\appdata\\local\\programs\\python\\python310\\lib\\site-packages (from lightning<2.4,>=2.2->autogluon.multimodal) (0.11.7)\n",
            "Requirement already satisfied: typing-extensions<6.0,>=4.4.0 in c:\\users\\anthony\\appdata\\local\\programs\\python\\python310\\lib\\site-packages (from lightning<2.4,>=2.2->autogluon.multimodal) (4.12.2)\n",
            "Requirement already satisfied: pytorch-lightning in c:\\users\\anthony\\appdata\\local\\programs\\python\\python310\\lib\\site-packages (from lightning<2.4,>=2.2->autogluon.multimodal) (2.4.0)\n",
            "Requirement already satisfied: gdown>=4.0.0 in c:\\users\\anthony\\appdata\\local\\programs\\python\\python310\\lib\\site-packages (from nlpaug<1.2.0,>=1.1.10->autogluon.multimodal) (5.2.0)\n",
            "Requirement already satisfied: click in c:\\users\\anthony\\appdata\\local\\programs\\python\\python310\\lib\\site-packages (from nltk<4.0.0,>=3.4.5->autogluon.multimodal) (8.1.3)\n",
            "Requirement already satisfied: joblib in c:\\users\\anthony\\appdata\\local\\programs\\python\\python310\\lib\\site-packages (from nltk<4.0.0,>=3.4.5->autogluon.multimodal) (1.2.0)\n",
            "Requirement already satisfied: regex>=2021.8.3 in c:\\users\\anthony\\appdata\\local\\programs\\python\\python310\\lib\\site-packages (from nltk<4.0.0,>=3.4.5->autogluon.multimodal) (2024.9.11)\n",
            "Requirement already satisfied: antlr4-python3-runtime==4.9.* in c:\\users\\anthony\\appdata\\local\\programs\\python\\python310\\lib\\site-packages (from omegaconf<2.3.0,>=2.1.1->autogluon.multimodal) (4.9.3)\n",
            "Requirement already satisfied: colorama in c:\\users\\anthony\\appdata\\local\\programs\\python\\python310\\lib\\site-packages (from openmim<0.4.0,>=0.3.7->autogluon.multimodal) (0.4.6)\n",
            "Requirement already satisfied: model-index in c:\\users\\anthony\\appdata\\local\\programs\\python\\python310\\lib\\site-packages (from openmim<0.4.0,>=0.3.7->autogluon.multimodal) (0.1.11)\n",
            "Requirement already satisfied: opendatalab in c:\\users\\anthony\\appdata\\local\\programs\\python\\python310\\lib\\site-packages (from openmim<0.4.0,>=0.3.7->autogluon.multimodal) (0.0.10)\n",
            "Requirement already satisfied: pip>=19.3 in c:\\users\\anthony\\appdata\\local\\programs\\python\\python310\\lib\\site-packages (from openmim<0.4.0,>=0.3.7->autogluon.multimodal) (24.2)\n",
            "Requirement already satisfied: rich in c:\\users\\anthony\\appdata\\local\\programs\\python\\python310\\lib\\site-packages (from openmim<0.4.0,>=0.3.7->autogluon.multimodal) (13.8.1)\n",
            "Requirement already satisfied: tabulate in c:\\users\\anthony\\appdata\\local\\programs\\python\\python310\\lib\\site-packages (from openmim<0.4.0,>=0.3.7->autogluon.multimodal) (0.9.0)\n",
            "Requirement already satisfied: python-dateutil>=2.8.2 in c:\\users\\anthony\\appdata\\local\\programs\\python\\python310\\lib\\site-packages (from pandas<2.3.0,>=2.0.0->autogluon.multimodal) (2.8.2)\n",
            "Requirement already satisfied: pytz>=2020.1 in c:\\users\\anthony\\appdata\\local\\programs\\python\\python310\\lib\\site-packages (from pandas<2.3.0,>=2.0.0->autogluon.multimodal) (2023.3)\n",
            "Requirement already satisfied: tzdata>=2022.1 in c:\\users\\anthony\\appdata\\local\\programs\\python\\python310\\lib\\site-packages (from pandas<2.3.0,>=2.0.0->autogluon.multimodal) (2023.3)\n",
            "Requirement already satisfied: charset-normalizer<4,>=2 in c:\\users\\anthony\\appdata\\local\\programs\\python\\python310\\lib\\site-packages (from requests<3,>=2.21->autogluon.multimodal) (3.3.2)\n",
            "Requirement already satisfied: idna<4,>=2.5 in c:\\users\\anthony\\appdata\\local\\programs\\python\\python310\\lib\\site-packages (from requests<3,>=2.21->autogluon.multimodal) (3.10)\n",
            "Requirement already satisfied: urllib3<3,>=1.21.1 in c:\\users\\anthony\\appdata\\local\\programs\\python\\python310\\lib\\site-packages (from requests<3,>=2.21->autogluon.multimodal) (2.2.3)\n",
            "Requirement already satisfied: certifi>=2017.4.17 in c:\\users\\anthony\\appdata\\local\\programs\\python\\python310\\lib\\site-packages (from requests<3,>=2.21->autogluon.multimodal) (2024.8.30)\n",
            "Requirement already satisfied: imageio>=2.4.1 in c:\\users\\anthony\\appdata\\local\\programs\\python\\python310\\lib\\site-packages (from scikit-image<0.21.0,>=0.19.1->autogluon.multimodal) (2.35.1)\n",
            "Requirement already satisfied: tifffile>=2019.7.26 in c:\\users\\anthony\\appdata\\local\\programs\\python\\python310\\lib\\site-packages (from scikit-image<0.21.0,>=0.19.1->autogluon.multimodal) (2024.9.20)\n",
            "Requirement already satisfied: PyWavelets>=1.1.1 in c:\\users\\anthony\\appdata\\local\\programs\\python\\python310\\lib\\site-packages (from scikit-image<0.21.0,>=0.19.1->autogluon.multimodal) (1.7.0)\n",
            "Requirement already satisfied: lazy_loader>=0.1 in c:\\users\\anthony\\appdata\\local\\programs\\python\\python310\\lib\\site-packages (from scikit-image<0.21.0,>=0.19.1->autogluon.multimodal) (0.4)\n",
            "Requirement already satisfied: threadpoolctl>=2.0.0 in c:\\users\\anthony\\appdata\\local\\programs\\python\\python310\\lib\\site-packages (from scikit-learn<1.4.1,>=1.3.0->autogluon.multimodal) (3.1.0)\n",
            "Requirement already satisfied: absl-py>=0.4 in c:\\users\\anthony\\appdata\\local\\programs\\python\\python310\\lib\\site-packages (from tensorboard<3,>=2.9->autogluon.multimodal) (2.1.0)\n",
            "Requirement already satisfied: grpcio>=1.48.2 in c:\\users\\anthony\\appdata\\local\\programs\\python\\python310\\lib\\site-packages (from tensorboard<3,>=2.9->autogluon.multimodal) (1.66.1)\n",
            "Requirement already satisfied: google-auth<3,>=1.6.3 in c:\\users\\anthony\\appdata\\local\\programs\\python\\python310\\lib\\site-packages (from tensorboard<3,>=2.9->autogluon.multimodal) (2.35.0)\n",
            "Requirement already satisfied: google-auth-oauthlib<2,>=0.5 in c:\\users\\anthony\\appdata\\local\\programs\\python\\python310\\lib\\site-packages (from tensorboard<3,>=2.9->autogluon.multimodal) (1.2.1)\n",
            "Requirement already satisfied: markdown>=2.6.8 in c:\\users\\anthony\\appdata\\local\\programs\\python\\python310\\lib\\site-packages (from tensorboard<3,>=2.9->autogluon.multimodal) (3.7)\n",
            "Requirement already satisfied: protobuf!=4.24.0,>=3.19.6 in c:\\users\\anthony\\appdata\\local\\programs\\python\\python310\\lib\\site-packages (from tensorboard<3,>=2.9->autogluon.multimodal) (4.25.5)\n",
            "Requirement already satisfied: six>1.9 in c:\\users\\anthony\\appdata\\local\\programs\\python\\python310\\lib\\site-packages (from tensorboard<3,>=2.9->autogluon.multimodal) (1.16.0)\n",
            "Requirement already satisfied: tensorboard-data-server<0.8.0,>=0.7.0 in c:\\users\\anthony\\appdata\\local\\programs\\python\\python310\\lib\\site-packages (from tensorboard<3,>=2.9->autogluon.multimodal) (0.7.2)\n",
            "Requirement already satisfied: werkzeug>=1.0.1 in c:\\users\\anthony\\appdata\\local\\programs\\python\\python310\\lib\\site-packages (from tensorboard<3,>=2.9->autogluon.multimodal) (3.0.4)\n",
            "Requirement already satisfied: safetensors in c:\\users\\anthony\\appdata\\local\\programs\\python\\python310\\lib\\site-packages (from timm<0.10.0,>=0.9.5->autogluon.multimodal) (0.4.5)\n",
            "Requirement already satisfied: filelock in c:\\users\\anthony\\appdata\\local\\programs\\python\\python310\\lib\\site-packages (from torch<2.4,>=2.2->autogluon.multimodal) (3.12.0)\n",
            "Requirement already satisfied: sympy in c:\\users\\anthony\\appdata\\local\\programs\\python\\python310\\lib\\site-packages (from torch<2.4,>=2.2->autogluon.multimodal) (1.13.3)\n",
            "Requirement already satisfied: mkl<=2021.4.0,>=2021.1.1 in c:\\users\\anthony\\appdata\\local\\programs\\python\\python310\\lib\\site-packages (from torch<2.4,>=2.2->autogluon.multimodal) (2021.4.0)\n",
            "Requirement already satisfied: tokenizers<0.20,>=0.19 in c:\\users\\anthony\\appdata\\local\\programs\\python\\python310\\lib\\site-packages (from transformers<4.41.0,>=4.38.0->transformers[sentencepiece]<4.41.0,>=4.38.0->autogluon.multimodal) (0.19.1)\n",
            "Requirement already satisfied: sentencepiece!=0.1.92,>=0.1.91 in c:\\users\\anthony\\appdata\\local\\programs\\python\\python310\\lib\\site-packages (from transformers[sentencepiece]<4.41.0,>=4.38.0->autogluon.multimodal) (0.2.0)\n",
            "Requirement already satisfied: pyarrow>=15.0.0 in c:\\users\\anthony\\appdata\\local\\programs\\python\\python310\\lib\\site-packages (from datasets>=2.0.0->evaluate<0.5.0,>=0.4.0->autogluon.multimodal) (17.0.0)\n",
            "Requirement already satisfied: aiohttp in c:\\users\\anthony\\appdata\\local\\programs\\python\\python310\\lib\\site-packages (from datasets>=2.0.0->evaluate<0.5.0,>=0.4.0->autogluon.multimodal) (3.10.7)\n",
            "Requirement already satisfied: beautifulsoup4 in c:\\users\\anthony\\appdata\\local\\programs\\python\\python310\\lib\\site-packages (from gdown>=4.0.0->nlpaug<1.2.0,>=1.1.10->autogluon.multimodal) (4.12.3)\n",
            "Requirement already satisfied: cachetools<6.0,>=2.0.0 in c:\\users\\anthony\\appdata\\local\\programs\\python\\python310\\lib\\site-packages (from google-auth<3,>=1.6.3->tensorboard<3,>=2.9->autogluon.multimodal) (5.3.0)\n",
            "Requirement already satisfied: pyasn1-modules>=0.2.1 in c:\\users\\anthony\\appdata\\local\\programs\\python\\python310\\lib\\site-packages (from google-auth<3,>=1.6.3->tensorboard<3,>=2.9->autogluon.multimodal) (0.3.0)\n",
            "Requirement already satisfied: rsa<5,>=3.1.4 in c:\\users\\anthony\\appdata\\local\\programs\\python\\python310\\lib\\site-packages (from google-auth<3,>=1.6.3->tensorboard<3,>=2.9->autogluon.multimodal) (4.9)\n",
            "Requirement already satisfied: requests-oauthlib>=0.7.0 in c:\\users\\anthony\\appdata\\local\\programs\\python\\python310\\lib\\site-packages (from google-auth-oauthlib<2,>=0.5->tensorboard<3,>=2.9->autogluon.multimodal) (1.3.1)\n",
            "Requirement already satisfied: future in c:\\users\\anthony\\appdata\\local\\programs\\python\\python310\\lib\\site-packages (from hyperopt<0.2.8,>=0.2.7->autogluon.core[raytune]==1.1.1->autogluon.multimodal) (1.0.0)\n",
            "Requirement already satisfied: cloudpickle in c:\\users\\anthony\\appdata\\local\\programs\\python\\python310\\lib\\site-packages (from hyperopt<0.2.8,>=0.2.7->autogluon.core[raytune]==1.1.1->autogluon.multimodal) (3.0.0)\n",
            "Requirement already satisfied: py4j in c:\\users\\anthony\\appdata\\local\\programs\\python\\python310\\lib\\site-packages (from hyperopt<0.2.8,>=0.2.7->autogluon.core[raytune]==1.1.1->autogluon.multimodal) (0.10.9.7)\n",
            "Requirement already satisfied: intel-openmp==2021.* in c:\\users\\anthony\\appdata\\local\\programs\\python\\python310\\lib\\site-packages (from mkl<=2021.4.0,>=2021.1.1->torch<2.4,>=2.2->autogluon.multimodal) (2021.4.0)\n",
            "Requirement already satisfied: tbb==2021.* in c:\\users\\anthony\\appdata\\local\\programs\\python\\python310\\lib\\site-packages (from mkl<=2021.4.0,>=2021.1.1->torch<2.4,>=2.2->autogluon.multimodal) (2021.13.1)\n",
            "Requirement already satisfied: msgpack<2.0.0,>=1.0.0 in c:\\users\\anthony\\appdata\\local\\programs\\python\\python310\\lib\\site-packages (from ray<2.11,>=2.10.0->ray[default,tune]<2.11,>=2.10.0; extra == \"raytune\"->autogluon.core[raytune]==1.1.1->autogluon.multimodal) (1.1.0)\n",
            "Requirement already satisfied: aiosignal in c:\\users\\anthony\\appdata\\local\\programs\\python\\python310\\lib\\site-packages (from ray<2.11,>=2.10.0->ray[default,tune]<2.11,>=2.10.0; extra == \"raytune\"->autogluon.core[raytune]==1.1.1->autogluon.multimodal) (1.3.1)\n",
            "Requirement already satisfied: frozenlist in c:\\users\\anthony\\appdata\\local\\programs\\python\\python310\\lib\\site-packages (from ray<2.11,>=2.10.0->ray[default,tune]<2.11,>=2.10.0; extra == \"raytune\"->autogluon.core[raytune]==1.1.1->autogluon.multimodal) (1.4.1)\n",
            "Requirement already satisfied: tensorboardX>=1.9 in c:\\users\\anthony\\appdata\\local\\programs\\python\\python310\\lib\\site-packages (from ray[default,tune]<2.11,>=2.10.0; extra == \"raytune\"->autogluon.core[raytune]==1.1.1->autogluon.multimodal) (2.6.2.2)\n",
            "Requirement already satisfied: aiohttp-cors in c:\\users\\anthony\\appdata\\local\\programs\\python\\python310\\lib\\site-packages (from ray[default,tune]<2.11,>=2.10.0; extra == \"raytune\"->autogluon.core[raytune]==1.1.1->autogluon.multimodal) (0.7.0)\n",
            "Requirement already satisfied: colorful in c:\\users\\anthony\\appdata\\local\\programs\\python\\python310\\lib\\site-packages (from ray[default,tune]<2.11,>=2.10.0; extra == \"raytune\"->autogluon.core[raytune]==1.1.1->autogluon.multimodal) (0.5.6)\n",
            "Requirement already satisfied: py-spy>=0.2.0 in c:\\users\\anthony\\appdata\\local\\programs\\python\\python310\\lib\\site-packages (from ray[default,tune]<2.11,>=2.10.0; extra == \"raytune\"->autogluon.core[raytune]==1.1.1->autogluon.multimodal) (0.3.14)\n",
            "Requirement already satisfied: opencensus in c:\\users\\anthony\\appdata\\local\\programs\\python\\python310\\lib\\site-packages (from ray[default,tune]<2.11,>=2.10.0; extra == \"raytune\"->autogluon.core[raytune]==1.1.1->autogluon.multimodal) (0.11.4)\n",
            "Requirement already satisfied: pydantic!=2.0.*,!=2.1.*,!=2.2.*,!=2.3.*,!=2.4.*,<3 in c:\\users\\anthony\\appdata\\local\\programs\\python\\python310\\lib\\site-packages (from ray[default,tune]<2.11,>=2.10.0; extra == \"raytune\"->autogluon.core[raytune]==1.1.1->autogluon.multimodal) (2.9.2)\n",
            "Requirement already satisfied: prometheus-client>=0.7.1 in c:\\users\\anthony\\appdata\\local\\programs\\python\\python310\\lib\\site-packages (from ray[default,tune]<2.11,>=2.10.0; extra == \"raytune\"->autogluon.core[raytune]==1.1.1->autogluon.multimodal) (0.21.0)\n",
            "Requirement already satisfied: smart-open in c:\\users\\anthony\\appdata\\local\\programs\\python\\python310\\lib\\site-packages (from ray[default,tune]<2.11,>=2.10.0; extra == \"raytune\"->autogluon.core[raytune]==1.1.1->autogluon.multimodal) (7.0.4)\n",
            "Requirement already satisfied: virtualenv!=20.21.1,>=20.0.24 in c:\\users\\anthony\\appdata\\local\\programs\\python\\python310\\lib\\site-packages (from ray[default,tune]<2.11,>=2.10.0; extra == \"raytune\"->autogluon.core[raytune]==1.1.1->autogluon.multimodal) (20.23.0)\n",
            "Requirement already satisfied: contourpy>=1.0.1 in c:\\users\\anthony\\appdata\\local\\programs\\python\\python310\\lib\\site-packages (from matplotlib->autogluon.core==1.1.1->autogluon.core[raytune]==1.1.1->autogluon.multimodal) (1.0.7)\n",
            "Requirement already satisfied: cycler>=0.10 in c:\\users\\anthony\\appdata\\local\\programs\\python\\python310\\lib\\site-packages (from matplotlib->autogluon.core==1.1.1->autogluon.core[raytune]==1.1.1->autogluon.multimodal) (0.11.0)\n",
            "Requirement already satisfied: fonttools>=4.22.0 in c:\\users\\anthony\\appdata\\local\\programs\\python\\python310\\lib\\site-packages (from matplotlib->autogluon.core==1.1.1->autogluon.core[raytune]==1.1.1->autogluon.multimodal) (4.39.4)\n",
            "Requirement already satisfied: kiwisolver>=1.0.1 in c:\\users\\anthony\\appdata\\local\\programs\\python\\python310\\lib\\site-packages (from matplotlib->autogluon.core==1.1.1->autogluon.core[raytune]==1.1.1->autogluon.multimodal) (1.4.4)\n",
            "Requirement already satisfied: pyparsing>=2.3.1 in c:\\users\\anthony\\appdata\\local\\programs\\python\\python310\\lib\\site-packages (from matplotlib->autogluon.core==1.1.1->autogluon.core[raytune]==1.1.1->autogluon.multimodal) (3.0.9)\n",
            "Requirement already satisfied: ordered-set in c:\\users\\anthony\\appdata\\local\\programs\\python\\python310\\lib\\site-packages (from model-index->openmim<0.4.0,>=0.3.7->autogluon.multimodal) (4.1.0)\n",
            "Requirement already satisfied: pycryptodome in c:\\users\\anthony\\appdata\\local\\programs\\python\\python310\\lib\\site-packages (from opendatalab->openmim<0.4.0,>=0.3.7->autogluon.multimodal) (3.20.0)\n",
            "Requirement already satisfied: openxlab in c:\\users\\anthony\\appdata\\local\\programs\\python\\python310\\lib\\site-packages (from opendatalab->openmim<0.4.0,>=0.3.7->autogluon.multimodal) (0.0.11)\n",
            "Requirement already satisfied: pywin32 in c:\\users\\anthony\\appdata\\roaming\\python\\python310\\site-packages (from opendatalab->openmim<0.4.0,>=0.3.7->autogluon.multimodal) (306)\n",
            "Requirement already satisfied: markdown-it-py>=2.2.0 in c:\\users\\anthony\\appdata\\local\\programs\\python\\python310\\lib\\site-packages (from rich->openmim<0.4.0,>=0.3.7->autogluon.multimodal) (3.0.0)\n",
            "Requirement already satisfied: pygments<3.0.0,>=2.13.0 in c:\\users\\anthony\\appdata\\local\\programs\\python\\python310\\lib\\site-packages (from rich->openmim<0.4.0,>=0.3.7->autogluon.multimodal) (2.18.0)\n",
            "Requirement already satisfied: mpmath<1.4,>=1.1.0 in c:\\users\\anthony\\appdata\\local\\programs\\python\\python310\\lib\\site-packages (from sympy->torch<2.4,>=2.2->autogluon.multimodal) (1.3.0)\n",
            "Requirement already satisfied: aiohappyeyeballs>=2.3.0 in c:\\users\\anthony\\appdata\\local\\programs\\python\\python310\\lib\\site-packages (from aiohttp->datasets>=2.0.0->evaluate<0.5.0,>=0.4.0->autogluon.multimodal) (2.4.2)\n",
            "Requirement already satisfied: multidict<7.0,>=4.5 in c:\\users\\anthony\\appdata\\local\\programs\\python\\python310\\lib\\site-packages (from aiohttp->datasets>=2.0.0->evaluate<0.5.0,>=0.4.0->autogluon.multimodal) (6.1.0)\n",
            "Requirement already satisfied: yarl<2.0,>=1.12.0 in c:\\users\\anthony\\appdata\\local\\programs\\python\\python310\\lib\\site-packages (from aiohttp->datasets>=2.0.0->evaluate<0.5.0,>=0.4.0->autogluon.multimodal) (1.13.1)\n",
            "Requirement already satisfied: async-timeout<5.0,>=4.0 in c:\\users\\anthony\\appdata\\local\\programs\\python\\python310\\lib\\site-packages (from aiohttp->datasets>=2.0.0->evaluate<0.5.0,>=0.4.0->autogluon.multimodal) (4.0.3)\n",
            "Requirement already satisfied: mdurl~=0.1 in c:\\users\\anthony\\appdata\\local\\programs\\python\\python310\\lib\\site-packages (from markdown-it-py>=2.2.0->rich->openmim<0.4.0,>=0.3.7->autogluon.multimodal) (0.1.2)\n",
            "Requirement already satisfied: pyasn1<0.6.0,>=0.4.6 in c:\\users\\anthony\\appdata\\local\\programs\\python\\python310\\lib\\site-packages (from pyasn1-modules>=0.2.1->google-auth<3,>=1.6.3->tensorboard<3,>=2.9->autogluon.multimodal) (0.5.0)\n",
            "Requirement already satisfied: annotated-types>=0.6.0 in c:\\users\\anthony\\appdata\\local\\programs\\python\\python310\\lib\\site-packages (from pydantic!=2.0.*,!=2.1.*,!=2.2.*,!=2.3.*,!=2.4.*,<3->ray[default,tune]<2.11,>=2.10.0; extra == \"raytune\"->autogluon.core[raytune]==1.1.1->autogluon.multimodal) (0.7.0)\n",
            "Requirement already satisfied: pydantic-core==2.23.4 in c:\\users\\anthony\\appdata\\local\\programs\\python\\python310\\lib\\site-packages (from pydantic!=2.0.*,!=2.1.*,!=2.2.*,!=2.3.*,!=2.4.*,<3->ray[default,tune]<2.11,>=2.10.0; extra == \"raytune\"->autogluon.core[raytune]==1.1.1->autogluon.multimodal) (2.23.4)\n",
            "Requirement already satisfied: oauthlib>=3.0.0 in c:\\users\\anthony\\appdata\\local\\programs\\python\\python310\\lib\\site-packages (from requests-oauthlib>=0.7.0->google-auth-oauthlib<2,>=0.5->tensorboard<3,>=2.9->autogluon.multimodal) (3.2.2)\n",
            "Requirement already satisfied: distlib<1,>=0.3.6 in c:\\users\\anthony\\appdata\\local\\programs\\python\\python310\\lib\\site-packages (from virtualenv!=20.21.1,>=20.0.24->ray[default,tune]<2.11,>=2.10.0; extra == \"raytune\"->autogluon.core[raytune]==1.1.1->autogluon.multimodal) (0.3.6)\n",
            "Requirement already satisfied: platformdirs<4,>=3.2 in c:\\users\\anthony\\appdata\\local\\programs\\python\\python310\\lib\\site-packages (from virtualenv!=20.21.1,>=20.0.24->ray[default,tune]<2.11,>=2.10.0; extra == \"raytune\"->autogluon.core[raytune]==1.1.1->autogluon.multimodal) (3.5.1)\n",
            "Requirement already satisfied: soupsieve>1.2 in c:\\users\\anthony\\appdata\\local\\programs\\python\\python310\\lib\\site-packages (from beautifulsoup4->gdown>=4.0.0->nlpaug<1.2.0,>=1.1.10->autogluon.multimodal) (2.6)\n",
            "Requirement already satisfied: opencensus-context>=0.1.3 in c:\\users\\anthony\\appdata\\local\\programs\\python\\python310\\lib\\site-packages (from opencensus->ray[default,tune]<2.11,>=2.10.0; extra == \"raytune\"->autogluon.core[raytune]==1.1.1->autogluon.multimodal) (0.1.3)\n",
            "Requirement already satisfied: google-api-core<3.0.0,>=1.0.0 in c:\\users\\anthony\\appdata\\local\\programs\\python\\python310\\lib\\site-packages (from opencensus->ray[default,tune]<2.11,>=2.10.0; extra == \"raytune\"->autogluon.core[raytune]==1.1.1->autogluon.multimodal) (2.20.0)\n",
            "Requirement already satisfied: PySocks!=1.5.7,>=1.5.6 in c:\\users\\anthony\\appdata\\local\\programs\\python\\python310\\lib\\site-packages (from requests[socks]->gdown>=4.0.0->nlpaug<1.2.0,>=1.1.10->autogluon.multimodal) (1.7.1)\n",
            "Requirement already satisfied: wrapt in c:\\users\\anthony\\appdata\\local\\programs\\python\\python310\\lib\\site-packages (from smart-open->ray[default,tune]<2.11,>=2.10.0; extra == \"raytune\"->autogluon.core[raytune]==1.1.1->autogluon.multimodal) (1.14.1)\n",
            "Requirement already satisfied: googleapis-common-protos<2.0.dev0,>=1.56.2 in c:\\users\\anthony\\appdata\\local\\programs\\python\\python310\\lib\\site-packages (from google-api-core<3.0.0,>=1.0.0->opencensus->ray[default,tune]<2.11,>=2.10.0; extra == \"raytune\"->autogluon.core[raytune]==1.1.1->autogluon.multimodal) (1.65.0)\n",
            "Requirement already satisfied: proto-plus<2.0.0dev,>=1.22.3 in c:\\users\\anthony\\appdata\\local\\programs\\python\\python310\\lib\\site-packages (from google-api-core<3.0.0,>=1.0.0->opencensus->ray[default,tune]<2.11,>=2.10.0; extra == \"raytune\"->autogluon.core[raytune]==1.1.1->autogluon.multimodal) (1.24.0)\n"
          ]
        }
      ],
      "source": [
        "!pip install autogluon.multimodal\n"
      ]
    },
    {
      "cell_type": "code",
      "execution_count": 2,
      "id": "1568130d",
      "metadata": {
        "id": "1568130d"
      },
      "outputs": [],
      "source": [
        "import requests\n",
        "import zipfile\n",
        "import os\n",
        "\n",
        "# URL of the file to download\n",
        "url = \"https://automl-mm-bench.s3.amazonaws.com/multilingual-datasets/amazon_review_sentiment_cross_lingual.zip\"\n",
        "local_zip_file = \"amazon_review_sentiment_cross_lingual.zip\"\n",
        "\n",
        "# Download the file\n",
        "response = requests.get(url)\n",
        "with open(local_zip_file, 'wb') as file:\n",
        "    file.write(response.content)\n",
        "\n",
        "# Unzip the file\n",
        "with zipfile.ZipFile(local_zip_file, 'r') as zip_ref:\n",
        "    zip_ref.extractall(\".\")\n",
        "\n",
        "# Clean up the zip file\n",
        "os.remove(local_zip_file)"
      ]
    },
    {
      "cell_type": "code",
      "execution_count": 3,
      "id": "0e6d8762",
      "metadata": {
        "id": "0e6d8762"
      },
      "outputs": [
        {
          "name": "stdout",
          "output_type": "stream",
          "text": [
            "     label                                               text\n",
            "0        0  Dieser Film, nur so triefend von Kitsch, ist h...\n",
            "1        0  Wie so oft: Das Buch begeistert, der Film entt...\n",
            "2        1  Schon immer versuchten Männer ihre Gefühle geg...\n",
            "3        1  Wenn man sich durch 10 Minuten Disney-Trailer ...\n",
            "4        1  Eine echt geile nummer zum Abtanzen und feiern...\n",
            "..     ...                                                ...\n",
            "995      0  Ich dachte dies wäre ein richtig spannendes Bu...\n",
            "996      0  Wer sich den Schrott wirklich noch ansehen möc...\n",
            "997      0  Sicher, der Film greift ein aktuelles und hoch...\n",
            "998      1  Dieser Bildband lässt das Herz von Sarah Kay-F...\n",
            "999      1  ...so das war nun mein drittes Buch von Jenny-...\n",
            "\n",
            "[1000 rows x 2 columns]\n"
          ]
        }
      ],
      "source": [
        "import pandas as pd\n",
        "import warnings\n",
        "warnings.filterwarnings('ignore')\n",
        "\n",
        "train_de_df = pd.read_csv('amazon_review_sentiment_cross_lingual/de_train.tsv',\n",
        "                          sep='\\t', header=None, names=['label', 'text']) \\\n",
        "                .sample(1000, random_state=123)\n",
        "train_de_df.reset_index(inplace=True, drop=True)\n",
        "\n",
        "test_de_df = pd.read_csv('amazon_review_sentiment_cross_lingual/de_test.tsv',\n",
        "                          sep='\\t', header=None, names=['label', 'text']) \\\n",
        "               .sample(200, random_state=123)\n",
        "test_de_df.reset_index(inplace=True, drop=True)\n",
        "print(train_de_df)"
      ]
    },
    {
      "cell_type": "code",
      "execution_count": 4,
      "id": "fb9af1b4",
      "metadata": {
        "id": "fb9af1b4"
      },
      "outputs": [
        {
          "name": "stdout",
          "output_type": "stream",
          "text": [
            "     label                                               text\n",
            "0        0  This is a film that literally sees little wron...\n",
            "1        0  This music is pretty intelligent, but not very...\n",
            "2        0  One of the best pieces of rock ever recorded, ...\n",
            "3        0  Reading the posted reviews here, is like revis...\n",
            "4        1  I've just finished page 341, the last page. It...\n",
            "..     ...                                                ...\n",
            "995      1  This album deserves to be (at least) as popula...\n",
            "996      1  This book, one of the few that takes a more ac...\n",
            "997      1  I loved it because it really did show Sagan th...\n",
            "998      1  Stuart Gordons \"DAGON\" is a unique horror gem ...\n",
            "999      0  I've heard Al Lee speak before and thought tha...\n",
            "\n",
            "[1000 rows x 2 columns]\n"
          ]
        }
      ],
      "source": [
        "train_en_df = pd.read_csv('amazon_review_sentiment_cross_lingual/en_train.tsv',\n",
        "                          sep='\\t',\n",
        "                          header=None,\n",
        "                          names=['label', 'text']) \\\n",
        "                .sample(1000, random_state=123)\n",
        "train_en_df.reset_index(inplace=True, drop=True)\n",
        "\n",
        "test_en_df = pd.read_csv('amazon_review_sentiment_cross_lingual/en_test.tsv',\n",
        "                          sep='\\t',\n",
        "                          header=None,\n",
        "                          names=['label', 'text']) \\\n",
        "               .sample(200, random_state=123)\n",
        "test_en_df.reset_index(inplace=True, drop=True)\n",
        "print(train_en_df)"
      ]
    },
    {
      "cell_type": "markdown",
      "id": "cd6e6f88",
      "metadata": {
        "id": "cd6e6f88"
      },
      "source": [
        "## Finetune the German BERT\n",
        "\n",
        "Our first approach is to finetune the [German BERT model](https://www.deepset.ai/german-bert) pretrained by deepset.\n",
        "Since `MultiModalPredictor` integrates with the [Huggingface/Transformers](https://huggingface.co/docs/transformers/index) (as explained in [Customize AutoMM](../advanced_topics/customization.ipynb)),\n",
        "we directly load the German BERT model available in Huggingface/Transformers, with the key as [bert-base-german-cased](https://huggingface.co/bert-base-german-cased).\n",
        "To simplify the experiment, we also just finetune for 4 epochs."
      ]
    },
    {
      "cell_type": "code",
      "execution_count": 5,
      "id": "7847c87d",
      "metadata": {
        "id": "7847c87d"
      },
      "outputs": [
        {
          "name": "stdout",
          "output_type": "stream",
          "text": [
            "WARNING:tensorflow:From c:\\Users\\Anthony\\AppData\\Local\\Programs\\Python\\Python310\\lib\\site-packages\\keras\\src\\losses.py:2976: The name tf.losses.sparse_softmax_cross_entropy is deprecated. Please use tf.compat.v1.losses.sparse_softmax_cross_entropy instead.\n",
            "\n"
          ]
        },
        {
          "name": "stderr",
          "output_type": "stream",
          "text": [
            "No path specified. Models will be saved in: \"AutogluonModels\\ag-20240930_032209\"\n",
            "=================== System Info ===================\n",
            "AutoGluon Version:  1.1.1\n",
            "Python Version:     3.10.11\n",
            "Operating System:   Windows\n",
            "Platform Machine:   AMD64\n",
            "Platform Version:   10.0.22631\n",
            "CPU Count:          24\n",
            "Pytorch Version:    2.3.1+cpu\n",
            "CUDA Version:       CUDA is not available\n",
            "Memory Avail:       14.17 GB / 31.91 GB (44.4%)\n",
            "Disk Space Avail:   71.54 GB / 464.51 GB (15.4%)\n",
            "===================================================\n",
            "AutoGluon infers your prediction problem is: 'binary' (because only two unique label-values observed).\n",
            "\t2 unique label values:  [0, 1]\n",
            "\tIf 'binary' is not the correct problem_type, please manually specify the problem_type parameter during Predictor init (You may specify problem_type as one of: ['binary', 'multiclass', 'regression', 'quantile'])\n",
            "\n",
            "AutoMM starts to create your model. ✨✨✨\n",
            "\n",
            "To track the learning progress, you can open a terminal and launch Tensorboard:\n",
            "    ```shell\n",
            "    # Assume you have installed tensorboard\n",
            "    tensorboard --logdir c:\\Users\\Anthony\\Desktop\\Grad School\\CMPE 255\\Notebooks\\AutogluonModels\\ag-20240930_032209\n",
            "    ```\n",
            "\n",
            "Seed set to 0\n"
          ]
        },
        {
          "data": {
            "application/vnd.jupyter.widget-view+json": {
              "model_id": "e959b5ef1a1c4ad19b85f844f1c608b7",
              "version_major": 2,
              "version_minor": 0
            },
            "text/plain": [
              "config.json:   0%|          | 0.00/433 [00:00<?, ?B/s]"
            ]
          },
          "metadata": {},
          "output_type": "display_data"
        },
        {
          "data": {
            "application/vnd.jupyter.widget-view+json": {
              "model_id": "77bd07e515974de093cba4f2efe645f1",
              "version_major": 2,
              "version_minor": 0
            },
            "text/plain": [
              "model.safetensors:   0%|          | 0.00/439M [00:00<?, ?B/s]"
            ]
          },
          "metadata": {},
          "output_type": "display_data"
        },
        {
          "data": {
            "application/vnd.jupyter.widget-view+json": {
              "model_id": "a3e10b04c4a44b30afbe2f3f94fdf0fb",
              "version_major": 2,
              "version_minor": 0
            },
            "text/plain": [
              "tokenizer_config.json:   0%|          | 0.00/49.0 [00:00<?, ?B/s]"
            ]
          },
          "metadata": {},
          "output_type": "display_data"
        },
        {
          "data": {
            "application/vnd.jupyter.widget-view+json": {
              "model_id": "9242a7bdc22a4651a111c5dd5a6615dc",
              "version_major": 2,
              "version_minor": 0
            },
            "text/plain": [
              "vocab.txt:   0%|          | 0.00/255k [00:00<?, ?B/s]"
            ]
          },
          "metadata": {},
          "output_type": "display_data"
        },
        {
          "data": {
            "application/vnd.jupyter.widget-view+json": {
              "model_id": "1e648481f0344236831c8033f44d5abc",
              "version_major": 2,
              "version_minor": 0
            },
            "text/plain": [
              "tokenizer.json:   0%|          | 0.00/485k [00:00<?, ?B/s]"
            ]
          },
          "metadata": {},
          "output_type": "display_data"
        },
        {
          "name": "stderr",
          "output_type": "stream",
          "text": [
            "GPU Count: 0\n",
            "GPU Count to be Used: 0\n",
            "\n",
            "GPU available: False, used: False\n",
            "TPU available: False, using: 0 TPU cores\n",
            "HPU available: False, using: 0 HPUs\n",
            "\n",
            "  | Name              | Type                         | Params | Mode \n",
            "---------------------------------------------------------------------------\n",
            "0 | model             | HFAutoModelForTextPrediction | 109 M  | train\n",
            "1 | validation_metric | BinaryAUROC                  | 0      | train\n",
            "2 | loss_func         | CrossEntropyLoss             | 0      | train\n",
            "---------------------------------------------------------------------------\n",
            "109 M     Trainable params\n",
            "0         Non-trainable params\n",
            "109 M     Total params\n",
            "436.332   Total estimated model params size (MB)\n"
          ]
        },
        {
          "data": {
            "application/vnd.jupyter.widget-view+json": {
              "model_id": "d251f276d7684f6d9017c6ea349d4ca9",
              "version_major": 2,
              "version_minor": 0
            },
            "text/plain": [
              "Sanity Checking: |          | 0/? [00:00<?, ?it/s]"
            ]
          },
          "metadata": {},
          "output_type": "display_data"
        },
        {
          "data": {
            "application/vnd.jupyter.widget-view+json": {
              "model_id": "1b29691a46684e29a3a3392767fcb6db",
              "version_major": 2,
              "version_minor": 0
            },
            "text/plain": [
              "Training: |          | 0/? [00:00<?, ?it/s]"
            ]
          },
          "metadata": {},
          "output_type": "display_data"
        },
        {
          "data": {
            "application/vnd.jupyter.widget-view+json": {
              "model_id": "a9b33fa090b3415284cdb49e4a5f5c3d",
              "version_major": 2,
              "version_minor": 0
            },
            "text/plain": [
              "Validation: |          | 0/? [00:00<?, ?it/s]"
            ]
          },
          "metadata": {},
          "output_type": "display_data"
        },
        {
          "name": "stderr",
          "output_type": "stream",
          "text": [
            "Epoch 0, global step 3: 'val_roc_auc' reached 0.72366 (best 0.72366), saving model to 'C:\\\\Users\\\\Anthony\\\\Desktop\\\\Grad School\\\\CMPE 255\\\\Notebooks\\\\AutogluonModels\\\\ag-20240930_032209\\\\epoch=0-step=3.ckpt' as top 3\n"
          ]
        },
        {
          "data": {
            "application/vnd.jupyter.widget-view+json": {
              "model_id": "74bce8770bfe40dbb0f5acf5a9f4899f",
              "version_major": 2,
              "version_minor": 0
            },
            "text/plain": [
              "Validation: |          | 0/? [00:00<?, ?it/s]"
            ]
          },
          "metadata": {},
          "output_type": "display_data"
        },
        {
          "name": "stderr",
          "output_type": "stream",
          "text": [
            "Epoch 0, global step 7: 'val_roc_auc' reached 0.81851 (best 0.81851), saving model to 'C:\\\\Users\\\\Anthony\\\\Desktop\\\\Grad School\\\\CMPE 255\\\\Notebooks\\\\AutogluonModels\\\\ag-20240930_032209\\\\epoch=0-step=7.ckpt' as top 3\n"
          ]
        },
        {
          "data": {
            "application/vnd.jupyter.widget-view+json": {
              "model_id": "2408d6f434a441778b75115dd734c4f0",
              "version_major": 2,
              "version_minor": 0
            },
            "text/plain": [
              "Validation: |          | 0/? [00:00<?, ?it/s]"
            ]
          },
          "metadata": {},
          "output_type": "display_data"
        },
        {
          "name": "stderr",
          "output_type": "stream",
          "text": [
            "Epoch 1, global step 10: 'val_roc_auc' reached 0.84175 (best 0.84175), saving model to 'C:\\\\Users\\\\Anthony\\\\Desktop\\\\Grad School\\\\CMPE 255\\\\Notebooks\\\\AutogluonModels\\\\ag-20240930_032209\\\\epoch=1-step=10.ckpt' as top 3\n"
          ]
        },
        {
          "data": {
            "application/vnd.jupyter.widget-view+json": {
              "model_id": "bed966c905c94167987acbc9dc2f8171",
              "version_major": 2,
              "version_minor": 0
            },
            "text/plain": [
              "Validation: |          | 0/? [00:00<?, ?it/s]"
            ]
          },
          "metadata": {},
          "output_type": "display_data"
        },
        {
          "name": "stderr",
          "output_type": "stream",
          "text": [
            "Epoch 1, global step 14: 'val_roc_auc' reached 0.84675 (best 0.84675), saving model to 'C:\\\\Users\\\\Anthony\\\\Desktop\\\\Grad School\\\\CMPE 255\\\\Notebooks\\\\AutogluonModels\\\\ag-20240930_032209\\\\epoch=1-step=14.ckpt' as top 3\n",
            "`Trainer.fit` stopped: `max_epochs=2` reached.\n",
            "Start to fuse 3 checkpoints via the greedy soup algorithm.\n"
          ]
        },
        {
          "data": {
            "application/vnd.jupyter.widget-view+json": {
              "model_id": "5834accb14884475b6456c81ce9b4509",
              "version_major": 2,
              "version_minor": 0
            },
            "text/plain": [
              "Predicting: |          | 0/? [00:00<?, ?it/s]"
            ]
          },
          "metadata": {},
          "output_type": "display_data"
        },
        {
          "data": {
            "application/vnd.jupyter.widget-view+json": {
              "model_id": "3cbe8a15ceed4c099b9c2a28ccf209bb",
              "version_major": 2,
              "version_minor": 0
            },
            "text/plain": [
              "Predicting: |          | 0/? [00:00<?, ?it/s]"
            ]
          },
          "metadata": {},
          "output_type": "display_data"
        },
        {
          "data": {
            "application/vnd.jupyter.widget-view+json": {
              "model_id": "d87a7b2b18fd4e6bb8e8d0af75ff4aa1",
              "version_major": 2,
              "version_minor": 0
            },
            "text/plain": [
              "Predicting: |          | 0/? [00:00<?, ?it/s]"
            ]
          },
          "metadata": {},
          "output_type": "display_data"
        },
        {
          "name": "stderr",
          "output_type": "stream",
          "text": [
            "AutoMM has created your model. 🎉🎉🎉\n",
            "\n",
            "To load the model, use the code below:\n",
            "    ```python\n",
            "    from autogluon.multimodal import MultiModalPredictor\n",
            "    predictor = MultiModalPredictor.load(\"c:\\Users\\Anthony\\Desktop\\Grad School\\CMPE 255\\Notebooks\\AutogluonModels\\ag-20240930_032209\")\n",
            "    ```\n",
            "\n",
            "If you are not satisfied with the model, try to increase the training time, \n",
            "adjust the hyperparameters (https://auto.gluon.ai/stable/tutorials/multimodal/advanced_topics/customization.html),\n",
            "or post issues on GitHub (https://github.com/autogluon/autogluon/issues).\n",
            "\n",
            "\n"
          ]
        },
        {
          "data": {
            "text/plain": [
              "<autogluon.multimodal.predictor.MultiModalPredictor at 0x1c2188fa2c0>"
            ]
          },
          "execution_count": 5,
          "metadata": {},
          "output_type": "execute_result"
        }
      ],
      "source": [
        "from autogluon.multimodal import MultiModalPredictor\n",
        "\n",
        "predictor = MultiModalPredictor(label='label')\n",
        "predictor.fit(train_de_df,\n",
        "              hyperparameters={\n",
        "                  'model.hf_text.checkpoint_name': 'bert-base-german-cased',\n",
        "                  'optimization.max_epochs': 2\n",
        "              })"
      ]
    },
    {
      "cell_type": "code",
      "execution_count": 6,
      "id": "5c74da3e",
      "metadata": {
        "id": "5c74da3e"
      },
      "outputs": [
        {
          "data": {
            "application/vnd.jupyter.widget-view+json": {
              "model_id": "d66e8494cea446a48be27c85b614741a",
              "version_major": 2,
              "version_minor": 0
            },
            "text/plain": [
              "Predicting: |          | 0/? [00:00<?, ?it/s]"
            ]
          },
          "metadata": {},
          "output_type": "display_data"
        },
        {
          "name": "stdout",
          "output_type": "stream",
          "text": [
            "Score on the German Testset:\n",
            "{'roc_auc': 0.8332331730769231}\n"
          ]
        }
      ],
      "source": [
        "score = predictor.evaluate(test_de_df)\n",
        "print('Score on the German Testset:')\n",
        "print(score)"
      ]
    },
    {
      "cell_type": "code",
      "execution_count": 7,
      "id": "6b579571",
      "metadata": {
        "id": "6b579571"
      },
      "outputs": [
        {
          "data": {
            "application/vnd.jupyter.widget-view+json": {
              "model_id": "fae6433b8a334649802e0f94447b97f8",
              "version_major": 2,
              "version_minor": 0
            },
            "text/plain": [
              "Predicting: |          | 0/? [00:00<?, ?it/s]"
            ]
          },
          "metadata": {},
          "output_type": "display_data"
        },
        {
          "name": "stdout",
          "output_type": "stream",
          "text": [
            "Score on the English Testset:\n",
            "{'roc_auc': 0.5745151241081299}\n"
          ]
        }
      ],
      "source": [
        "score = predictor.evaluate(test_en_df)\n",
        "print('Score on the English Testset:')\n",
        "print(score)"
      ]
    },
    {
      "cell_type": "markdown",
      "id": "4ea2ef6b",
      "metadata": {
        "id": "4ea2ef6b"
      },
      "source": [
        "We can find that the model can achieve good performance on the German dataset but performs poorly on the English dataset.\n",
        "Next, we will show how to enable cross-lingual transfer so you can get a model that can magically work for **both German and English**.\n",
        "\n",
        "## Cross-lingual Transfer\n",
        "\n",
        "In the real-world scenario, it is pretty common that you have trained a model for English and would like to extend the model to support other languages like German.\n",
        "This setting is also known as cross-lingual transfer. One way to solve the problem is to apply a machine translation model to translate the sentences from the\n",
        "other language (e.g., German) to English and apply the English model.\n",
        "However, as showed in [\"Unsupervised Cross-lingual Representation Learning at Scale\"](https://arxiv.org/pdf/1911.02116.pdf),\n",
        "there is a better and cost-friendlier way for cross lingual transfer, enabled via large-scale multilingual pretraining.\n",
        "The author showed that via large-scale pretraining, the backbone (called XLM-R) is able to conduct *zero-shot* cross lingual transfer,\n",
        "meaning that you can directly apply the model trained in the English dataset to datasets in other languages.\n",
        "It also outperforms the baseline \"TRANSLATE-TEST\", meaning to translate the data from other languages to English and apply the English model.\n",
        "\n",
        "In AutoGluon, you can just turn on `presets=\"multilingual\"` in MultiModalPredictor to load a backbone that is suitable for zero-shot transfer.\n",
        "Internally, we will automatically use state-of-the-art models like [DeBERTa-V3](https://arxiv.org/abs/2111.09543)."
      ]
    },
    {
      "cell_type": "code",
      "execution_count": 8,
      "id": "64cfea80",
      "metadata": {
        "id": "64cfea80"
      },
      "outputs": [
        {
          "name": "stderr",
          "output_type": "stream",
          "text": [
            "No path specified. Models will be saved in: \"AutogluonModels\\ag-20240930_042130\"\n",
            "=================== System Info ===================\n",
            "AutoGluon Version:  1.1.1\n",
            "Python Version:     3.10.11\n",
            "Operating System:   Windows\n",
            "Platform Machine:   AMD64\n",
            "Platform Version:   10.0.22631\n",
            "CPU Count:          24\n",
            "Pytorch Version:    2.3.1+cpu\n",
            "CUDA Version:       CUDA is not available\n",
            "Memory Avail:       8.85 GB / 31.91 GB (27.7%)\n",
            "Disk Space Avail:   49.01 GB / 464.51 GB (10.6%)\n",
            "===================================================\n",
            "AutoGluon infers your prediction problem is: 'binary' (because only two unique label-values observed).\n",
            "\t2 unique label values:  [0, 1]\n",
            "\tIf 'binary' is not the correct problem_type, please manually specify the problem_type parameter during Predictor init (You may specify problem_type as one of: ['binary', 'multiclass', 'regression', 'quantile'])\n",
            "\n",
            "AutoMM starts to create your model. ✨✨✨\n",
            "\n",
            "To track the learning progress, you can open a terminal and launch Tensorboard:\n",
            "    ```shell\n",
            "    # Assume you have installed tensorboard\n",
            "    tensorboard --logdir c:\\Users\\Anthony\\Desktop\\Grad School\\CMPE 255\\Notebooks\\AutogluonModels\\ag-20240930_042130\n",
            "    ```\n",
            "\n",
            "Seed set to 0\n"
          ]
        },
        {
          "data": {
            "application/vnd.jupyter.widget-view+json": {
              "model_id": "eee8da22340f4406895fc7adeaca122f",
              "version_major": 2,
              "version_minor": 0
            },
            "text/plain": [
              "config.json:   0%|          | 0.00/579 [00:00<?, ?B/s]"
            ]
          },
          "metadata": {},
          "output_type": "display_data"
        },
        {
          "data": {
            "application/vnd.jupyter.widget-view+json": {
              "model_id": "7c8e1f3d5d564cabb5779615202cd4a5",
              "version_major": 2,
              "version_minor": 0
            },
            "text/plain": [
              "pytorch_model.bin:   0%|          | 0.00/1.33G [00:00<?, ?B/s]"
            ]
          },
          "metadata": {},
          "output_type": "display_data"
        },
        {
          "data": {
            "application/vnd.jupyter.widget-view+json": {
              "model_id": "c19b990c5a2a4bc1a6a20cbe7b4c64cf",
              "version_major": 2,
              "version_minor": 0
            },
            "text/plain": [
              "tokenizer_config.json:   0%|          | 0.00/52.0 [00:00<?, ?B/s]"
            ]
          },
          "metadata": {},
          "output_type": "display_data"
        },
        {
          "data": {
            "application/vnd.jupyter.widget-view+json": {
              "model_id": "cc326249ee6146a7b8bcb1c8da47e0bd",
              "version_major": 2,
              "version_minor": 0
            },
            "text/plain": [
              "spm.model:   0%|          | 0.00/4.31M [00:00<?, ?B/s]"
            ]
          },
          "metadata": {},
          "output_type": "display_data"
        },
        {
          "name": "stderr",
          "output_type": "stream",
          "text": [
            "GPU Count: 0\n",
            "GPU Count to be Used: 0\n",
            "\n",
            "GPU available: False, used: False\n",
            "TPU available: False, using: 0 TPU cores\n",
            "HPU available: False, using: 0 HPUs\n",
            "\n",
            "  | Name              | Type                         | Params | Mode \n",
            "---------------------------------------------------------------------------\n",
            "0 | model             | HFAutoModelForTextPrediction | 278 M  | train\n",
            "1 | validation_metric | BinaryAUROC                  | 0      | train\n",
            "2 | loss_func         | CrossEntropyLoss             | 0      | train\n",
            "---------------------------------------------------------------------------\n",
            "278 M     Trainable params\n",
            "0         Non-trainable params\n",
            "278 M     Total params\n",
            "1,112.881 Total estimated model params size (MB)\n"
          ]
        },
        {
          "data": {
            "application/vnd.jupyter.widget-view+json": {
              "model_id": "61948562d3ba40e9908b7a9558ee1640",
              "version_major": 2,
              "version_minor": 0
            },
            "text/plain": [
              "Sanity Checking: |          | 0/? [00:00<?, ?it/s]"
            ]
          },
          "metadata": {},
          "output_type": "display_data"
        },
        {
          "data": {
            "application/vnd.jupyter.widget-view+json": {
              "model_id": "793685b2ea024db19419f9380041175f",
              "version_major": 2,
              "version_minor": 0
            },
            "text/plain": [
              "Training: |          | 0/? [00:00<?, ?it/s]"
            ]
          },
          "metadata": {},
          "output_type": "display_data"
        },
        {
          "name": "stderr",
          "output_type": "stream",
          "text": [
            "Time limit reached. Elapsed time is 0:01:01. Signaling Trainer to stop.\n"
          ]
        },
        {
          "data": {
            "application/vnd.jupyter.widget-view+json": {
              "model_id": "d5cda2d77789414fab8137ed642dc577",
              "version_major": 2,
              "version_minor": 0
            },
            "text/plain": [
              "Validation: |          | 0/? [00:00<?, ?it/s]"
            ]
          },
          "metadata": {},
          "output_type": "display_data"
        },
        {
          "name": "stderr",
          "output_type": "stream",
          "text": [
            "AutoMM has created your model. 🎉🎉🎉\n",
            "\n",
            "To load the model, use the code below:\n",
            "    ```python\n",
            "    from autogluon.multimodal import MultiModalPredictor\n",
            "    predictor = MultiModalPredictor.load(\"c:\\Users\\Anthony\\Desktop\\Grad School\\CMPE 255\\Notebooks\\AutogluonModels\\ag-20240930_042130\")\n",
            "    ```\n",
            "\n",
            "If you are not satisfied with the model, try to increase the training time, \n",
            "adjust the hyperparameters (https://auto.gluon.ai/stable/tutorials/multimodal/advanced_topics/customization.html),\n",
            "or post issues on GitHub (https://github.com/autogluon/autogluon/issues).\n",
            "\n",
            "\n"
          ]
        },
        {
          "data": {
            "text/plain": [
              "<autogluon.multimodal.predictor.MultiModalPredictor at 0x1c2957c9d50>"
            ]
          },
          "execution_count": 8,
          "metadata": {},
          "output_type": "execute_result"
        }
      ],
      "source": [
        "from autogluon.multimodal import MultiModalPredictor\n",
        "\n",
        "predictor = MultiModalPredictor(label='label')\n",
        "predictor.fit(train_en_df,\n",
        "              presets='multilingual',time_limit=60,\n",
        "              hyperparameters={\n",
        "                  'optimization.max_epochs': 2\n",
        "              })"
      ]
    },
    {
      "cell_type": "code",
      "execution_count": 9,
      "id": "72e73dc9",
      "metadata": {
        "id": "72e73dc9"
      },
      "outputs": [
        {
          "data": {
            "application/vnd.jupyter.widget-view+json": {
              "model_id": "506993b601224f3185964fbd7a620868",
              "version_major": 2,
              "version_minor": 0
            },
            "text/plain": [
              "Predicting: |          | 0/? [00:00<?, ?it/s]"
            ]
          },
          "metadata": {},
          "output_type": "display_data"
        },
        {
          "name": "stdout",
          "output_type": "stream",
          "text": [
            "Score in the English Testset:\n",
            "{'roc_auc': 0.5894884936187317}\n"
          ]
        }
      ],
      "source": [
        "score_in_en = predictor.evaluate(test_en_df)\n",
        "print('Score in the English Testset:')\n",
        "print(score_in_en)"
      ]
    },
    {
      "cell_type": "code",
      "execution_count": 10,
      "id": "e7073e87",
      "metadata": {
        "id": "e7073e87"
      },
      "outputs": [
        {
          "data": {
            "application/vnd.jupyter.widget-view+json": {
              "model_id": "e611b705aceb4cf5a395f3780ccd0405",
              "version_major": 2,
              "version_minor": 0
            },
            "text/plain": [
              "Predicting: |          | 0/? [00:00<?, ?it/s]"
            ]
          },
          "metadata": {},
          "output_type": "display_data"
        },
        {
          "name": "stdout",
          "output_type": "stream",
          "text": [
            "Score in the German Testset:\n",
            "{'roc_auc': 0.523036858974359}\n"
          ]
        }
      ],
      "source": [
        "score_in_de = predictor.evaluate(test_de_df)\n",
        "print('Score in the German Testset:')\n",
        "print(score_in_de)"
      ]
    },
    {
      "cell_type": "markdown",
      "id": "4e057696",
      "metadata": {
        "id": "4e057696"
      },
      "source": [
        "We can see that the model works for both German and English!\n",
        "\n",
        "Let's also inspect the model's performance on Japanese:"
      ]
    },
    {
      "cell_type": "code",
      "execution_count": 11,
      "id": "9f79a6f4",
      "metadata": {
        "id": "9f79a6f4"
      },
      "outputs": [
        {
          "name": "stdout",
          "output_type": "stream",
          "text": [
            "     label                                               text\n",
            "0        1  原作はビクトル・ユーゴの長編小説だが、私が子供の頃読んだのは短縮版の「ああ無情」。それでもこ...\n",
            "1        1  ほかの作品のレビューにみんな書いているのに、何故この作品について書いている人が一人しかいない...\n",
            "2        0  一番の問題点は青島が出ていない事でしょう。  ＴＶ番組では『芸人が出ていればバラエティだから...\n",
            "3        0  昔、 りんたろう監督によるアニメ「カムイの剣」があった。  「カムイの剣」…を観た人なら本作...\n",
            "4        1  以前のアルバムを聴いていないのでなんとも言えないが、クラシックなメタルを聞いてきた耳には、と...\n",
            "..     ...                                                ...\n",
            "195      0  原作が面白く、このDVDも期待して観ただけに非常にがっかりしました。  脚本としては単に格闘...\n",
            "196      0                              フェードインやフェードアウトが多すぎます。\n",
            "197      0  流通形態云々については特に革命と言う気はしない。  これからもＣＤは普通に発売されるだろうし...\n",
            "198      1  もうＴＶとか、最近の映画とか、観なくていいよ。  脳に楽なエンターテイメントだから。  脳を...\n",
            "199      0  みんなさんは、手塚治虫先生の「1985への出発」という漫画を読んだことがありますでしょうか？...\n",
            "\n",
            "[200 rows x 2 columns]\n"
          ]
        }
      ],
      "source": [
        "test_jp_df = pd.read_csv('amazon_review_sentiment_cross_lingual/jp_test.tsv',\n",
        "                          sep='\\t', header=None, names=['label', 'text']) \\\n",
        "               .sample(200, random_state=123)\n",
        "test_jp_df.reset_index(inplace=True, drop=True)\n",
        "print(test_jp_df)"
      ]
    },
    {
      "cell_type": "code",
      "execution_count": 12,
      "id": "c2f64266",
      "metadata": {
        "id": "c2f64266"
      },
      "outputs": [
        {
          "name": "stdout",
          "output_type": "stream",
          "text": [
            "Negative labe ratio of the Japanese Testset= 0.575\n"
          ]
        },
        {
          "data": {
            "application/vnd.jupyter.widget-view+json": {
              "model_id": "f04ce6b562ab492b8b7f971c6d4b3146",
              "version_major": 2,
              "version_minor": 0
            },
            "text/plain": [
              "Predicting: |          | 0/? [00:00<?, ?it/s]"
            ]
          },
          "metadata": {},
          "output_type": "display_data"
        },
        {
          "name": "stdout",
          "output_type": "stream",
          "text": [
            "Score in the Japanese Testset:\n",
            "{'roc_auc': 0.5270588235294117}\n"
          ]
        }
      ],
      "source": [
        "print('Negative labe ratio of the Japanese Testset=', test_jp_df['label'].value_counts()[0] / len(test_jp_df))\n",
        "score_in_jp = predictor.evaluate(test_jp_df)\n",
        "print('Score in the Japanese Testset:')\n",
        "print(score_in_jp)"
      ]
    },
    {
      "cell_type": "markdown",
      "id": "c4ba2df9",
      "metadata": {
        "id": "c4ba2df9"
      },
      "source": [
        "Amazingly, the model also works for Japanese!\n",
        "\n",
        "## Other Examples\n",
        "\n",
        "You may go to [AutoMM Examples](https://github.com/autogluon/autogluon/tree/master/examples/automm) to explore other examples about AutoMM.\n",
        "\n",
        "## Customization\n",
        "To learn how to customize AutoMM, please refer to [Customize AutoMM](../advanced_topics/customization.ipynb)."
      ]
    }
  ],
  "metadata": {
    "colab": {
      "provenance": []
    },
    "kernelspec": {
      "display_name": "Python 3",
      "language": "python",
      "name": "python3"
    },
    "language_info": {
      "codemirror_mode": {
        "name": "ipython",
        "version": 3
      },
      "file_extension": ".py",
      "mimetype": "text/x-python",
      "name": "python",
      "nbconvert_exporter": "python",
      "pygments_lexer": "ipython3",
      "version": "3.10.11"
    }
  },
  "nbformat": 4,
  "nbformat_minor": 5
}
