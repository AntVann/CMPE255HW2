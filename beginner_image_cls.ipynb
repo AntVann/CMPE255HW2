{
  "cells": [
    {
      "cell_type": "markdown",
      "id": "a4292c3b",
      "metadata": {
        "id": "a4292c3b"
      },
      "source": [
        "# AutoMM for Image Classification - Quick Start\n",
        "\n",
        "[![Open In Colab](https://colab.research.google.com/assets/colab-badge.svg)](https://colab.research.google.com/github/autogluon/autogluon/blob/stable/docs/tutorials/multimodal/image_prediction/beginner_image_cls.ipynb)\n",
        "[![Open In SageMaker Studio Lab](https://studiolab.sagemaker.aws/studiolab.svg)](https://studiolab.sagemaker.aws/import/github/autogluon/autogluon/blob/stable/docs/tutorials/multimodal/image_prediction/beginner_image_cls.ipynb)\n",
        "\n",
        "\n",
        "\n",
        "In this quick start, we'll use the task of image classification to illustrate how to use **MultiModalPredictor**. Once the data is prepared in [Pandas DataFrame](https://pandas.pydata.org/pandas-docs/stable/reference/api/pandas.DataFrame.html) format, a single call to `MultiModalPredictor.fit()` will take care of the model training for you.\n",
        "\n",
        "\n",
        "## Create Image Dataset\n",
        "\n",
        "For demonstration purposes, we use a subset of the [Shopee-IET dataset](https://www.kaggle.com/competitions/demo-shopee-iet-competition/data) from Kaggle.\n",
        "Each image in this data depicts a clothing item and the corresponding label specifies its clothing category.\n",
        "Our subset of the data contains the following possible labels: `BabyPants`, `BabyShirt`, `womencasualshoes`, `womenchiffontop`.\n",
        "\n",
        "We can load a dataset by downloading a url data automatically:"
      ]
    },
    {
      "cell_type": "code",
      "execution_count": 1,
      "id": "aa00faab-252f-44c9-b8f7-57131aa8251c",
      "metadata": {
        "id": "aa00faab-252f-44c9-b8f7-57131aa8251c",
        "tags": [
          "remove-cell"
        ]
      },
      "outputs": [
        {
          "name": "stdout",
          "output_type": "stream",
          "text": [
            "Requirement already satisfied: autogluon.multimodal in c:\\users\\anthony\\appdata\\local\\programs\\python\\python310\\lib\\site-packages (1.1.1)\n",
            "Requirement already satisfied: numpy<1.29,>=1.21 in c:\\users\\anthony\\appdata\\local\\programs\\python\\python310\\lib\\site-packages (from autogluon.multimodal) (1.23.5)\n",
            "Requirement already satisfied: scipy<1.13,>=1.5.4 in c:\\users\\anthony\\appdata\\local\\programs\\python\\python310\\lib\\site-packages (from autogluon.multimodal) (1.10.1)\n",
            "Requirement already satisfied: pandas<2.3.0,>=2.0.0 in c:\\users\\anthony\\appdata\\local\\programs\\python\\python310\\lib\\site-packages (from autogluon.multimodal) (2.0.3)\n",
            "Requirement already satisfied: scikit-learn<1.4.1,>=1.3.0 in c:\\users\\anthony\\appdata\\local\\programs\\python\\python310\\lib\\site-packages (from autogluon.multimodal) (1.4.0)\n",
            "Requirement already satisfied: Pillow<11,>=10.0.1 in c:\\users\\anthony\\appdata\\local\\programs\\python\\python310\\lib\\site-packages (from autogluon.multimodal) (10.4.0)\n",
            "Requirement already satisfied: tqdm<5,>=4.38 in c:\\users\\anthony\\appdata\\local\\programs\\python\\python310\\lib\\site-packages (from autogluon.multimodal) (4.66.5)\n",
            "Requirement already satisfied: boto3<2,>=1.10 in c:\\users\\anthony\\appdata\\local\\programs\\python\\python310\\lib\\site-packages (from autogluon.multimodal) (1.35.24)\n",
            "Requirement already satisfied: torch<2.4,>=2.2 in c:\\users\\anthony\\appdata\\local\\programs\\python\\python310\\lib\\site-packages (from autogluon.multimodal) (2.3.1)\n",
            "Requirement already satisfied: lightning<2.4,>=2.2 in c:\\users\\anthony\\appdata\\local\\programs\\python\\python310\\lib\\site-packages (from autogluon.multimodal) (2.3.3)\n",
            "Requirement already satisfied: transformers<4.41.0,>=4.38.0 in c:\\users\\anthony\\appdata\\local\\programs\\python\\python310\\lib\\site-packages (from transformers[sentencepiece]<4.41.0,>=4.38.0->autogluon.multimodal) (4.40.2)\n",
            "Requirement already satisfied: accelerate<0.22.0,>=0.21.0 in c:\\users\\anthony\\appdata\\local\\programs\\python\\python310\\lib\\site-packages (from autogluon.multimodal) (0.21.0)\n",
            "Requirement already satisfied: requests<3,>=2.21 in c:\\users\\anthony\\appdata\\local\\programs\\python\\python310\\lib\\site-packages (from autogluon.multimodal) (2.32.3)\n",
            "Requirement already satisfied: jsonschema<4.22,>=4.18 in c:\\users\\anthony\\appdata\\local\\programs\\python\\python310\\lib\\site-packages (from autogluon.multimodal) (4.21.1)\n",
            "Requirement already satisfied: seqeval<1.3.0,>=1.2.2 in c:\\users\\anthony\\appdata\\local\\programs\\python\\python310\\lib\\site-packages (from autogluon.multimodal) (1.2.2)\n",
            "Requirement already satisfied: evaluate<0.5.0,>=0.4.0 in c:\\users\\anthony\\appdata\\local\\programs\\python\\python310\\lib\\site-packages (from autogluon.multimodal) (0.4.3)\n",
            "Requirement already satisfied: timm<0.10.0,>=0.9.5 in c:\\users\\anthony\\appdata\\local\\programs\\python\\python310\\lib\\site-packages (from autogluon.multimodal) (0.9.16)\n",
            "Requirement already satisfied: torchvision<0.19.0,>=0.16.0 in c:\\users\\anthony\\appdata\\local\\programs\\python\\python310\\lib\\site-packages (from autogluon.multimodal) (0.18.1)\n",
            "Requirement already satisfied: scikit-image<0.21.0,>=0.19.1 in c:\\users\\anthony\\appdata\\local\\programs\\python\\python310\\lib\\site-packages (from autogluon.multimodal) (0.20.0)\n",
            "Requirement already satisfied: text-unidecode<1.4,>=1.3 in c:\\users\\anthony\\appdata\\local\\programs\\python\\python310\\lib\\site-packages (from autogluon.multimodal) (1.3)\n",
            "Requirement already satisfied: torchmetrics<1.3.0,>=1.2.0 in c:\\users\\anthony\\appdata\\local\\programs\\python\\python310\\lib\\site-packages (from autogluon.multimodal) (1.2.1)\n",
            "Requirement already satisfied: nptyping<2.5.0,>=1.4.4 in c:\\users\\anthony\\appdata\\local\\programs\\python\\python310\\lib\\site-packages (from autogluon.multimodal) (2.4.1)\n",
            "Requirement already satisfied: omegaconf<2.3.0,>=2.1.1 in c:\\users\\anthony\\appdata\\local\\programs\\python\\python310\\lib\\site-packages (from autogluon.multimodal) (2.2.3)\n",
            "Requirement already satisfied: autogluon.core==1.1.1 in c:\\users\\anthony\\appdata\\local\\programs\\python\\python310\\lib\\site-packages (from autogluon.core[raytune]==1.1.1->autogluon.multimodal) (1.1.1)\n",
            "Requirement already satisfied: autogluon.features==1.1.1 in c:\\users\\anthony\\appdata\\local\\programs\\python\\python310\\lib\\site-packages (from autogluon.multimodal) (1.1.1)\n",
            "Requirement already satisfied: autogluon.common==1.1.1 in c:\\users\\anthony\\appdata\\local\\programs\\python\\python310\\lib\\site-packages (from autogluon.multimodal) (1.1.1)\n",
            "Requirement already satisfied: pytorch-metric-learning<2.4,>=1.3.0 in c:\\users\\anthony\\appdata\\local\\programs\\python\\python310\\lib\\site-packages (from autogluon.multimodal) (2.3.0)\n",
            "Requirement already satisfied: nlpaug<1.2.0,>=1.1.10 in c:\\users\\anthony\\appdata\\local\\programs\\python\\python310\\lib\\site-packages (from autogluon.multimodal) (1.1.11)\n",
            "Requirement already satisfied: nltk<4.0.0,>=3.4.5 in c:\\users\\anthony\\appdata\\local\\programs\\python\\python310\\lib\\site-packages (from autogluon.multimodal) (3.9.1)\n",
            "Requirement already satisfied: openmim<0.4.0,>=0.3.7 in c:\\users\\anthony\\appdata\\local\\programs\\python\\python310\\lib\\site-packages (from autogluon.multimodal) (0.3.9)\n",
            "Requirement already satisfied: defusedxml<0.7.2,>=0.7.1 in c:\\users\\anthony\\appdata\\local\\programs\\python\\python310\\lib\\site-packages (from autogluon.multimodal) (0.7.1)\n",
            "Requirement already satisfied: jinja2<3.2,>=3.0.3 in c:\\users\\anthony\\appdata\\local\\programs\\python\\python310\\lib\\site-packages (from autogluon.multimodal) (3.1.2)\n",
            "Requirement already satisfied: tensorboard<3,>=2.9 in c:\\users\\anthony\\appdata\\local\\programs\\python\\python310\\lib\\site-packages (from autogluon.multimodal) (2.15.2)\n",
            "Requirement already satisfied: pytesseract<0.3.11,>=0.3.9 in c:\\users\\anthony\\appdata\\local\\programs\\python\\python310\\lib\\site-packages (from autogluon.multimodal) (0.3.10)\n",
            "Requirement already satisfied: nvidia-ml-py3==7.352.0 in c:\\users\\anthony\\appdata\\local\\programs\\python\\python310\\lib\\site-packages (from autogluon.multimodal) (7.352.0)\n",
            "Requirement already satisfied: pdf2image<1.19,>=1.17.0 in c:\\users\\anthony\\appdata\\local\\programs\\python\\python310\\lib\\site-packages (from autogluon.multimodal) (1.17.0)\n",
            "Requirement already satisfied: psutil<6,>=5.7.3 in c:\\users\\anthony\\appdata\\roaming\\python\\python310\\site-packages (from autogluon.common==1.1.1->autogluon.multimodal) (5.9.5)\n",
            "Requirement already satisfied: setuptools in c:\\users\\anthony\\appdata\\local\\programs\\python\\python310\\lib\\site-packages (from autogluon.common==1.1.1->autogluon.multimodal) (75.1.0)\n",
            "Requirement already satisfied: networkx<4,>=3.0 in c:\\users\\anthony\\appdata\\local\\programs\\python\\python310\\lib\\site-packages (from autogluon.core==1.1.1->autogluon.core[raytune]==1.1.1->autogluon.multimodal) (3.3)\n",
            "Requirement already satisfied: matplotlib in c:\\users\\anthony\\appdata\\local\\programs\\python\\python310\\lib\\site-packages (from autogluon.core==1.1.1->autogluon.core[raytune]==1.1.1->autogluon.multimodal) (3.7.1)\n",
            "Requirement already satisfied: ray<2.11,>=2.10.0 in c:\\users\\anthony\\appdata\\local\\programs\\python\\python310\\lib\\site-packages (from ray[default,tune]<2.11,>=2.10.0; extra == \"raytune\"->autogluon.core[raytune]==1.1.1->autogluon.multimodal) (2.10.0)\n",
            "Requirement already satisfied: hyperopt<0.2.8,>=0.2.7 in c:\\users\\anthony\\appdata\\local\\programs\\python\\python310\\lib\\site-packages (from autogluon.core[raytune]==1.1.1->autogluon.multimodal) (0.2.7)\n",
            "Requirement already satisfied: packaging>=20.0 in c:\\users\\anthony\\appdata\\local\\programs\\python\\python310\\lib\\site-packages (from accelerate<0.22.0,>=0.21.0->autogluon.multimodal) (24.1)\n",
            "Requirement already satisfied: pyyaml in c:\\users\\anthony\\appdata\\local\\programs\\python\\python310\\lib\\site-packages (from accelerate<0.22.0,>=0.21.0->autogluon.multimodal) (6.0.2)\n",
            "Requirement already satisfied: botocore<1.36.0,>=1.35.24 in c:\\users\\anthony\\appdata\\local\\programs\\python\\python310\\lib\\site-packages (from boto3<2,>=1.10->autogluon.multimodal) (1.35.24)\n",
            "Requirement already satisfied: jmespath<2.0.0,>=0.7.1 in c:\\users\\anthony\\appdata\\local\\programs\\python\\python310\\lib\\site-packages (from boto3<2,>=1.10->autogluon.multimodal) (1.0.1)\n",
            "Requirement already satisfied: s3transfer<0.11.0,>=0.10.0 in c:\\users\\anthony\\appdata\\local\\programs\\python\\python310\\lib\\site-packages (from boto3<2,>=1.10->autogluon.multimodal) (0.10.2)\n",
            "Requirement already satisfied: datasets>=2.0.0 in c:\\users\\anthony\\appdata\\local\\programs\\python\\python310\\lib\\site-packages (from evaluate<0.5.0,>=0.4.0->autogluon.multimodal) (3.0.1)\n",
            "Requirement already satisfied: dill in c:\\users\\anthony\\appdata\\local\\programs\\python\\python310\\lib\\site-packages (from evaluate<0.5.0,>=0.4.0->autogluon.multimodal) (0.3.8)\n",
            "Requirement already satisfied: xxhash in c:\\users\\anthony\\appdata\\local\\programs\\python\\python310\\lib\\site-packages (from evaluate<0.5.0,>=0.4.0->autogluon.multimodal) (3.5.0)\n",
            "Requirement already satisfied: multiprocess in c:\\users\\anthony\\appdata\\local\\programs\\python\\python310\\lib\\site-packages (from evaluate<0.5.0,>=0.4.0->autogluon.multimodal) (0.70.16)\n",
            "Requirement already satisfied: fsspec>=2021.05.0 in c:\\users\\anthony\\appdata\\local\\programs\\python\\python310\\lib\\site-packages (from fsspec[http]>=2021.05.0->evaluate<0.5.0,>=0.4.0->autogluon.multimodal) (2024.6.1)\n",
            "Requirement already satisfied: huggingface-hub>=0.7.0 in c:\\users\\anthony\\appdata\\local\\programs\\python\\python310\\lib\\site-packages (from evaluate<0.5.0,>=0.4.0->autogluon.multimodal) (0.25.0)\n",
            "Requirement already satisfied: MarkupSafe>=2.0 in c:\\users\\anthony\\appdata\\local\\programs\\python\\python310\\lib\\site-packages (from jinja2<3.2,>=3.0.3->autogluon.multimodal) (2.1.5)\n",
            "Requirement already satisfied: attrs>=22.2.0 in c:\\users\\anthony\\appdata\\local\\programs\\python\\python310\\lib\\site-packages (from jsonschema<4.22,>=4.18->autogluon.multimodal) (24.2.0)\n",
            "Requirement already satisfied: jsonschema-specifications>=2023.03.6 in c:\\users\\anthony\\appdata\\local\\programs\\python\\python310\\lib\\site-packages (from jsonschema<4.22,>=4.18->autogluon.multimodal) (2023.12.1)\n",
            "Requirement already satisfied: referencing>=0.28.4 in c:\\users\\anthony\\appdata\\local\\programs\\python\\python310\\lib\\site-packages (from jsonschema<4.22,>=4.18->autogluon.multimodal) (0.35.1)\n",
            "Requirement already satisfied: rpds-py>=0.7.1 in c:\\users\\anthony\\appdata\\local\\programs\\python\\python310\\lib\\site-packages (from jsonschema<4.22,>=4.18->autogluon.multimodal) (0.20.0)\n",
            "Requirement already satisfied: lightning-utilities<2.0,>=0.10.0 in c:\\users\\anthony\\appdata\\local\\programs\\python\\python310\\lib\\site-packages (from lightning<2.4,>=2.2->autogluon.multimodal) (0.11.7)\n",
            "Requirement already satisfied: typing-extensions<6.0,>=4.4.0 in c:\\users\\anthony\\appdata\\local\\programs\\python\\python310\\lib\\site-packages (from lightning<2.4,>=2.2->autogluon.multimodal) (4.12.2)\n",
            "Requirement already satisfied: pytorch-lightning in c:\\users\\anthony\\appdata\\local\\programs\\python\\python310\\lib\\site-packages (from lightning<2.4,>=2.2->autogluon.multimodal) (2.4.0)\n",
            "Requirement already satisfied: gdown>=4.0.0 in c:\\users\\anthony\\appdata\\local\\programs\\python\\python310\\lib\\site-packages (from nlpaug<1.2.0,>=1.1.10->autogluon.multimodal) (5.2.0)\n",
            "Requirement already satisfied: click in c:\\users\\anthony\\appdata\\local\\programs\\python\\python310\\lib\\site-packages (from nltk<4.0.0,>=3.4.5->autogluon.multimodal) (8.1.3)\n",
            "Requirement already satisfied: joblib in c:\\users\\anthony\\appdata\\local\\programs\\python\\python310\\lib\\site-packages (from nltk<4.0.0,>=3.4.5->autogluon.multimodal) (1.2.0)\n",
            "Requirement already satisfied: regex>=2021.8.3 in c:\\users\\anthony\\appdata\\local\\programs\\python\\python310\\lib\\site-packages (from nltk<4.0.0,>=3.4.5->autogluon.multimodal) (2024.9.11)\n",
            "Requirement already satisfied: antlr4-python3-runtime==4.9.* in c:\\users\\anthony\\appdata\\local\\programs\\python\\python310\\lib\\site-packages (from omegaconf<2.3.0,>=2.1.1->autogluon.multimodal) (4.9.3)\n",
            "Requirement already satisfied: colorama in c:\\users\\anthony\\appdata\\local\\programs\\python\\python310\\lib\\site-packages (from openmim<0.4.0,>=0.3.7->autogluon.multimodal) (0.4.6)\n",
            "Requirement already satisfied: model-index in c:\\users\\anthony\\appdata\\local\\programs\\python\\python310\\lib\\site-packages (from openmim<0.4.0,>=0.3.7->autogluon.multimodal) (0.1.11)\n",
            "Requirement already satisfied: opendatalab in c:\\users\\anthony\\appdata\\local\\programs\\python\\python310\\lib\\site-packages (from openmim<0.4.0,>=0.3.7->autogluon.multimodal) (0.0.10)\n",
            "Requirement already satisfied: pip>=19.3 in c:\\users\\anthony\\appdata\\local\\programs\\python\\python310\\lib\\site-packages (from openmim<0.4.0,>=0.3.7->autogluon.multimodal) (24.2)\n",
            "Requirement already satisfied: rich in c:\\users\\anthony\\appdata\\local\\programs\\python\\python310\\lib\\site-packages (from openmim<0.4.0,>=0.3.7->autogluon.multimodal) (13.8.1)\n",
            "Requirement already satisfied: tabulate in c:\\users\\anthony\\appdata\\local\\programs\\python\\python310\\lib\\site-packages (from openmim<0.4.0,>=0.3.7->autogluon.multimodal) (0.9.0)\n",
            "Requirement already satisfied: python-dateutil>=2.8.2 in c:\\users\\anthony\\appdata\\local\\programs\\python\\python310\\lib\\site-packages (from pandas<2.3.0,>=2.0.0->autogluon.multimodal) (2.8.2)\n",
            "Requirement already satisfied: pytz>=2020.1 in c:\\users\\anthony\\appdata\\local\\programs\\python\\python310\\lib\\site-packages (from pandas<2.3.0,>=2.0.0->autogluon.multimodal) (2023.3)\n",
            "Requirement already satisfied: tzdata>=2022.1 in c:\\users\\anthony\\appdata\\local\\programs\\python\\python310\\lib\\site-packages (from pandas<2.3.0,>=2.0.0->autogluon.multimodal) (2023.3)\n",
            "Requirement already satisfied: charset-normalizer<4,>=2 in c:\\users\\anthony\\appdata\\local\\programs\\python\\python310\\lib\\site-packages (from requests<3,>=2.21->autogluon.multimodal) (3.3.2)\n",
            "Requirement already satisfied: idna<4,>=2.5 in c:\\users\\anthony\\appdata\\local\\programs\\python\\python310\\lib\\site-packages (from requests<3,>=2.21->autogluon.multimodal) (3.10)\n",
            "Requirement already satisfied: urllib3<3,>=1.21.1 in c:\\users\\anthony\\appdata\\local\\programs\\python\\python310\\lib\\site-packages (from requests<3,>=2.21->autogluon.multimodal) (2.2.3)\n",
            "Requirement already satisfied: certifi>=2017.4.17 in c:\\users\\anthony\\appdata\\local\\programs\\python\\python310\\lib\\site-packages (from requests<3,>=2.21->autogluon.multimodal) (2024.8.30)\n",
            "Requirement already satisfied: imageio>=2.4.1 in c:\\users\\anthony\\appdata\\local\\programs\\python\\python310\\lib\\site-packages (from scikit-image<0.21.0,>=0.19.1->autogluon.multimodal) (2.35.1)\n",
            "Requirement already satisfied: tifffile>=2019.7.26 in c:\\users\\anthony\\appdata\\local\\programs\\python\\python310\\lib\\site-packages (from scikit-image<0.21.0,>=0.19.1->autogluon.multimodal) (2024.9.20)\n",
            "Requirement already satisfied: PyWavelets>=1.1.1 in c:\\users\\anthony\\appdata\\local\\programs\\python\\python310\\lib\\site-packages (from scikit-image<0.21.0,>=0.19.1->autogluon.multimodal) (1.7.0)\n",
            "Requirement already satisfied: lazy_loader>=0.1 in c:\\users\\anthony\\appdata\\local\\programs\\python\\python310\\lib\\site-packages (from scikit-image<0.21.0,>=0.19.1->autogluon.multimodal) (0.4)\n",
            "Requirement already satisfied: threadpoolctl>=2.0.0 in c:\\users\\anthony\\appdata\\local\\programs\\python\\python310\\lib\\site-packages (from scikit-learn<1.4.1,>=1.3.0->autogluon.multimodal) (3.1.0)\n",
            "Requirement already satisfied: absl-py>=0.4 in c:\\users\\anthony\\appdata\\local\\programs\\python\\python310\\lib\\site-packages (from tensorboard<3,>=2.9->autogluon.multimodal) (2.1.0)\n",
            "Requirement already satisfied: grpcio>=1.48.2 in c:\\users\\anthony\\appdata\\local\\programs\\python\\python310\\lib\\site-packages (from tensorboard<3,>=2.9->autogluon.multimodal) (1.66.1)\n",
            "Requirement already satisfied: google-auth<3,>=1.6.3 in c:\\users\\anthony\\appdata\\local\\programs\\python\\python310\\lib\\site-packages (from tensorboard<3,>=2.9->autogluon.multimodal) (2.35.0)\n",
            "Requirement already satisfied: google-auth-oauthlib<2,>=0.5 in c:\\users\\anthony\\appdata\\local\\programs\\python\\python310\\lib\\site-packages (from tensorboard<3,>=2.9->autogluon.multimodal) (1.2.1)\n",
            "Requirement already satisfied: markdown>=2.6.8 in c:\\users\\anthony\\appdata\\local\\programs\\python\\python310\\lib\\site-packages (from tensorboard<3,>=2.9->autogluon.multimodal) (3.7)\n",
            "Requirement already satisfied: protobuf!=4.24.0,>=3.19.6 in c:\\users\\anthony\\appdata\\local\\programs\\python\\python310\\lib\\site-packages (from tensorboard<3,>=2.9->autogluon.multimodal) (4.25.5)\n",
            "Requirement already satisfied: six>1.9 in c:\\users\\anthony\\appdata\\local\\programs\\python\\python310\\lib\\site-packages (from tensorboard<3,>=2.9->autogluon.multimodal) (1.16.0)\n",
            "Requirement already satisfied: tensorboard-data-server<0.8.0,>=0.7.0 in c:\\users\\anthony\\appdata\\local\\programs\\python\\python310\\lib\\site-packages (from tensorboard<3,>=2.9->autogluon.multimodal) (0.7.2)\n",
            "Requirement already satisfied: werkzeug>=1.0.1 in c:\\users\\anthony\\appdata\\local\\programs\\python\\python310\\lib\\site-packages (from tensorboard<3,>=2.9->autogluon.multimodal) (3.0.4)\n",
            "Requirement already satisfied: safetensors in c:\\users\\anthony\\appdata\\local\\programs\\python\\python310\\lib\\site-packages (from timm<0.10.0,>=0.9.5->autogluon.multimodal) (0.4.5)\n",
            "Requirement already satisfied: filelock in c:\\users\\anthony\\appdata\\local\\programs\\python\\python310\\lib\\site-packages (from torch<2.4,>=2.2->autogluon.multimodal) (3.12.0)\n",
            "Requirement already satisfied: sympy in c:\\users\\anthony\\appdata\\local\\programs\\python\\python310\\lib\\site-packages (from torch<2.4,>=2.2->autogluon.multimodal) (1.13.3)\n",
            "Requirement already satisfied: mkl<=2021.4.0,>=2021.1.1 in c:\\users\\anthony\\appdata\\local\\programs\\python\\python310\\lib\\site-packages (from torch<2.4,>=2.2->autogluon.multimodal) (2021.4.0)\n",
            "Requirement already satisfied: tokenizers<0.20,>=0.19 in c:\\users\\anthony\\appdata\\local\\programs\\python\\python310\\lib\\site-packages (from transformers<4.41.0,>=4.38.0->transformers[sentencepiece]<4.41.0,>=4.38.0->autogluon.multimodal) (0.19.1)\n",
            "Requirement already satisfied: sentencepiece!=0.1.92,>=0.1.91 in c:\\users\\anthony\\appdata\\local\\programs\\python\\python310\\lib\\site-packages (from transformers[sentencepiece]<4.41.0,>=4.38.0->autogluon.multimodal) (0.2.0)\n",
            "Requirement already satisfied: pyarrow>=15.0.0 in c:\\users\\anthony\\appdata\\local\\programs\\python\\python310\\lib\\site-packages (from datasets>=2.0.0->evaluate<0.5.0,>=0.4.0->autogluon.multimodal) (17.0.0)\n",
            "Requirement already satisfied: aiohttp in c:\\users\\anthony\\appdata\\local\\programs\\python\\python310\\lib\\site-packages (from datasets>=2.0.0->evaluate<0.5.0,>=0.4.0->autogluon.multimodal) (3.10.7)\n",
            "Requirement already satisfied: beautifulsoup4 in c:\\users\\anthony\\appdata\\local\\programs\\python\\python310\\lib\\site-packages (from gdown>=4.0.0->nlpaug<1.2.0,>=1.1.10->autogluon.multimodal) (4.12.3)\n",
            "Requirement already satisfied: cachetools<6.0,>=2.0.0 in c:\\users\\anthony\\appdata\\local\\programs\\python\\python310\\lib\\site-packages (from google-auth<3,>=1.6.3->tensorboard<3,>=2.9->autogluon.multimodal) (5.3.0)\n",
            "Requirement already satisfied: pyasn1-modules>=0.2.1 in c:\\users\\anthony\\appdata\\local\\programs\\python\\python310\\lib\\site-packages (from google-auth<3,>=1.6.3->tensorboard<3,>=2.9->autogluon.multimodal) (0.3.0)\n",
            "Requirement already satisfied: rsa<5,>=3.1.4 in c:\\users\\anthony\\appdata\\local\\programs\\python\\python310\\lib\\site-packages (from google-auth<3,>=1.6.3->tensorboard<3,>=2.9->autogluon.multimodal) (4.9)\n",
            "Requirement already satisfied: requests-oauthlib>=0.7.0 in c:\\users\\anthony\\appdata\\local\\programs\\python\\python310\\lib\\site-packages (from google-auth-oauthlib<2,>=0.5->tensorboard<3,>=2.9->autogluon.multimodal) (1.3.1)\n",
            "Requirement already satisfied: future in c:\\users\\anthony\\appdata\\local\\programs\\python\\python310\\lib\\site-packages (from hyperopt<0.2.8,>=0.2.7->autogluon.core[raytune]==1.1.1->autogluon.multimodal) (1.0.0)\n",
            "Requirement already satisfied: cloudpickle in c:\\users\\anthony\\appdata\\local\\programs\\python\\python310\\lib\\site-packages (from hyperopt<0.2.8,>=0.2.7->autogluon.core[raytune]==1.1.1->autogluon.multimodal) (3.0.0)\n",
            "Requirement already satisfied: py4j in c:\\users\\anthony\\appdata\\local\\programs\\python\\python310\\lib\\site-packages (from hyperopt<0.2.8,>=0.2.7->autogluon.core[raytune]==1.1.1->autogluon.multimodal) (0.10.9.7)\n",
            "Requirement already satisfied: intel-openmp==2021.* in c:\\users\\anthony\\appdata\\local\\programs\\python\\python310\\lib\\site-packages (from mkl<=2021.4.0,>=2021.1.1->torch<2.4,>=2.2->autogluon.multimodal) (2021.4.0)\n",
            "Requirement already satisfied: tbb==2021.* in c:\\users\\anthony\\appdata\\local\\programs\\python\\python310\\lib\\site-packages (from mkl<=2021.4.0,>=2021.1.1->torch<2.4,>=2.2->autogluon.multimodal) (2021.13.1)\n",
            "Requirement already satisfied: msgpack<2.0.0,>=1.0.0 in c:\\users\\anthony\\appdata\\local\\programs\\python\\python310\\lib\\site-packages (from ray<2.11,>=2.10.0->ray[default,tune]<2.11,>=2.10.0; extra == \"raytune\"->autogluon.core[raytune]==1.1.1->autogluon.multimodal) (1.1.0)\n",
            "Requirement already satisfied: aiosignal in c:\\users\\anthony\\appdata\\local\\programs\\python\\python310\\lib\\site-packages (from ray<2.11,>=2.10.0->ray[default,tune]<2.11,>=2.10.0; extra == \"raytune\"->autogluon.core[raytune]==1.1.1->autogluon.multimodal) (1.3.1)\n",
            "Requirement already satisfied: frozenlist in c:\\users\\anthony\\appdata\\local\\programs\\python\\python310\\lib\\site-packages (from ray<2.11,>=2.10.0->ray[default,tune]<2.11,>=2.10.0; extra == \"raytune\"->autogluon.core[raytune]==1.1.1->autogluon.multimodal) (1.4.1)\n",
            "Requirement already satisfied: aiohttp-cors in c:\\users\\anthony\\appdata\\local\\programs\\python\\python310\\lib\\site-packages (from ray[default,tune]<2.11,>=2.10.0; extra == \"raytune\"->autogluon.core[raytune]==1.1.1->autogluon.multimodal) (0.7.0)\n",
            "Requirement already satisfied: colorful in c:\\users\\anthony\\appdata\\local\\programs\\python\\python310\\lib\\site-packages (from ray[default,tune]<2.11,>=2.10.0; extra == \"raytune\"->autogluon.core[raytune]==1.1.1->autogluon.multimodal) (0.5.6)\n",
            "Requirement already satisfied: py-spy>=0.2.0 in c:\\users\\anthony\\appdata\\local\\programs\\python\\python310\\lib\\site-packages (from ray[default,tune]<2.11,>=2.10.0; extra == \"raytune\"->autogluon.core[raytune]==1.1.1->autogluon.multimodal) (0.3.14)\n",
            "Requirement already satisfied: opencensus in c:\\users\\anthony\\appdata\\local\\programs\\python\\python310\\lib\\site-packages (from ray[default,tune]<2.11,>=2.10.0; extra == \"raytune\"->autogluon.core[raytune]==1.1.1->autogluon.multimodal) (0.11.4)\n",
            "Requirement already satisfied: pydantic!=2.0.*,!=2.1.*,!=2.2.*,!=2.3.*,!=2.4.*,<3 in c:\\users\\anthony\\appdata\\local\\programs\\python\\python310\\lib\\site-packages (from ray[default,tune]<2.11,>=2.10.0; extra == \"raytune\"->autogluon.core[raytune]==1.1.1->autogluon.multimodal) (2.9.2)\n",
            "Requirement already satisfied: prometheus-client>=0.7.1 in c:\\users\\anthony\\appdata\\local\\programs\\python\\python310\\lib\\site-packages (from ray[default,tune]<2.11,>=2.10.0; extra == \"raytune\"->autogluon.core[raytune]==1.1.1->autogluon.multimodal) (0.21.0)\n",
            "Requirement already satisfied: smart-open in c:\\users\\anthony\\appdata\\local\\programs\\python\\python310\\lib\\site-packages (from ray[default,tune]<2.11,>=2.10.0; extra == \"raytune\"->autogluon.core[raytune]==1.1.1->autogluon.multimodal) (7.0.4)\n",
            "Requirement already satisfied: virtualenv!=20.21.1,>=20.0.24 in c:\\users\\anthony\\appdata\\local\\programs\\python\\python310\\lib\\site-packages (from ray[default,tune]<2.11,>=2.10.0; extra == \"raytune\"->autogluon.core[raytune]==1.1.1->autogluon.multimodal) (20.23.0)\n",
            "Requirement already satisfied: tensorboardX>=1.9 in c:\\users\\anthony\\appdata\\local\\programs\\python\\python310\\lib\\site-packages (from ray[default,tune]<2.11,>=2.10.0; extra == \"raytune\"->autogluon.core[raytune]==1.1.1->autogluon.multimodal) (2.6.2.2)\n",
            "Requirement already satisfied: contourpy>=1.0.1 in c:\\users\\anthony\\appdata\\local\\programs\\python\\python310\\lib\\site-packages (from matplotlib->autogluon.core==1.1.1->autogluon.core[raytune]==1.1.1->autogluon.multimodal) (1.0.7)\n",
            "Requirement already satisfied: cycler>=0.10 in c:\\users\\anthony\\appdata\\local\\programs\\python\\python310\\lib\\site-packages (from matplotlib->autogluon.core==1.1.1->autogluon.core[raytune]==1.1.1->autogluon.multimodal) (0.11.0)\n",
            "Requirement already satisfied: fonttools>=4.22.0 in c:\\users\\anthony\\appdata\\local\\programs\\python\\python310\\lib\\site-packages (from matplotlib->autogluon.core==1.1.1->autogluon.core[raytune]==1.1.1->autogluon.multimodal) (4.39.4)\n",
            "Requirement already satisfied: kiwisolver>=1.0.1 in c:\\users\\anthony\\appdata\\local\\programs\\python\\python310\\lib\\site-packages (from matplotlib->autogluon.core==1.1.1->autogluon.core[raytune]==1.1.1->autogluon.multimodal) (1.4.4)\n",
            "Requirement already satisfied: pyparsing>=2.3.1 in c:\\users\\anthony\\appdata\\local\\programs\\python\\python310\\lib\\site-packages (from matplotlib->autogluon.core==1.1.1->autogluon.core[raytune]==1.1.1->autogluon.multimodal) (3.0.9)\n",
            "Requirement already satisfied: ordered-set in c:\\users\\anthony\\appdata\\local\\programs\\python\\python310\\lib\\site-packages (from model-index->openmim<0.4.0,>=0.3.7->autogluon.multimodal) (4.1.0)\n",
            "Requirement already satisfied: pycryptodome in c:\\users\\anthony\\appdata\\local\\programs\\python\\python310\\lib\\site-packages (from opendatalab->openmim<0.4.0,>=0.3.7->autogluon.multimodal) (3.20.0)\n",
            "Requirement already satisfied: openxlab in c:\\users\\anthony\\appdata\\local\\programs\\python\\python310\\lib\\site-packages (from opendatalab->openmim<0.4.0,>=0.3.7->autogluon.multimodal) (0.0.11)\n",
            "Requirement already satisfied: pywin32 in c:\\users\\anthony\\appdata\\roaming\\python\\python310\\site-packages (from opendatalab->openmim<0.4.0,>=0.3.7->autogluon.multimodal) (306)\n",
            "Requirement already satisfied: markdown-it-py>=2.2.0 in c:\\users\\anthony\\appdata\\local\\programs\\python\\python310\\lib\\site-packages (from rich->openmim<0.4.0,>=0.3.7->autogluon.multimodal) (3.0.0)\n",
            "Requirement already satisfied: pygments<3.0.0,>=2.13.0 in c:\\users\\anthony\\appdata\\local\\programs\\python\\python310\\lib\\site-packages (from rich->openmim<0.4.0,>=0.3.7->autogluon.multimodal) (2.18.0)\n",
            "Requirement already satisfied: mpmath<1.4,>=1.1.0 in c:\\users\\anthony\\appdata\\local\\programs\\python\\python310\\lib\\site-packages (from sympy->torch<2.4,>=2.2->autogluon.multimodal) (1.3.0)\n",
            "Requirement already satisfied: aiohappyeyeballs>=2.3.0 in c:\\users\\anthony\\appdata\\local\\programs\\python\\python310\\lib\\site-packages (from aiohttp->datasets>=2.0.0->evaluate<0.5.0,>=0.4.0->autogluon.multimodal) (2.4.2)\n",
            "Requirement already satisfied: multidict<7.0,>=4.5 in c:\\users\\anthony\\appdata\\local\\programs\\python\\python310\\lib\\site-packages (from aiohttp->datasets>=2.0.0->evaluate<0.5.0,>=0.4.0->autogluon.multimodal) (6.1.0)\n",
            "Requirement already satisfied: yarl<2.0,>=1.12.0 in c:\\users\\anthony\\appdata\\local\\programs\\python\\python310\\lib\\site-packages (from aiohttp->datasets>=2.0.0->evaluate<0.5.0,>=0.4.0->autogluon.multimodal) (1.13.1)\n",
            "Requirement already satisfied: async-timeout<5.0,>=4.0 in c:\\users\\anthony\\appdata\\local\\programs\\python\\python310\\lib\\site-packages (from aiohttp->datasets>=2.0.0->evaluate<0.5.0,>=0.4.0->autogluon.multimodal) (4.0.3)\n",
            "Requirement already satisfied: mdurl~=0.1 in c:\\users\\anthony\\appdata\\local\\programs\\python\\python310\\lib\\site-packages (from markdown-it-py>=2.2.0->rich->openmim<0.4.0,>=0.3.7->autogluon.multimodal) (0.1.2)\n",
            "Requirement already satisfied: pyasn1<0.6.0,>=0.4.6 in c:\\users\\anthony\\appdata\\local\\programs\\python\\python310\\lib\\site-packages (from pyasn1-modules>=0.2.1->google-auth<3,>=1.6.3->tensorboard<3,>=2.9->autogluon.multimodal) (0.5.0)\n",
            "Requirement already satisfied: annotated-types>=0.6.0 in c:\\users\\anthony\\appdata\\local\\programs\\python\\python310\\lib\\site-packages (from pydantic!=2.0.*,!=2.1.*,!=2.2.*,!=2.3.*,!=2.4.*,<3->ray[default,tune]<2.11,>=2.10.0; extra == \"raytune\"->autogluon.core[raytune]==1.1.1->autogluon.multimodal) (0.7.0)\n",
            "Requirement already satisfied: pydantic-core==2.23.4 in c:\\users\\anthony\\appdata\\local\\programs\\python\\python310\\lib\\site-packages (from pydantic!=2.0.*,!=2.1.*,!=2.2.*,!=2.3.*,!=2.4.*,<3->ray[default,tune]<2.11,>=2.10.0; extra == \"raytune\"->autogluon.core[raytune]==1.1.1->autogluon.multimodal) (2.23.4)\n",
            "Requirement already satisfied: oauthlib>=3.0.0 in c:\\users\\anthony\\appdata\\local\\programs\\python\\python310\\lib\\site-packages (from requests-oauthlib>=0.7.0->google-auth-oauthlib<2,>=0.5->tensorboard<3,>=2.9->autogluon.multimodal) (3.2.2)\n",
            "Requirement already satisfied: distlib<1,>=0.3.6 in c:\\users\\anthony\\appdata\\local\\programs\\python\\python310\\lib\\site-packages (from virtualenv!=20.21.1,>=20.0.24->ray[default,tune]<2.11,>=2.10.0; extra == \"raytune\"->autogluon.core[raytune]==1.1.1->autogluon.multimodal) (0.3.6)\n",
            "Requirement already satisfied: platformdirs<4,>=3.2 in c:\\users\\anthony\\appdata\\local\\programs\\python\\python310\\lib\\site-packages (from virtualenv!=20.21.1,>=20.0.24->ray[default,tune]<2.11,>=2.10.0; extra == \"raytune\"->autogluon.core[raytune]==1.1.1->autogluon.multimodal) (3.5.1)\n",
            "Requirement already satisfied: soupsieve>1.2 in c:\\users\\anthony\\appdata\\local\\programs\\python\\python310\\lib\\site-packages (from beautifulsoup4->gdown>=4.0.0->nlpaug<1.2.0,>=1.1.10->autogluon.multimodal) (2.6)\n",
            "Requirement already satisfied: opencensus-context>=0.1.3 in c:\\users\\anthony\\appdata\\local\\programs\\python\\python310\\lib\\site-packages (from opencensus->ray[default,tune]<2.11,>=2.10.0; extra == \"raytune\"->autogluon.core[raytune]==1.1.1->autogluon.multimodal) (0.1.3)\n",
            "Requirement already satisfied: google-api-core<3.0.0,>=1.0.0 in c:\\users\\anthony\\appdata\\local\\programs\\python\\python310\\lib\\site-packages (from opencensus->ray[default,tune]<2.11,>=2.10.0; extra == \"raytune\"->autogluon.core[raytune]==1.1.1->autogluon.multimodal) (2.20.0)\n",
            "Requirement already satisfied: PySocks!=1.5.7,>=1.5.6 in c:\\users\\anthony\\appdata\\local\\programs\\python\\python310\\lib\\site-packages (from requests[socks]->gdown>=4.0.0->nlpaug<1.2.0,>=1.1.10->autogluon.multimodal) (1.7.1)\n",
            "Requirement already satisfied: wrapt in c:\\users\\anthony\\appdata\\local\\programs\\python\\python310\\lib\\site-packages (from smart-open->ray[default,tune]<2.11,>=2.10.0; extra == \"raytune\"->autogluon.core[raytune]==1.1.1->autogluon.multimodal) (1.14.1)\n",
            "Requirement already satisfied: googleapis-common-protos<2.0.dev0,>=1.56.2 in c:\\users\\anthony\\appdata\\local\\programs\\python\\python310\\lib\\site-packages (from google-api-core<3.0.0,>=1.0.0->opencensus->ray[default,tune]<2.11,>=2.10.0; extra == \"raytune\"->autogluon.core[raytune]==1.1.1->autogluon.multimodal) (1.65.0)\n",
            "Requirement already satisfied: proto-plus<2.0.0dev,>=1.22.3 in c:\\users\\anthony\\appdata\\local\\programs\\python\\python310\\lib\\site-packages (from google-api-core<3.0.0,>=1.0.0->opencensus->ray[default,tune]<2.11,>=2.10.0; extra == \"raytune\"->autogluon.core[raytune]==1.1.1->autogluon.multimodal) (1.24.0)\n"
          ]
        }
      ],
      "source": [
        "!pip install autogluon.multimodal\n"
      ]
    },
    {
      "cell_type": "code",
      "execution_count": 2,
      "id": "95ca4f2e",
      "metadata": {
        "id": "95ca4f2e"
      },
      "outputs": [
        {
          "name": "stdout",
          "output_type": "stream",
          "text": [
            "WARNING:tensorflow:From c:\\Users\\Anthony\\AppData\\Local\\Programs\\Python\\Python310\\lib\\site-packages\\keras\\src\\losses.py:2976: The name tf.losses.sparse_softmax_cross_entropy is deprecated. Please use tf.compat.v1.losses.sparse_softmax_cross_entropy instead.\n",
            "\n",
            "Downloading ./ag_automm_tutorial_imgcls\\file.zip from https://automl-mm-bench.s3.amazonaws.com/vision_datasets/shopee.zip...\n"
          ]
        },
        {
          "name": "stderr",
          "output_type": "stream",
          "text": [
            "100%|██████████| 84.0M/84.0M [00:05<00:00, 15.1MiB/s]\n"
          ]
        },
        {
          "name": "stdout",
          "output_type": "stream",
          "text": [
            "                                                 image  label\n",
            "0    c:\\Users\\Anthony\\Desktop\\Grad School\\CMPE 255\\...      0\n",
            "1    c:\\Users\\Anthony\\Desktop\\Grad School\\CMPE 255\\...      0\n",
            "2    c:\\Users\\Anthony\\Desktop\\Grad School\\CMPE 255\\...      0\n",
            "3    c:\\Users\\Anthony\\Desktop\\Grad School\\CMPE 255\\...      0\n",
            "4    c:\\Users\\Anthony\\Desktop\\Grad School\\CMPE 255\\...      0\n",
            "..                                                 ...    ...\n",
            "795  c:\\Users\\Anthony\\Desktop\\Grad School\\CMPE 255\\...      3\n",
            "796  c:\\Users\\Anthony\\Desktop\\Grad School\\CMPE 255\\...      3\n",
            "797  c:\\Users\\Anthony\\Desktop\\Grad School\\CMPE 255\\...      3\n",
            "798  c:\\Users\\Anthony\\Desktop\\Grad School\\CMPE 255\\...      3\n",
            "799  c:\\Users\\Anthony\\Desktop\\Grad School\\CMPE 255\\...      3\n",
            "\n",
            "[800 rows x 2 columns]\n"
          ]
        }
      ],
      "source": [
        "import warnings\n",
        "warnings.filterwarnings('ignore')\n",
        "import pandas as pd\n",
        "\n",
        "from autogluon.multimodal.utils.misc import shopee_dataset\n",
        "download_dir = './ag_automm_tutorial_imgcls'\n",
        "train_data_path, test_data_path = shopee_dataset(download_dir)\n",
        "print(train_data_path)"
      ]
    },
    {
      "cell_type": "markdown",
      "id": "77034c07",
      "metadata": {
        "id": "77034c07"
      },
      "source": [
        "We can see there are 800 rows and 2 columns in this training dataframe. The 2 columns are **image** and **label**, and the **image** column contains the absolute paths of the images. Each row represents a different training sample.\n",
        "\n",
        "In addition to image paths, `MultiModalPredictor` also supports image bytearrays during training and inference. We can load the dataset with bytearrays with the option `is_bytearray` set to `True`:"
      ]
    },
    {
      "cell_type": "code",
      "execution_count": 3,
      "id": "bd2f15e7",
      "metadata": {
        "id": "bd2f15e7"
      },
      "outputs": [],
      "source": [
        "import warnings\n",
        "warnings.filterwarnings('ignore')\n",
        "\n",
        "download_dir = './ag_automm_tutorial_imgcls'\n",
        "train_data_byte, test_data_byte = shopee_dataset(download_dir, is_bytearray=True)"
      ]
    },
    {
      "cell_type": "markdown",
      "id": "b6640353",
      "metadata": {
        "id": "b6640353"
      },
      "source": [
        "## Use AutoMM to Fit Models\n",
        "\n",
        "Now, we fit a classifier using AutoMM as follows:"
      ]
    },
    {
      "cell_type": "code",
      "execution_count": 4,
      "id": "96e31052",
      "metadata": {
        "id": "96e31052"
      },
      "outputs": [
        {
          "name": "stderr",
          "output_type": "stream",
          "text": [
            "=================== System Info ===================\n",
            "AutoGluon Version:  1.1.1\n",
            "Python Version:     3.10.11\n",
            "Operating System:   Windows\n",
            "Platform Machine:   AMD64\n",
            "Platform Version:   10.0.22631\n",
            "CPU Count:          24\n",
            "Pytorch Version:    2.3.1+cpu\n",
            "CUDA Version:       CUDA is not available\n",
            "Memory Avail:       10.55 GB / 31.91 GB (33.1%)\n",
            "Disk Space Avail:   55.72 GB / 464.51 GB (12.0%)\n",
            "===================================================\n",
            "AutoGluon infers your prediction problem is: 'multiclass' (because dtype of label-column == int, but few unique label-values observed).\n",
            "\t4 unique label values:  [0, 1, 2, 3]\n",
            "\tIf 'multiclass' is not the correct problem_type, please manually specify the problem_type parameter during Predictor init (You may specify problem_type as one of: ['binary', 'multiclass', 'regression', 'quantile'])\n",
            "\n",
            "AutoMM starts to create your model. ✨✨✨\n",
            "\n",
            "To track the learning progress, you can open a terminal and launch Tensorboard:\n",
            "    ```shell\n",
            "    # Assume you have installed tensorboard\n",
            "    tensorboard --logdir c:\\Users\\Anthony\\Desktop\\Grad School\\CMPE 255\\Notebooks\\tmp\\a873abf5c17d466b895b82ab5ce971f8-automm_shopee\n",
            "    ```\n",
            "\n",
            "Seed set to 0\n"
          ]
        },
        {
          "data": {
            "application/vnd.jupyter.widget-view+json": {
              "model_id": "0d41194f4e864351ac6ad3e8951403dc",
              "version_major": 2,
              "version_minor": 0
            },
            "text/plain": [
              "model.safetensors:   0%|          | 0.00/395M [00:00<?, ?B/s]"
            ]
          },
          "metadata": {},
          "output_type": "display_data"
        },
        {
          "name": "stderr",
          "output_type": "stream",
          "text": [
            "GPU Count: 0\n",
            "GPU Count to be Used: 0\n",
            "\n",
            "GPU available: False, used: False\n",
            "TPU available: False, using: 0 TPU cores\n",
            "HPU available: False, using: 0 HPUs\n",
            "\n",
            "  | Name              | Type                            | Params | Mode \n",
            "------------------------------------------------------------------------------\n",
            "0 | model             | TimmAutoModelForImagePrediction | 95.7 M | train\n",
            "1 | validation_metric | MulticlassAccuracy              | 0      | train\n",
            "2 | loss_func         | CrossEntropyLoss                | 0      | train\n",
            "------------------------------------------------------------------------------\n",
            "95.7 M    Trainable params\n",
            "0         Non-trainable params\n",
            "95.7 M    Total params\n",
            "382.772   Total estimated model params size (MB)\n"
          ]
        },
        {
          "data": {
            "application/vnd.jupyter.widget-view+json": {
              "model_id": "1f02a4e9a38944c5bd21ef839e7bf47a",
              "version_major": 2,
              "version_minor": 0
            },
            "text/plain": [
              "Sanity Checking: |          | 0/? [00:00<?, ?it/s]"
            ]
          },
          "metadata": {},
          "output_type": "display_data"
        },
        {
          "data": {
            "application/vnd.jupyter.widget-view+json": {
              "model_id": "363e428636774a8c9b2129697c5beab9",
              "version_major": 2,
              "version_minor": 0
            },
            "text/plain": [
              "Training: |          | 0/? [00:00<?, ?it/s]"
            ]
          },
          "metadata": {},
          "output_type": "display_data"
        },
        {
          "name": "stderr",
          "output_type": "stream",
          "text": [
            "Time limit reached. Elapsed time is 0:00:34. Signaling Trainer to stop.\n"
          ]
        },
        {
          "data": {
            "application/vnd.jupyter.widget-view+json": {
              "model_id": "ffc2ac1b572544c29c38ea5b74364262",
              "version_major": 2,
              "version_minor": 0
            },
            "text/plain": [
              "Validation: |          | 0/? [00:00<?, ?it/s]"
            ]
          },
          "metadata": {},
          "output_type": "display_data"
        },
        {
          "name": "stderr",
          "output_type": "stream",
          "text": [
            "AutoMM has created your model. 🎉🎉🎉\n",
            "\n",
            "To load the model, use the code below:\n",
            "    ```python\n",
            "    from autogluon.multimodal import MultiModalPredictor\n",
            "    predictor = MultiModalPredictor.load(\"c:\\Users\\Anthony\\Desktop\\Grad School\\CMPE 255\\Notebooks\\tmp\\a873abf5c17d466b895b82ab5ce971f8-automm_shopee\")\n",
            "    ```\n",
            "\n",
            "If you are not satisfied with the model, try to increase the training time, \n",
            "adjust the hyperparameters (https://auto.gluon.ai/stable/tutorials/multimodal/advanced_topics/customization.html),\n",
            "or post issues on GitHub (https://github.com/autogluon/autogluon/issues).\n",
            "\n",
            "\n"
          ]
        },
        {
          "data": {
            "text/plain": [
              "<autogluon.multimodal.predictor.MultiModalPredictor at 0x2b24275b5e0>"
            ]
          },
          "execution_count": 4,
          "metadata": {},
          "output_type": "execute_result"
        }
      ],
      "source": [
        "from autogluon.multimodal import MultiModalPredictor\n",
        "import uuid\n",
        "model_path = f\"./tmp/{uuid.uuid4().hex}-automm_shopee\"\n",
        "predictor = MultiModalPredictor(label=\"label\", path=model_path)\n",
        "predictor.fit(\n",
        "    train_data=train_data_path,\n",
        "    time_limit=30, # seconds\n",
        ")"
      ]
    },
    {
      "cell_type": "markdown",
      "id": "199ced03",
      "metadata": {
        "id": "199ced03"
      },
      "source": [
        "**label** is the name of the column that contains the target variable to predict, e.g., it is \"label\" in our example. **path** indicates the directory where models and intermediate outputs should be saved. We set the training time limit to 30 seconds for demonstration purpose, but you can control the training time by setting configurations. To customize AutoMM, please refer to [Customize AutoMM](../advanced_topics/customization.ipynb).\n",
        "\n",
        "\n",
        "## Evaluate on Test Dataset\n",
        "\n",
        "You can evaluate the classifier on the test dataset to see how it performs, the test top-1 accuracy is:"
      ]
    },
    {
      "cell_type": "code",
      "execution_count": 5,
      "id": "4e4078bd",
      "metadata": {
        "id": "4e4078bd"
      },
      "outputs": [
        {
          "data": {
            "application/vnd.jupyter.widget-view+json": {
              "model_id": "ab3c968d61474d9fb18efb1a177bef42",
              "version_major": 2,
              "version_minor": 0
            },
            "text/plain": [
              "Predicting: |          | 0/? [00:00<?, ?it/s]"
            ]
          },
          "metadata": {},
          "output_type": "display_data"
        },
        {
          "name": "stdout",
          "output_type": "stream",
          "text": [
            "Top-1 test acc: 0.100\n"
          ]
        }
      ],
      "source": [
        "scores = predictor.evaluate(test_data_path, metrics=[\"accuracy\"])\n",
        "print('Top-1 test acc: %.3f' % scores[\"accuracy\"])"
      ]
    },
    {
      "cell_type": "markdown",
      "id": "7f00b3ec",
      "metadata": {
        "id": "7f00b3ec"
      },
      "source": [
        "You can also evaluate on test data with image bytearray using the model trained on training data with image path, and vice versa:"
      ]
    },
    {
      "cell_type": "code",
      "execution_count": 6,
      "id": "246b751d",
      "metadata": {
        "id": "246b751d"
      },
      "outputs": [
        {
          "data": {
            "application/vnd.jupyter.widget-view+json": {
              "model_id": "d0b3ba5383744ab6b6d1df11b0729d24",
              "version_major": 2,
              "version_minor": 0
            },
            "text/plain": [
              "Predicting: |          | 0/? [00:00<?, ?it/s]"
            ]
          },
          "metadata": {},
          "output_type": "display_data"
        },
        {
          "name": "stdout",
          "output_type": "stream",
          "text": [
            "Top-1 test acc: 0.100\n"
          ]
        }
      ],
      "source": [
        "scores = predictor.evaluate(test_data_byte, metrics=[\"accuracy\"])\n",
        "print('Top-1 test acc: %.3f' % scores[\"accuracy\"])"
      ]
    },
    {
      "cell_type": "markdown",
      "id": "9c60aa65",
      "metadata": {
        "id": "9c60aa65"
      },
      "source": [
        "## Predict on a New Image\n",
        "\n",
        "Given an example image, let's visualize it first,"
      ]
    },
    {
      "cell_type": "code",
      "execution_count": 7,
      "id": "f08caa07",
      "metadata": {
        "id": "f08caa07"
      },
      "outputs": [
        {
          "data": {
            "image/jpeg": "[encoded data removed]",
            "text/plain": [
              "<IPython.core.display.Image object>"
            ]
          },
          "metadata": {},
          "output_type": "display_data"
        }
      ],
      "source": [
        "image_path = test_data_path.iloc[0]['image']\n",
        "from IPython.display import Image, display\n",
        "pil_img = Image(filename=image_path)\n",
        "display(pil_img)"
      ]
    },
    {
      "cell_type": "markdown",
      "id": "3ddc4aa7",
      "metadata": {
        "id": "3ddc4aa7"
      },
      "source": [
        "We can easily use the final model to `predict` the label,"
      ]
    },
    {
      "cell_type": "code",
      "execution_count": 8,
      "id": "f21c9030",
      "metadata": {
        "id": "f21c9030"
      },
      "outputs": [
        {
          "data": {
            "application/vnd.jupyter.widget-view+json": {
              "model_id": "bd4c52f84f9c42b8b54418c2a81cebe7",
              "version_major": 2,
              "version_minor": 0
            },
            "text/plain": [
              "Predicting: |          | 0/? [00:00<?, ?it/s]"
            ]
          },
          "metadata": {},
          "output_type": "display_data"
        },
        {
          "name": "stdout",
          "output_type": "stream",
          "text": [
            "[2]\n"
          ]
        }
      ],
      "source": [
        "predictions = predictor.predict({'image': [image_path]})\n",
        "print(predictions)"
      ]
    },
    {
      "cell_type": "markdown",
      "id": "fee61517",
      "metadata": {
        "id": "fee61517"
      },
      "source": [
        "If probabilities of all categories are needed, you can call `predict_proba`:"
      ]
    },
    {
      "cell_type": "code",
      "execution_count": 9,
      "id": "ca205a5c",
      "metadata": {
        "id": "ca205a5c"
      },
      "outputs": [
        {
          "data": {
            "application/vnd.jupyter.widget-view+json": {
              "model_id": "0ac8dc535d474e95a5a3230bfbc3590f",
              "version_major": 2,
              "version_minor": 0
            },
            "text/plain": [
              "Predicting: |          | 0/? [00:00<?, ?it/s]"
            ]
          },
          "metadata": {},
          "output_type": "display_data"
        },
        {
          "name": "stdout",
          "output_type": "stream",
          "text": [
            "[[0.24008915 0.24951345 0.2777596  0.23263778]]\n"
          ]
        }
      ],
      "source": [
        "proba = predictor.predict_proba({'image': [image_path]})\n",
        "print(proba)"
      ]
    },
    {
      "cell_type": "markdown",
      "id": "26e93609",
      "metadata": {
        "id": "26e93609"
      },
      "source": [
        "Similarly as `predictor.evaluate`, we can also parse image_bytearrays into `.predict` and `.predict_proba`:"
      ]
    },
    {
      "cell_type": "code",
      "execution_count": 10,
      "id": "b2a193b3",
      "metadata": {
        "id": "b2a193b3"
      },
      "outputs": [
        {
          "data": {
            "application/vnd.jupyter.widget-view+json": {
              "model_id": "970edfbcc9d647348b7dbf9b01126275",
              "version_major": 2,
              "version_minor": 0
            },
            "text/plain": [
              "Predicting: |          | 0/? [00:00<?, ?it/s]"
            ]
          },
          "metadata": {},
          "output_type": "display_data"
        },
        {
          "name": "stdout",
          "output_type": "stream",
          "text": [
            "[2]\n"
          ]
        },
        {
          "data": {
            "application/vnd.jupyter.widget-view+json": {
              "model_id": "f359d119d4284e4690bd41d9a9f67f9b",
              "version_major": 2,
              "version_minor": 0
            },
            "text/plain": [
              "Predicting: |          | 0/? [00:00<?, ?it/s]"
            ]
          },
          "metadata": {},
          "output_type": "display_data"
        },
        {
          "name": "stdout",
          "output_type": "stream",
          "text": [
            "[[0.24008915 0.24951345 0.2777596  0.23263778]]\n"
          ]
        }
      ],
      "source": [
        "image_byte = test_data_byte.iloc[0]['image']\n",
        "predictions = predictor.predict({'image': [image_byte]})\n",
        "print(predictions)\n",
        "\n",
        "proba = predictor.predict_proba({'image': [image_byte]})\n",
        "print(proba)"
      ]
    },
    {
      "cell_type": "markdown",
      "id": "2f6747d2",
      "metadata": {
        "id": "2f6747d2"
      },
      "source": [
        "## Extract Embeddings\n",
        "\n",
        "Extracting representation from the whole image learned by a model is also very useful. We provide `extract_embedding` function to allow predictor to return the N-dimensional image feature where `N` depends on the model(usually a 512 to 2048 length vector)"
      ]
    },
    {
      "cell_type": "code",
      "execution_count": 11,
      "id": "8f0e4f60",
      "metadata": {
        "id": "8f0e4f60"
      },
      "outputs": [
        {
          "data": {
            "application/vnd.jupyter.widget-view+json": {
              "model_id": "6727799c41cd4a4ca605f899d26257d6",
              "version_major": 2,
              "version_minor": 0
            },
            "text/plain": [
              "Predicting: |          | 0/? [00:00<?, ?it/s]"
            ]
          },
          "metadata": {},
          "output_type": "display_data"
        },
        {
          "name": "stdout",
          "output_type": "stream",
          "text": [
            "(768,)\n"
          ]
        }
      ],
      "source": [
        "feature = predictor.extract_embedding({'image': [image_path]})\n",
        "print(feature[0].shape)"
      ]
    },
    {
      "cell_type": "markdown",
      "id": "6e354734",
      "metadata": {
        "id": "6e354734"
      },
      "source": [
        "You should expect the same result when extract embedding from image bytearray:"
      ]
    },
    {
      "cell_type": "code",
      "execution_count": 12,
      "id": "b17a240a",
      "metadata": {
        "id": "b17a240a"
      },
      "outputs": [
        {
          "data": {
            "application/vnd.jupyter.widget-view+json": {
              "model_id": "2a9e8009a57641caaee0434fd371d696",
              "version_major": 2,
              "version_minor": 0
            },
            "text/plain": [
              "Predicting: |          | 0/? [00:00<?, ?it/s]"
            ]
          },
          "metadata": {},
          "output_type": "display_data"
        },
        {
          "name": "stdout",
          "output_type": "stream",
          "text": [
            "(768,)\n"
          ]
        }
      ],
      "source": [
        "feature = predictor.extract_embedding({'image': [image_byte]})\n",
        "print(feature[0].shape)"
      ]
    },
    {
      "cell_type": "markdown",
      "id": "67728302",
      "metadata": {
        "id": "67728302"
      },
      "source": [
        "## Save and Load\n",
        "\n",
        "The trained predictor is automatically saved at the end of `fit()`, and you can easily reload it.\n",
        "\n",
        "```{warning}\n",
        "\n",
        "`MultiModalPredictor.load()` uses `pickle` module implicitly, which is known to be insecure. It is possible to construct malicious pickle data which will execute arbitrary code during unpickling. Never load data that could have come from an untrusted source, or that could have been tampered with. **Only load data you trust.**\n",
        "\n",
        "```"
      ]
    },
    {
      "cell_type": "code",
      "execution_count": 13,
      "id": "6df38a6e",
      "metadata": {
        "id": "6df38a6e"
      },
      "outputs": [
        {
          "ename": "ValueError",
          "evalue": "Resuming checkpoint 'c:\\Users\\Anthony\\Desktop\\Grad School\\CMPE 255\\Notebooks\\tmp\\a873abf5c17d466b895b82ab5ce971f8-automm_shopee\\last.ckpt' and final checkpoint 'c:\\Users\\Anthony\\Desktop\\Grad School\\CMPE 255\\Notebooks\\tmp\\a873abf5c17d466b895b82ab5ce971f8-automm_shopee\\model.ckpt' both don't exist. Consider starting training from scratch.",
          "output_type": "error",
          "traceback": [
            "\u001b[1;31m---------------------------------------------------------------------------\u001b[0m",
            "\u001b[1;31mValueError\u001b[0m                                Traceback (most recent call last)",
            "Cell \u001b[1;32mIn[13], line 1\u001b[0m\n\u001b[1;32m----> 1\u001b[0m loaded_predictor \u001b[38;5;241m=\u001b[39m \u001b[43mMultiModalPredictor\u001b[49m\u001b[38;5;241;43m.\u001b[39;49m\u001b[43mload\u001b[49m\u001b[43m(\u001b[49m\u001b[43mmodel_path\u001b[49m\u001b[43m)\u001b[49m\n\u001b[0;32m      2\u001b[0m load_proba \u001b[38;5;241m=\u001b[39m loaded_predictor\u001b[38;5;241m.\u001b[39mpredict_proba({\u001b[38;5;124m'\u001b[39m\u001b[38;5;124mimage\u001b[39m\u001b[38;5;124m'\u001b[39m: [image_path]})\n\u001b[0;32m      3\u001b[0m \u001b[38;5;28mprint\u001b[39m(load_proba)\n",
            "File \u001b[1;32mc:\\Users\\Anthony\\AppData\\Local\\Programs\\Python\\Python310\\lib\\site-packages\\autogluon\\multimodal\\predictor.py:817\u001b[0m, in \u001b[0;36mMultiModalPredictor.load\u001b[1;34m(cls, path, resume, verbosity)\u001b[0m\n\u001b[0;32m    814\u001b[0m \u001b[38;5;28;01melse\u001b[39;00m:\n\u001b[0;32m    815\u001b[0m     learner_class \u001b[38;5;241m=\u001b[39m BaseLearner\n\u001b[1;32m--> 817\u001b[0m predictor\u001b[38;5;241m.\u001b[39m_learner \u001b[38;5;241m=\u001b[39m \u001b[43mlearner_class\u001b[49m\u001b[38;5;241;43m.\u001b[39;49m\u001b[43mload\u001b[49m\u001b[43m(\u001b[49m\u001b[43mpath\u001b[49m\u001b[38;5;241;43m=\u001b[39;49m\u001b[43mpath\u001b[49m\u001b[43m,\u001b[49m\u001b[43m \u001b[49m\u001b[43mresume\u001b[49m\u001b[38;5;241;43m=\u001b[39;49m\u001b[43mresume\u001b[49m\u001b[43m,\u001b[49m\u001b[43m \u001b[49m\u001b[43mverbosity\u001b[49m\u001b[38;5;241;43m=\u001b[39;49m\u001b[43mverbosity\u001b[49m\u001b[43m)\u001b[49m\n\u001b[0;32m    818\u001b[0m \u001b[38;5;28;01mreturn\u001b[39;00m predictor\n",
            "File \u001b[1;32mc:\\Users\\Anthony\\AppData\\Local\\Programs\\Python\\Python310\\lib\\site-packages\\autogluon\\multimodal\\learners\\base.py:2363\u001b[0m, in \u001b[0;36mBaseLearner.load\u001b[1;34m(cls, path, resume, verbosity)\u001b[0m\n\u001b[0;32m   2358\u001b[0m \u001b[38;5;28;01mif\u001b[39;00m learner\u001b[38;5;241m.\u001b[39m_data_processors \u001b[38;5;129;01mis\u001b[39;00m \u001b[38;5;28;01mNone\u001b[39;00m:\n\u001b[0;32m   2359\u001b[0m     learner\u001b[38;5;241m.\u001b[39m_data_processors \u001b[38;5;241m=\u001b[39m create_fusion_data_processors(\n\u001b[0;32m   2360\u001b[0m         config\u001b[38;5;241m=\u001b[39mlearner\u001b[38;5;241m.\u001b[39m_config,\n\u001b[0;32m   2361\u001b[0m         model\u001b[38;5;241m=\u001b[39mlearner\u001b[38;5;241m.\u001b[39m_model,\n\u001b[0;32m   2362\u001b[0m     )\n\u001b[1;32m-> 2363\u001b[0m load_path, ckpt_path \u001b[38;5;241m=\u001b[39m \u001b[43mget_load_ckpt_paths\u001b[49m\u001b[43m(\u001b[49m\n\u001b[0;32m   2364\u001b[0m \u001b[43m    \u001b[49m\u001b[43mckpt_path\u001b[49m\u001b[38;5;241;43m=\u001b[39;49m\u001b[43mckpt_path\u001b[49m\u001b[43m,\u001b[49m\n\u001b[0;32m   2365\u001b[0m \u001b[43m    \u001b[49m\u001b[43mdir_path\u001b[49m\u001b[38;5;241;43m=\u001b[39;49m\u001b[43mdir_path\u001b[49m\u001b[43m,\u001b[49m\n\u001b[0;32m   2366\u001b[0m \u001b[43m    \u001b[49m\u001b[43mresume\u001b[49m\u001b[38;5;241;43m=\u001b[39;49m\u001b[43mresume\u001b[49m\u001b[43m,\u001b[49m\n\u001b[0;32m   2367\u001b[0m \u001b[43m\u001b[49m\u001b[43m)\u001b[49m\n\u001b[0;32m   2368\u001b[0m learner\u001b[38;5;241m.\u001b[39m_load_state_dict(\n\u001b[0;32m   2369\u001b[0m     path\u001b[38;5;241m=\u001b[39mload_path,\n\u001b[0;32m   2370\u001b[0m     strict\u001b[38;5;241m=\u001b[39m\u001b[38;5;129;01mnot\u001b[39;00m peft,\n\u001b[0;32m   2371\u001b[0m )\n\u001b[0;32m   2372\u001b[0m learner\u001b[38;5;241m.\u001b[39m_ckpt_path \u001b[38;5;241m=\u001b[39m ckpt_path\n",
            "File \u001b[1;32mc:\\Users\\Anthony\\AppData\\Local\\Programs\\Python\\Python310\\lib\\site-packages\\autogluon\\multimodal\\utils\\load.py:131\u001b[0m, in \u001b[0;36mget_load_ckpt_paths\u001b[1;34m(ckpt_path, dir_path, resume)\u001b[0m\n\u001b[0;32m    125\u001b[0m         \u001b[38;5;28;01mraise\u001b[39;00m \u001b[38;5;167;01mValueError\u001b[39;00m(\n\u001b[0;32m    126\u001b[0m             \u001b[38;5;124mf\u001b[39m\u001b[38;5;124m\"\u001b[39m\u001b[38;5;124mFinal checkpoint \u001b[39m\u001b[38;5;124m'\u001b[39m\u001b[38;5;132;01m{\u001b[39;00mfinal_ckpt_path\u001b[38;5;132;01m}\u001b[39;00m\u001b[38;5;124m'\u001b[39m\u001b[38;5;124m doesn\u001b[39m\u001b[38;5;124m'\u001b[39m\u001b[38;5;124mt exist, but \u001b[39m\u001b[38;5;124m\"\u001b[39m\n\u001b[0;32m    127\u001b[0m             \u001b[38;5;124mf\u001b[39m\u001b[38;5;124m\"\u001b[39m\u001b[38;5;124mresuming checkpoint \u001b[39m\u001b[38;5;124m'\u001b[39m\u001b[38;5;132;01m{\u001b[39;00mresume_ckpt_path\u001b[38;5;132;01m}\u001b[39;00m\u001b[38;5;124m'\u001b[39m\u001b[38;5;124m exists, which means training \u001b[39m\u001b[38;5;124m\"\u001b[39m\n\u001b[0;32m    128\u001b[0m             \u001b[38;5;124mf\u001b[39m\u001b[38;5;124m\"\u001b[39m\u001b[38;5;124mis not done yet. Consider resume training from \u001b[39m\u001b[38;5;124m'\u001b[39m\u001b[38;5;132;01m{\u001b[39;00mresume_ckpt_path\u001b[38;5;132;01m}\u001b[39;00m\u001b[38;5;124m'\u001b[39m\u001b[38;5;124m.\u001b[39m\u001b[38;5;124m\"\u001b[39m\n\u001b[0;32m    129\u001b[0m         )\n\u001b[0;32m    130\u001b[0m     \u001b[38;5;28;01melse\u001b[39;00m:\n\u001b[1;32m--> 131\u001b[0m         \u001b[38;5;28;01mraise\u001b[39;00m \u001b[38;5;167;01mValueError\u001b[39;00m(\n\u001b[0;32m    132\u001b[0m             \u001b[38;5;124mf\u001b[39m\u001b[38;5;124m\"\u001b[39m\u001b[38;5;124mResuming checkpoint \u001b[39m\u001b[38;5;124m'\u001b[39m\u001b[38;5;132;01m{\u001b[39;00mresume_ckpt_path\u001b[38;5;132;01m}\u001b[39;00m\u001b[38;5;124m'\u001b[39m\u001b[38;5;124m and \u001b[39m\u001b[38;5;124m\"\u001b[39m\n\u001b[0;32m    133\u001b[0m             \u001b[38;5;124mf\u001b[39m\u001b[38;5;124m\"\u001b[39m\u001b[38;5;124mfinal checkpoint \u001b[39m\u001b[38;5;124m'\u001b[39m\u001b[38;5;132;01m{\u001b[39;00mfinal_ckpt_path\u001b[38;5;132;01m}\u001b[39;00m\u001b[38;5;124m'\u001b[39m\u001b[38;5;124m both don\u001b[39m\u001b[38;5;124m'\u001b[39m\u001b[38;5;124mt exist. \u001b[39m\u001b[38;5;124m\"\u001b[39m\n\u001b[0;32m    134\u001b[0m             \u001b[38;5;124mf\u001b[39m\u001b[38;5;124m\"\u001b[39m\u001b[38;5;124mConsider starting training from scratch.\u001b[39m\u001b[38;5;124m\"\u001b[39m\n\u001b[0;32m    135\u001b[0m         )\n\u001b[0;32m    136\u001b[0m load_path \u001b[38;5;241m=\u001b[39m final_ckpt_path\n\u001b[0;32m    137\u001b[0m logger\u001b[38;5;241m.\u001b[39minfo(\u001b[38;5;124mf\u001b[39m\u001b[38;5;124m\"\u001b[39m\u001b[38;5;124mLoad pretrained checkpoint: \u001b[39m\u001b[38;5;132;01m{\u001b[39;00mos\u001b[38;5;241m.\u001b[39mpath\u001b[38;5;241m.\u001b[39mjoin(dir_path,\u001b[38;5;250m \u001b[39mMODEL_CHECKPOINT)\u001b[38;5;132;01m}\u001b[39;00m\u001b[38;5;124m\"\u001b[39m)\n",
            "\u001b[1;31mValueError\u001b[0m: Resuming checkpoint 'c:\\Users\\Anthony\\Desktop\\Grad School\\CMPE 255\\Notebooks\\tmp\\a873abf5c17d466b895b82ab5ce971f8-automm_shopee\\last.ckpt' and final checkpoint 'c:\\Users\\Anthony\\Desktop\\Grad School\\CMPE 255\\Notebooks\\tmp\\a873abf5c17d466b895b82ab5ce971f8-automm_shopee\\model.ckpt' both don't exist. Consider starting training from scratch."
          ]
        }
      ],
      "source": [
        "loaded_predictor = MultiModalPredictor.load(model_path)\n",
        "load_proba = loaded_predictor.predict_proba({'image': [image_path]})\n",
        "print(load_proba)"
      ]
    },
    {
      "cell_type": "markdown",
      "id": "f650eda5",
      "metadata": {
        "id": "f650eda5"
      },
      "source": [
        "We can see the predicted class probabilities are still the same as above, which means same model!\n",
        "\n",
        "## Other Examples\n",
        "\n",
        "You may go to [AutoMM Examples](https://github.com/autogluon/autogluon/tree/master/examples/automm) to explore other examples about AutoMM.\n",
        "\n",
        "## Customization\n",
        "To learn how to customize AutoMM, please refer to [Customize AutoMM](../advanced_topics/customization.ipynb)."
      ]
    }
  ],
  "metadata": {
    "colab": {
      "provenance": []
    },
    "kernelspec": {
      "display_name": "Python 3",
      "language": "python",
      "name": "python3"
    },
    "language_info": {
      "codemirror_mode": {
        "name": "ipython",
        "version": 3
      },
      "file_extension": ".py",
      "mimetype": "text/x-python",
      "name": "python",
      "nbconvert_exporter": "python",
      "pygments_lexer": "ipython3",
      "version": "3.10.11"
    }
  },
  "nbformat": 4,
  "nbformat_minor": 5
}
