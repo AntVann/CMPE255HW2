{
  "cells": [
    {
      "cell_type": "markdown",
      "id": "388db11c",
      "metadata": {
        "id": "388db11c"
      },
      "source": [
        "# AutoMM for Text - Quick Start\n",
        "\n",
        "[![Open In Colab](https://colab.research.google.com/assets/colab-badge.svg)](https://colab.research.google.com/github/autogluon/autogluon/blob/stable/docs/tutorials/multimodal/text_prediction/beginner_text.ipynb)\n",
        "[![Open In SageMaker Studio Lab](https://studiolab.sagemaker.aws/studiolab.svg)](https://studiolab.sagemaker.aws/import/github/autogluon/autogluon/blob/stable/docs/tutorials/multimodal/text_prediction/beginner_text.ipynb)\n",
        "\n",
        "\n",
        "\n",
        "`MultiModalPredictor` can solve problems where the data are either image, text, numerical values, or categorical features.\n",
        "To get started, we first demonstrate how to use it to solve problems that only contain text. We pick two classical NLP problems for the purpose of demonstration:\n",
        "\n",
        "- [Sentiment Analysis](https://en.wikipedia.org/wiki/Sentiment_analysis)\n",
        "- [Sentence Similarity](https://arxiv.org/abs/1910.03940)\n",
        "\n",
        "Here, we format the NLP datasets as data tables where\n",
        "the feature columns contain text fields and the label column contain numerical (regression) / categorical (classification) values.\n",
        "Each row in the table corresponds to one training sample."
      ]
    },
    {
      "cell_type": "code",
      "execution_count": 15,
      "id": "dc2f2f1e",
      "metadata": {},
      "outputs": [
        {
          "name": "stdout",
          "output_type": "stream",
          "text": [
            "Found existing installation: autogluon.multimodal 1.1.1\n",
            "Uninstalling autogluon.multimodal-1.1.1:\n",
            "  Successfully uninstalled autogluon.multimodal-1.1.1\n",
            "Found existing installation: autogluon.core 1.1.1\n",
            "Uninstalling autogluon.core-1.1.1:\n",
            "  Successfully uninstalled autogluon.core-1.1.1\n",
            "Found existing installation: torch 2.4.1\n",
            "Uninstalling torch-2.4.1:\n",
            "  Successfully uninstalled torch-2.4.1\n",
            "Found existing installation: torchaudio 2.4.1\n",
            "Uninstalling torchaudio-2.4.1:\n",
            "  Successfully uninstalled torchaudio-2.4.1\n"
          ]
        },
        {
          "name": "stderr",
          "output_type": "stream",
          "text": [
            "WARNING: Skipping autogluon as it is not installed.\n",
            "WARNING: Skipping autogluon.tabular as it is not installed.\n"
          ]
        }
      ],
      "source": [
        "!pip uninstall autogluon autogluon.tabular autogluon.multimodal autogluon.core torch torchaudio -y\n"
      ]
    },
    {
      "cell_type": "code",
      "execution_count": 16,
      "id": "aa00faab-252f-44c9-b8f7-57131aa8251c",
      "metadata": {
        "id": "aa00faab-252f-44c9-b8f7-57131aa8251c",
        "tags": [
          "remove-cell"
        ]
      },
      "outputs": [
        {
          "name": "stdout",
          "output_type": "stream",
          "text": [
            "Collecting autogluon.multimodal\n",
            "  Using cached autogluon.multimodal-1.1.1-py3-none-any.whl.metadata (12 kB)\n",
            "Requirement already satisfied: numpy<1.29,>=1.21 in c:\\users\\anthony\\appdata\\local\\programs\\python\\python310\\lib\\site-packages (from autogluon.multimodal) (1.23.5)\n",
            "Requirement already satisfied: scipy<1.13,>=1.5.4 in c:\\users\\anthony\\appdata\\local\\programs\\python\\python310\\lib\\site-packages (from autogluon.multimodal) (1.10.1)\n",
            "Requirement already satisfied: pandas<2.3.0,>=2.0.0 in c:\\users\\anthony\\appdata\\local\\programs\\python\\python310\\lib\\site-packages (from autogluon.multimodal) (2.0.3)\n",
            "Requirement already satisfied: scikit-learn<1.4.1,>=1.3.0 in c:\\users\\anthony\\appdata\\local\\programs\\python\\python310\\lib\\site-packages (from autogluon.multimodal) (1.4.0)\n",
            "Requirement already satisfied: Pillow<11,>=10.0.1 in c:\\users\\anthony\\appdata\\local\\programs\\python\\python310\\lib\\site-packages (from autogluon.multimodal) (10.4.0)\n",
            "Requirement already satisfied: tqdm<5,>=4.38 in c:\\users\\anthony\\appdata\\local\\programs\\python\\python310\\lib\\site-packages (from autogluon.multimodal) (4.66.5)\n",
            "Requirement already satisfied: boto3<2,>=1.10 in c:\\users\\anthony\\appdata\\local\\programs\\python\\python310\\lib\\site-packages (from autogluon.multimodal) (1.35.24)\n",
            "Collecting torch<2.4,>=2.2 (from autogluon.multimodal)\n",
            "  Using cached torch-2.3.1-cp310-cp310-win_amd64.whl.metadata (26 kB)\n",
            "Requirement already satisfied: lightning<2.4,>=2.2 in c:\\users\\anthony\\appdata\\local\\programs\\python\\python310\\lib\\site-packages (from autogluon.multimodal) (2.3.3)\n",
            "Requirement already satisfied: transformers<4.41.0,>=4.38.0 in c:\\users\\anthony\\appdata\\local\\programs\\python\\python310\\lib\\site-packages (from transformers[sentencepiece]<4.41.0,>=4.38.0->autogluon.multimodal) (4.40.2)\n",
            "Requirement already satisfied: accelerate<0.22.0,>=0.21.0 in c:\\users\\anthony\\appdata\\local\\programs\\python\\python310\\lib\\site-packages (from autogluon.multimodal) (0.21.0)\n",
            "Requirement already satisfied: requests<3,>=2.21 in c:\\users\\anthony\\appdata\\local\\programs\\python\\python310\\lib\\site-packages (from autogluon.multimodal) (2.32.3)\n",
            "Requirement already satisfied: jsonschema<4.22,>=4.18 in c:\\users\\anthony\\appdata\\local\\programs\\python\\python310\\lib\\site-packages (from autogluon.multimodal) (4.21.1)\n",
            "Requirement already satisfied: seqeval<1.3.0,>=1.2.2 in c:\\users\\anthony\\appdata\\local\\programs\\python\\python310\\lib\\site-packages (from autogluon.multimodal) (1.2.2)\n",
            "Requirement already satisfied: evaluate<0.5.0,>=0.4.0 in c:\\users\\anthony\\appdata\\local\\programs\\python\\python310\\lib\\site-packages (from autogluon.multimodal) (0.4.3)\n",
            "Requirement already satisfied: timm<0.10.0,>=0.9.5 in c:\\users\\anthony\\appdata\\local\\programs\\python\\python310\\lib\\site-packages (from autogluon.multimodal) (0.9.16)\n",
            "Requirement already satisfied: torchvision<0.19.0,>=0.16.0 in c:\\users\\anthony\\appdata\\local\\programs\\python\\python310\\lib\\site-packages (from autogluon.multimodal) (0.18.1)\n",
            "Requirement already satisfied: scikit-image<0.21.0,>=0.19.1 in c:\\users\\anthony\\appdata\\local\\programs\\python\\python310\\lib\\site-packages (from autogluon.multimodal) (0.20.0)\n",
            "Requirement already satisfied: text-unidecode<1.4,>=1.3 in c:\\users\\anthony\\appdata\\local\\programs\\python\\python310\\lib\\site-packages (from autogluon.multimodal) (1.3)\n",
            "Requirement already satisfied: torchmetrics<1.3.0,>=1.2.0 in c:\\users\\anthony\\appdata\\local\\programs\\python\\python310\\lib\\site-packages (from autogluon.multimodal) (1.2.1)\n",
            "Requirement already satisfied: nptyping<2.5.0,>=1.4.4 in c:\\users\\anthony\\appdata\\local\\programs\\python\\python310\\lib\\site-packages (from autogluon.multimodal) (2.4.1)\n",
            "Requirement already satisfied: omegaconf<2.3.0,>=2.1.1 in c:\\users\\anthony\\appdata\\local\\programs\\python\\python310\\lib\\site-packages (from autogluon.multimodal) (2.2.3)\n",
            "Collecting autogluon.core==1.1.1 (from autogluon.core[raytune]==1.1.1->autogluon.multimodal)\n",
            "  Using cached autogluon.core-1.1.1-py3-none-any.whl.metadata (11 kB)\n",
            "Requirement already satisfied: autogluon.features==1.1.1 in c:\\users\\anthony\\appdata\\local\\programs\\python\\python310\\lib\\site-packages (from autogluon.multimodal) (1.1.1)\n",
            "Requirement already satisfied: autogluon.common==1.1.1 in c:\\users\\anthony\\appdata\\local\\programs\\python\\python310\\lib\\site-packages (from autogluon.multimodal) (1.1.1)\n",
            "Requirement already satisfied: pytorch-metric-learning<2.4,>=1.3.0 in c:\\users\\anthony\\appdata\\local\\programs\\python\\python310\\lib\\site-packages (from autogluon.multimodal) (2.3.0)\n",
            "Requirement already satisfied: nlpaug<1.2.0,>=1.1.10 in c:\\users\\anthony\\appdata\\local\\programs\\python\\python310\\lib\\site-packages (from autogluon.multimodal) (1.1.11)\n",
            "Requirement already satisfied: nltk<4.0.0,>=3.4.5 in c:\\users\\anthony\\appdata\\local\\programs\\python\\python310\\lib\\site-packages (from autogluon.multimodal) (3.9.1)\n",
            "Requirement already satisfied: openmim<0.4.0,>=0.3.7 in c:\\users\\anthony\\appdata\\local\\programs\\python\\python310\\lib\\site-packages (from autogluon.multimodal) (0.3.9)\n",
            "Requirement already satisfied: defusedxml<0.7.2,>=0.7.1 in c:\\users\\anthony\\appdata\\local\\programs\\python\\python310\\lib\\site-packages (from autogluon.multimodal) (0.7.1)\n",
            "Requirement already satisfied: jinja2<3.2,>=3.0.3 in c:\\users\\anthony\\appdata\\local\\programs\\python\\python310\\lib\\site-packages (from autogluon.multimodal) (3.1.2)\n",
            "Requirement already satisfied: tensorboard<3,>=2.9 in c:\\users\\anthony\\appdata\\local\\programs\\python\\python310\\lib\\site-packages (from autogluon.multimodal) (2.15.2)\n",
            "Requirement already satisfied: pytesseract<0.3.11,>=0.3.9 in c:\\users\\anthony\\appdata\\local\\programs\\python\\python310\\lib\\site-packages (from autogluon.multimodal) (0.3.10)\n",
            "Requirement already satisfied: nvidia-ml-py3==7.352.0 in c:\\users\\anthony\\appdata\\local\\programs\\python\\python310\\lib\\site-packages (from autogluon.multimodal) (7.352.0)\n",
            "Requirement already satisfied: pdf2image<1.19,>=1.17.0 in c:\\users\\anthony\\appdata\\local\\programs\\python\\python310\\lib\\site-packages (from autogluon.multimodal) (1.17.0)\n",
            "Requirement already satisfied: psutil<6,>=5.7.3 in c:\\users\\anthony\\appdata\\roaming\\python\\python310\\site-packages (from autogluon.common==1.1.1->autogluon.multimodal) (5.9.5)\n",
            "Requirement already satisfied: setuptools in c:\\users\\anthony\\appdata\\local\\programs\\python\\python310\\lib\\site-packages (from autogluon.common==1.1.1->autogluon.multimodal) (75.1.0)\n",
            "Requirement already satisfied: networkx<4,>=3.0 in c:\\users\\anthony\\appdata\\local\\programs\\python\\python310\\lib\\site-packages (from autogluon.core==1.1.1->autogluon.core[raytune]==1.1.1->autogluon.multimodal) (3.3)\n",
            "Requirement already satisfied: matplotlib in c:\\users\\anthony\\appdata\\local\\programs\\python\\python310\\lib\\site-packages (from autogluon.core==1.1.1->autogluon.core[raytune]==1.1.1->autogluon.multimodal) (3.7.1)\n",
            "Requirement already satisfied: ray<2.11,>=2.10.0 in c:\\users\\anthony\\appdata\\local\\programs\\python\\python310\\lib\\site-packages (from ray[default,tune]<2.11,>=2.10.0; extra == \"raytune\"->autogluon.core[raytune]==1.1.1->autogluon.multimodal) (2.10.0)\n",
            "Requirement already satisfied: hyperopt<0.2.8,>=0.2.7 in c:\\users\\anthony\\appdata\\local\\programs\\python\\python310\\lib\\site-packages (from autogluon.core[raytune]==1.1.1->autogluon.multimodal) (0.2.7)\n",
            "Requirement already satisfied: packaging>=20.0 in c:\\users\\anthony\\appdata\\local\\programs\\python\\python310\\lib\\site-packages (from accelerate<0.22.0,>=0.21.0->autogluon.multimodal) (24.1)\n",
            "Requirement already satisfied: pyyaml in c:\\users\\anthony\\appdata\\local\\programs\\python\\python310\\lib\\site-packages (from accelerate<0.22.0,>=0.21.0->autogluon.multimodal) (6.0.2)\n",
            "Requirement already satisfied: botocore<1.36.0,>=1.35.24 in c:\\users\\anthony\\appdata\\local\\programs\\python\\python310\\lib\\site-packages (from boto3<2,>=1.10->autogluon.multimodal) (1.35.24)\n",
            "Requirement already satisfied: jmespath<2.0.0,>=0.7.1 in c:\\users\\anthony\\appdata\\local\\programs\\python\\python310\\lib\\site-packages (from boto3<2,>=1.10->autogluon.multimodal) (1.0.1)\n",
            "Requirement already satisfied: s3transfer<0.11.0,>=0.10.0 in c:\\users\\anthony\\appdata\\local\\programs\\python\\python310\\lib\\site-packages (from boto3<2,>=1.10->autogluon.multimodal) (0.10.2)\n",
            "Requirement already satisfied: datasets>=2.0.0 in c:\\users\\anthony\\appdata\\local\\programs\\python\\python310\\lib\\site-packages (from evaluate<0.5.0,>=0.4.0->autogluon.multimodal) (3.0.1)\n",
            "Requirement already satisfied: dill in c:\\users\\anthony\\appdata\\local\\programs\\python\\python310\\lib\\site-packages (from evaluate<0.5.0,>=0.4.0->autogluon.multimodal) (0.3.8)\n",
            "Requirement already satisfied: xxhash in c:\\users\\anthony\\appdata\\local\\programs\\python\\python310\\lib\\site-packages (from evaluate<0.5.0,>=0.4.0->autogluon.multimodal) (3.5.0)\n",
            "Requirement already satisfied: multiprocess in c:\\users\\anthony\\appdata\\local\\programs\\python\\python310\\lib\\site-packages (from evaluate<0.5.0,>=0.4.0->autogluon.multimodal) (0.70.16)\n",
            "Requirement already satisfied: fsspec>=2021.05.0 in c:\\users\\anthony\\appdata\\local\\programs\\python\\python310\\lib\\site-packages (from fsspec[http]>=2021.05.0->evaluate<0.5.0,>=0.4.0->autogluon.multimodal) (2024.6.1)\n",
            "Requirement already satisfied: huggingface-hub>=0.7.0 in c:\\users\\anthony\\appdata\\local\\programs\\python\\python310\\lib\\site-packages (from evaluate<0.5.0,>=0.4.0->autogluon.multimodal) (0.25.0)\n",
            "Requirement already satisfied: MarkupSafe>=2.0 in c:\\users\\anthony\\appdata\\local\\programs\\python\\python310\\lib\\site-packages (from jinja2<3.2,>=3.0.3->autogluon.multimodal) (2.1.5)\n",
            "Requirement already satisfied: attrs>=22.2.0 in c:\\users\\anthony\\appdata\\local\\programs\\python\\python310\\lib\\site-packages (from jsonschema<4.22,>=4.18->autogluon.multimodal) (24.2.0)\n",
            "Requirement already satisfied: jsonschema-specifications>=2023.03.6 in c:\\users\\anthony\\appdata\\local\\programs\\python\\python310\\lib\\site-packages (from jsonschema<4.22,>=4.18->autogluon.multimodal) (2023.12.1)\n",
            "Requirement already satisfied: referencing>=0.28.4 in c:\\users\\anthony\\appdata\\local\\programs\\python\\python310\\lib\\site-packages (from jsonschema<4.22,>=4.18->autogluon.multimodal) (0.35.1)\n",
            "Requirement already satisfied: rpds-py>=0.7.1 in c:\\users\\anthony\\appdata\\local\\programs\\python\\python310\\lib\\site-packages (from jsonschema<4.22,>=4.18->autogluon.multimodal) (0.20.0)\n",
            "Requirement already satisfied: lightning-utilities<2.0,>=0.10.0 in c:\\users\\anthony\\appdata\\local\\programs\\python\\python310\\lib\\site-packages (from lightning<2.4,>=2.2->autogluon.multimodal) (0.11.7)\n",
            "Requirement already satisfied: typing-extensions<6.0,>=4.4.0 in c:\\users\\anthony\\appdata\\local\\programs\\python\\python310\\lib\\site-packages (from lightning<2.4,>=2.2->autogluon.multimodal) (4.12.2)\n",
            "Requirement already satisfied: pytorch-lightning in c:\\users\\anthony\\appdata\\local\\programs\\python\\python310\\lib\\site-packages (from lightning<2.4,>=2.2->autogluon.multimodal) (2.4.0)\n",
            "Requirement already satisfied: gdown>=4.0.0 in c:\\users\\anthony\\appdata\\local\\programs\\python\\python310\\lib\\site-packages (from nlpaug<1.2.0,>=1.1.10->autogluon.multimodal) (5.2.0)\n",
            "Requirement already satisfied: click in c:\\users\\anthony\\appdata\\local\\programs\\python\\python310\\lib\\site-packages (from nltk<4.0.0,>=3.4.5->autogluon.multimodal) (8.1.3)\n",
            "Requirement already satisfied: joblib in c:\\users\\anthony\\appdata\\local\\programs\\python\\python310\\lib\\site-packages (from nltk<4.0.0,>=3.4.5->autogluon.multimodal) (1.2.0)\n",
            "Requirement already satisfied: regex>=2021.8.3 in c:\\users\\anthony\\appdata\\local\\programs\\python\\python310\\lib\\site-packages (from nltk<4.0.0,>=3.4.5->autogluon.multimodal) (2024.9.11)\n",
            "Requirement already satisfied: antlr4-python3-runtime==4.9.* in c:\\users\\anthony\\appdata\\local\\programs\\python\\python310\\lib\\site-packages (from omegaconf<2.3.0,>=2.1.1->autogluon.multimodal) (4.9.3)\n",
            "Requirement already satisfied: colorama in c:\\users\\anthony\\appdata\\local\\programs\\python\\python310\\lib\\site-packages (from openmim<0.4.0,>=0.3.7->autogluon.multimodal) (0.4.6)\n",
            "Requirement already satisfied: model-index in c:\\users\\anthony\\appdata\\local\\programs\\python\\python310\\lib\\site-packages (from openmim<0.4.0,>=0.3.7->autogluon.multimodal) (0.1.11)\n",
            "Requirement already satisfied: opendatalab in c:\\users\\anthony\\appdata\\local\\programs\\python\\python310\\lib\\site-packages (from openmim<0.4.0,>=0.3.7->autogluon.multimodal) (0.0.10)\n",
            "Requirement already satisfied: pip>=19.3 in c:\\users\\anthony\\appdata\\local\\programs\\python\\python310\\lib\\site-packages (from openmim<0.4.0,>=0.3.7->autogluon.multimodal) (24.2)\n",
            "Requirement already satisfied: rich in c:\\users\\anthony\\appdata\\local\\programs\\python\\python310\\lib\\site-packages (from openmim<0.4.0,>=0.3.7->autogluon.multimodal) (13.8.1)\n",
            "Requirement already satisfied: tabulate in c:\\users\\anthony\\appdata\\local\\programs\\python\\python310\\lib\\site-packages (from openmim<0.4.0,>=0.3.7->autogluon.multimodal) (0.9.0)\n",
            "Requirement already satisfied: python-dateutil>=2.8.2 in c:\\users\\anthony\\appdata\\local\\programs\\python\\python310\\lib\\site-packages (from pandas<2.3.0,>=2.0.0->autogluon.multimodal) (2.8.2)\n",
            "Requirement already satisfied: pytz>=2020.1 in c:\\users\\anthony\\appdata\\local\\programs\\python\\python310\\lib\\site-packages (from pandas<2.3.0,>=2.0.0->autogluon.multimodal) (2023.3)\n",
            "Requirement already satisfied: tzdata>=2022.1 in c:\\users\\anthony\\appdata\\local\\programs\\python\\python310\\lib\\site-packages (from pandas<2.3.0,>=2.0.0->autogluon.multimodal) (2023.3)\n",
            "Requirement already satisfied: charset-normalizer<4,>=2 in c:\\users\\anthony\\appdata\\local\\programs\\python\\python310\\lib\\site-packages (from requests<3,>=2.21->autogluon.multimodal) (3.3.2)\n",
            "Requirement already satisfied: idna<4,>=2.5 in c:\\users\\anthony\\appdata\\local\\programs\\python\\python310\\lib\\site-packages (from requests<3,>=2.21->autogluon.multimodal) (3.10)\n",
            "Requirement already satisfied: urllib3<3,>=1.21.1 in c:\\users\\anthony\\appdata\\local\\programs\\python\\python310\\lib\\site-packages (from requests<3,>=2.21->autogluon.multimodal) (2.2.3)\n",
            "Requirement already satisfied: certifi>=2017.4.17 in c:\\users\\anthony\\appdata\\local\\programs\\python\\python310\\lib\\site-packages (from requests<3,>=2.21->autogluon.multimodal) (2024.8.30)\n",
            "Requirement already satisfied: imageio>=2.4.1 in c:\\users\\anthony\\appdata\\local\\programs\\python\\python310\\lib\\site-packages (from scikit-image<0.21.0,>=0.19.1->autogluon.multimodal) (2.35.1)\n",
            "Requirement already satisfied: tifffile>=2019.7.26 in c:\\users\\anthony\\appdata\\local\\programs\\python\\python310\\lib\\site-packages (from scikit-image<0.21.0,>=0.19.1->autogluon.multimodal) (2024.9.20)\n",
            "Requirement already satisfied: PyWavelets>=1.1.1 in c:\\users\\anthony\\appdata\\local\\programs\\python\\python310\\lib\\site-packages (from scikit-image<0.21.0,>=0.19.1->autogluon.multimodal) (1.7.0)\n",
            "Requirement already satisfied: lazy_loader>=0.1 in c:\\users\\anthony\\appdata\\local\\programs\\python\\python310\\lib\\site-packages (from scikit-image<0.21.0,>=0.19.1->autogluon.multimodal) (0.4)\n",
            "Requirement already satisfied: threadpoolctl>=2.0.0 in c:\\users\\anthony\\appdata\\local\\programs\\python\\python310\\lib\\site-packages (from scikit-learn<1.4.1,>=1.3.0->autogluon.multimodal) (3.1.0)\n",
            "Requirement already satisfied: absl-py>=0.4 in c:\\users\\anthony\\appdata\\local\\programs\\python\\python310\\lib\\site-packages (from tensorboard<3,>=2.9->autogluon.multimodal) (2.1.0)\n",
            "Requirement already satisfied: grpcio>=1.48.2 in c:\\users\\anthony\\appdata\\local\\programs\\python\\python310\\lib\\site-packages (from tensorboard<3,>=2.9->autogluon.multimodal) (1.66.1)\n",
            "Requirement already satisfied: google-auth<3,>=1.6.3 in c:\\users\\anthony\\appdata\\local\\programs\\python\\python310\\lib\\site-packages (from tensorboard<3,>=2.9->autogluon.multimodal) (2.35.0)\n",
            "Requirement already satisfied: google-auth-oauthlib<2,>=0.5 in c:\\users\\anthony\\appdata\\local\\programs\\python\\python310\\lib\\site-packages (from tensorboard<3,>=2.9->autogluon.multimodal) (1.2.1)\n",
            "Requirement already satisfied: markdown>=2.6.8 in c:\\users\\anthony\\appdata\\local\\programs\\python\\python310\\lib\\site-packages (from tensorboard<3,>=2.9->autogluon.multimodal) (3.7)\n",
            "Requirement already satisfied: protobuf!=4.24.0,>=3.19.6 in c:\\users\\anthony\\appdata\\local\\programs\\python\\python310\\lib\\site-packages (from tensorboard<3,>=2.9->autogluon.multimodal) (4.25.5)\n",
            "Requirement already satisfied: six>1.9 in c:\\users\\anthony\\appdata\\local\\programs\\python\\python310\\lib\\site-packages (from tensorboard<3,>=2.9->autogluon.multimodal) (1.16.0)\n",
            "Requirement already satisfied: tensorboard-data-server<0.8.0,>=0.7.0 in c:\\users\\anthony\\appdata\\local\\programs\\python\\python310\\lib\\site-packages (from tensorboard<3,>=2.9->autogluon.multimodal) (0.7.2)\n",
            "Requirement already satisfied: werkzeug>=1.0.1 in c:\\users\\anthony\\appdata\\local\\programs\\python\\python310\\lib\\site-packages (from tensorboard<3,>=2.9->autogluon.multimodal) (3.0.4)\n",
            "Requirement already satisfied: safetensors in c:\\users\\anthony\\appdata\\local\\programs\\python\\python310\\lib\\site-packages (from timm<0.10.0,>=0.9.5->autogluon.multimodal) (0.4.5)\n",
            "Requirement already satisfied: filelock in c:\\users\\anthony\\appdata\\local\\programs\\python\\python310\\lib\\site-packages (from torch<2.4,>=2.2->autogluon.multimodal) (3.12.0)\n",
            "Requirement already satisfied: sympy in c:\\users\\anthony\\appdata\\local\\programs\\python\\python310\\lib\\site-packages (from torch<2.4,>=2.2->autogluon.multimodal) (1.13.3)\n",
            "Requirement already satisfied: mkl<=2021.4.0,>=2021.1.1 in c:\\users\\anthony\\appdata\\local\\programs\\python\\python310\\lib\\site-packages (from torch<2.4,>=2.2->autogluon.multimodal) (2021.4.0)\n",
            "Requirement already satisfied: tokenizers<0.20,>=0.19 in c:\\users\\anthony\\appdata\\local\\programs\\python\\python310\\lib\\site-packages (from transformers<4.41.0,>=4.38.0->transformers[sentencepiece]<4.41.0,>=4.38.0->autogluon.multimodal) (0.19.1)\n",
            "Requirement already satisfied: sentencepiece!=0.1.92,>=0.1.91 in c:\\users\\anthony\\appdata\\local\\programs\\python\\python310\\lib\\site-packages (from transformers[sentencepiece]<4.41.0,>=4.38.0->autogluon.multimodal) (0.2.0)\n",
            "Requirement already satisfied: pyarrow>=15.0.0 in c:\\users\\anthony\\appdata\\local\\programs\\python\\python310\\lib\\site-packages (from datasets>=2.0.0->evaluate<0.5.0,>=0.4.0->autogluon.multimodal) (17.0.0)\n",
            "Requirement already satisfied: aiohttp in c:\\users\\anthony\\appdata\\local\\programs\\python\\python310\\lib\\site-packages (from datasets>=2.0.0->evaluate<0.5.0,>=0.4.0->autogluon.multimodal) (3.10.7)\n",
            "Requirement already satisfied: beautifulsoup4 in c:\\users\\anthony\\appdata\\local\\programs\\python\\python310\\lib\\site-packages (from gdown>=4.0.0->nlpaug<1.2.0,>=1.1.10->autogluon.multimodal) (4.12.3)\n",
            "Requirement already satisfied: cachetools<6.0,>=2.0.0 in c:\\users\\anthony\\appdata\\local\\programs\\python\\python310\\lib\\site-packages (from google-auth<3,>=1.6.3->tensorboard<3,>=2.9->autogluon.multimodal) (5.3.0)\n",
            "Requirement already satisfied: pyasn1-modules>=0.2.1 in c:\\users\\anthony\\appdata\\local\\programs\\python\\python310\\lib\\site-packages (from google-auth<3,>=1.6.3->tensorboard<3,>=2.9->autogluon.multimodal) (0.3.0)\n",
            "Requirement already satisfied: rsa<5,>=3.1.4 in c:\\users\\anthony\\appdata\\local\\programs\\python\\python310\\lib\\site-packages (from google-auth<3,>=1.6.3->tensorboard<3,>=2.9->autogluon.multimodal) (4.9)\n",
            "Requirement already satisfied: requests-oauthlib>=0.7.0 in c:\\users\\anthony\\appdata\\local\\programs\\python\\python310\\lib\\site-packages (from google-auth-oauthlib<2,>=0.5->tensorboard<3,>=2.9->autogluon.multimodal) (1.3.1)\n",
            "Requirement already satisfied: future in c:\\users\\anthony\\appdata\\local\\programs\\python\\python310\\lib\\site-packages (from hyperopt<0.2.8,>=0.2.7->autogluon.core[raytune]==1.1.1->autogluon.multimodal) (1.0.0)\n",
            "Requirement already satisfied: cloudpickle in c:\\users\\anthony\\appdata\\local\\programs\\python\\python310\\lib\\site-packages (from hyperopt<0.2.8,>=0.2.7->autogluon.core[raytune]==1.1.1->autogluon.multimodal) (3.0.0)\n",
            "Requirement already satisfied: py4j in c:\\users\\anthony\\appdata\\local\\programs\\python\\python310\\lib\\site-packages (from hyperopt<0.2.8,>=0.2.7->autogluon.core[raytune]==1.1.1->autogluon.multimodal) (0.10.9.7)\n",
            "Requirement already satisfied: intel-openmp==2021.* in c:\\users\\anthony\\appdata\\local\\programs\\python\\python310\\lib\\site-packages (from mkl<=2021.4.0,>=2021.1.1->torch<2.4,>=2.2->autogluon.multimodal) (2021.4.0)\n",
            "Requirement already satisfied: tbb==2021.* in c:\\users\\anthony\\appdata\\local\\programs\\python\\python310\\lib\\site-packages (from mkl<=2021.4.0,>=2021.1.1->torch<2.4,>=2.2->autogluon.multimodal) (2021.13.1)\n",
            "Requirement already satisfied: msgpack<2.0.0,>=1.0.0 in c:\\users\\anthony\\appdata\\local\\programs\\python\\python310\\lib\\site-packages (from ray<2.11,>=2.10.0->ray[default,tune]<2.11,>=2.10.0; extra == \"raytune\"->autogluon.core[raytune]==1.1.1->autogluon.multimodal) (1.1.0)\n",
            "Requirement already satisfied: aiosignal in c:\\users\\anthony\\appdata\\local\\programs\\python\\python310\\lib\\site-packages (from ray<2.11,>=2.10.0->ray[default,tune]<2.11,>=2.10.0; extra == \"raytune\"->autogluon.core[raytune]==1.1.1->autogluon.multimodal) (1.3.1)\n",
            "Requirement already satisfied: frozenlist in c:\\users\\anthony\\appdata\\local\\programs\\python\\python310\\lib\\site-packages (from ray<2.11,>=2.10.0->ray[default,tune]<2.11,>=2.10.0; extra == \"raytune\"->autogluon.core[raytune]==1.1.1->autogluon.multimodal) (1.4.1)\n",
            "Requirement already satisfied: aiohttp-cors in c:\\users\\anthony\\appdata\\local\\programs\\python\\python310\\lib\\site-packages (from ray[default,tune]<2.11,>=2.10.0; extra == \"raytune\"->autogluon.core[raytune]==1.1.1->autogluon.multimodal) (0.7.0)\n",
            "Requirement already satisfied: colorful in c:\\users\\anthony\\appdata\\local\\programs\\python\\python310\\lib\\site-packages (from ray[default,tune]<2.11,>=2.10.0; extra == \"raytune\"->autogluon.core[raytune]==1.1.1->autogluon.multimodal) (0.5.6)\n",
            "Requirement already satisfied: py-spy>=0.2.0 in c:\\users\\anthony\\appdata\\local\\programs\\python\\python310\\lib\\site-packages (from ray[default,tune]<2.11,>=2.10.0; extra == \"raytune\"->autogluon.core[raytune]==1.1.1->autogluon.multimodal) (0.3.14)\n",
            "Requirement already satisfied: opencensus in c:\\users\\anthony\\appdata\\local\\programs\\python\\python310\\lib\\site-packages (from ray[default,tune]<2.11,>=2.10.0; extra == \"raytune\"->autogluon.core[raytune]==1.1.1->autogluon.multimodal) (0.11.4)\n",
            "Requirement already satisfied: pydantic!=2.0.*,!=2.1.*,!=2.2.*,!=2.3.*,!=2.4.*,<3 in c:\\users\\anthony\\appdata\\local\\programs\\python\\python310\\lib\\site-packages (from ray[default,tune]<2.11,>=2.10.0; extra == \"raytune\"->autogluon.core[raytune]==1.1.1->autogluon.multimodal) (2.9.2)\n",
            "Requirement already satisfied: prometheus-client>=0.7.1 in c:\\users\\anthony\\appdata\\local\\programs\\python\\python310\\lib\\site-packages (from ray[default,tune]<2.11,>=2.10.0; extra == \"raytune\"->autogluon.core[raytune]==1.1.1->autogluon.multimodal) (0.21.0)\n",
            "Requirement already satisfied: smart-open in c:\\users\\anthony\\appdata\\local\\programs\\python\\python310\\lib\\site-packages (from ray[default,tune]<2.11,>=2.10.0; extra == \"raytune\"->autogluon.core[raytune]==1.1.1->autogluon.multimodal) (7.0.4)\n",
            "Requirement already satisfied: virtualenv!=20.21.1,>=20.0.24 in c:\\users\\anthony\\appdata\\local\\programs\\python\\python310\\lib\\site-packages (from ray[default,tune]<2.11,>=2.10.0; extra == \"raytune\"->autogluon.core[raytune]==1.1.1->autogluon.multimodal) (20.23.0)\n",
            "Requirement already satisfied: tensorboardX>=1.9 in c:\\users\\anthony\\appdata\\local\\programs\\python\\python310\\lib\\site-packages (from ray[default,tune]<2.11,>=2.10.0; extra == \"raytune\"->autogluon.core[raytune]==1.1.1->autogluon.multimodal) (2.6.2.2)\n",
            "Requirement already satisfied: contourpy>=1.0.1 in c:\\users\\anthony\\appdata\\local\\programs\\python\\python310\\lib\\site-packages (from matplotlib->autogluon.core==1.1.1->autogluon.core[raytune]==1.1.1->autogluon.multimodal) (1.0.7)\n",
            "Requirement already satisfied: cycler>=0.10 in c:\\users\\anthony\\appdata\\local\\programs\\python\\python310\\lib\\site-packages (from matplotlib->autogluon.core==1.1.1->autogluon.core[raytune]==1.1.1->autogluon.multimodal) (0.11.0)\n",
            "Requirement already satisfied: fonttools>=4.22.0 in c:\\users\\anthony\\appdata\\local\\programs\\python\\python310\\lib\\site-packages (from matplotlib->autogluon.core==1.1.1->autogluon.core[raytune]==1.1.1->autogluon.multimodal) (4.39.4)\n",
            "Requirement already satisfied: kiwisolver>=1.0.1 in c:\\users\\anthony\\appdata\\local\\programs\\python\\python310\\lib\\site-packages (from matplotlib->autogluon.core==1.1.1->autogluon.core[raytune]==1.1.1->autogluon.multimodal) (1.4.4)\n",
            "Requirement already satisfied: pyparsing>=2.3.1 in c:\\users\\anthony\\appdata\\local\\programs\\python\\python310\\lib\\site-packages (from matplotlib->autogluon.core==1.1.1->autogluon.core[raytune]==1.1.1->autogluon.multimodal) (3.0.9)\n",
            "Requirement already satisfied: ordered-set in c:\\users\\anthony\\appdata\\local\\programs\\python\\python310\\lib\\site-packages (from model-index->openmim<0.4.0,>=0.3.7->autogluon.multimodal) (4.1.0)\n",
            "Requirement already satisfied: pycryptodome in c:\\users\\anthony\\appdata\\local\\programs\\python\\python310\\lib\\site-packages (from opendatalab->openmim<0.4.0,>=0.3.7->autogluon.multimodal) (3.20.0)\n",
            "Requirement already satisfied: openxlab in c:\\users\\anthony\\appdata\\local\\programs\\python\\python310\\lib\\site-packages (from opendatalab->openmim<0.4.0,>=0.3.7->autogluon.multimodal) (0.0.11)\n",
            "Requirement already satisfied: pywin32 in c:\\users\\anthony\\appdata\\roaming\\python\\python310\\site-packages (from opendatalab->openmim<0.4.0,>=0.3.7->autogluon.multimodal) (306)\n",
            "Requirement already satisfied: markdown-it-py>=2.2.0 in c:\\users\\anthony\\appdata\\local\\programs\\python\\python310\\lib\\site-packages (from rich->openmim<0.4.0,>=0.3.7->autogluon.multimodal) (3.0.0)\n",
            "Requirement already satisfied: pygments<3.0.0,>=2.13.0 in c:\\users\\anthony\\appdata\\local\\programs\\python\\python310\\lib\\site-packages (from rich->openmim<0.4.0,>=0.3.7->autogluon.multimodal) (2.18.0)\n",
            "Requirement already satisfied: mpmath<1.4,>=1.1.0 in c:\\users\\anthony\\appdata\\local\\programs\\python\\python310\\lib\\site-packages (from sympy->torch<2.4,>=2.2->autogluon.multimodal) (1.3.0)\n",
            "Requirement already satisfied: aiohappyeyeballs>=2.3.0 in c:\\users\\anthony\\appdata\\local\\programs\\python\\python310\\lib\\site-packages (from aiohttp->datasets>=2.0.0->evaluate<0.5.0,>=0.4.0->autogluon.multimodal) (2.4.2)\n",
            "Requirement already satisfied: multidict<7.0,>=4.5 in c:\\users\\anthony\\appdata\\local\\programs\\python\\python310\\lib\\site-packages (from aiohttp->datasets>=2.0.0->evaluate<0.5.0,>=0.4.0->autogluon.multimodal) (6.1.0)\n",
            "Requirement already satisfied: yarl<2.0,>=1.12.0 in c:\\users\\anthony\\appdata\\local\\programs\\python\\python310\\lib\\site-packages (from aiohttp->datasets>=2.0.0->evaluate<0.5.0,>=0.4.0->autogluon.multimodal) (1.13.1)\n",
            "Requirement already satisfied: async-timeout<5.0,>=4.0 in c:\\users\\anthony\\appdata\\local\\programs\\python\\python310\\lib\\site-packages (from aiohttp->datasets>=2.0.0->evaluate<0.5.0,>=0.4.0->autogluon.multimodal) (4.0.3)\n",
            "Requirement already satisfied: mdurl~=0.1 in c:\\users\\anthony\\appdata\\local\\programs\\python\\python310\\lib\\site-packages (from markdown-it-py>=2.2.0->rich->openmim<0.4.0,>=0.3.7->autogluon.multimodal) (0.1.2)\n",
            "Requirement already satisfied: pyasn1<0.6.0,>=0.4.6 in c:\\users\\anthony\\appdata\\local\\programs\\python\\python310\\lib\\site-packages (from pyasn1-modules>=0.2.1->google-auth<3,>=1.6.3->tensorboard<3,>=2.9->autogluon.multimodal) (0.5.0)\n",
            "Requirement already satisfied: annotated-types>=0.6.0 in c:\\users\\anthony\\appdata\\local\\programs\\python\\python310\\lib\\site-packages (from pydantic!=2.0.*,!=2.1.*,!=2.2.*,!=2.3.*,!=2.4.*,<3->ray[default,tune]<2.11,>=2.10.0; extra == \"raytune\"->autogluon.core[raytune]==1.1.1->autogluon.multimodal) (0.7.0)\n",
            "Requirement already satisfied: pydantic-core==2.23.4 in c:\\users\\anthony\\appdata\\local\\programs\\python\\python310\\lib\\site-packages (from pydantic!=2.0.*,!=2.1.*,!=2.2.*,!=2.3.*,!=2.4.*,<3->ray[default,tune]<2.11,>=2.10.0; extra == \"raytune\"->autogluon.core[raytune]==1.1.1->autogluon.multimodal) (2.23.4)\n",
            "Requirement already satisfied: oauthlib>=3.0.0 in c:\\users\\anthony\\appdata\\local\\programs\\python\\python310\\lib\\site-packages (from requests-oauthlib>=0.7.0->google-auth-oauthlib<2,>=0.5->tensorboard<3,>=2.9->autogluon.multimodal) (3.2.2)\n",
            "Requirement already satisfied: distlib<1,>=0.3.6 in c:\\users\\anthony\\appdata\\local\\programs\\python\\python310\\lib\\site-packages (from virtualenv!=20.21.1,>=20.0.24->ray[default,tune]<2.11,>=2.10.0; extra == \"raytune\"->autogluon.core[raytune]==1.1.1->autogluon.multimodal) (0.3.6)\n",
            "Requirement already satisfied: platformdirs<4,>=3.2 in c:\\users\\anthony\\appdata\\local\\programs\\python\\python310\\lib\\site-packages (from virtualenv!=20.21.1,>=20.0.24->ray[default,tune]<2.11,>=2.10.0; extra == \"raytune\"->autogluon.core[raytune]==1.1.1->autogluon.multimodal) (3.5.1)\n",
            "Requirement already satisfied: soupsieve>1.2 in c:\\users\\anthony\\appdata\\local\\programs\\python\\python310\\lib\\site-packages (from beautifulsoup4->gdown>=4.0.0->nlpaug<1.2.0,>=1.1.10->autogluon.multimodal) (2.6)\n",
            "Requirement already satisfied: opencensus-context>=0.1.3 in c:\\users\\anthony\\appdata\\local\\programs\\python\\python310\\lib\\site-packages (from opencensus->ray[default,tune]<2.11,>=2.10.0; extra == \"raytune\"->autogluon.core[raytune]==1.1.1->autogluon.multimodal) (0.1.3)\n",
            "Requirement already satisfied: google-api-core<3.0.0,>=1.0.0 in c:\\users\\anthony\\appdata\\local\\programs\\python\\python310\\lib\\site-packages (from opencensus->ray[default,tune]<2.11,>=2.10.0; extra == \"raytune\"->autogluon.core[raytune]==1.1.1->autogluon.multimodal) (2.20.0)\n",
            "Requirement already satisfied: PySocks!=1.5.7,>=1.5.6 in c:\\users\\anthony\\appdata\\local\\programs\\python\\python310\\lib\\site-packages (from requests[socks]->gdown>=4.0.0->nlpaug<1.2.0,>=1.1.10->autogluon.multimodal) (1.7.1)\n",
            "Requirement already satisfied: wrapt in c:\\users\\anthony\\appdata\\local\\programs\\python\\python310\\lib\\site-packages (from smart-open->ray[default,tune]<2.11,>=2.10.0; extra == \"raytune\"->autogluon.core[raytune]==1.1.1->autogluon.multimodal) (1.14.1)\n",
            "Requirement already satisfied: googleapis-common-protos<2.0.dev0,>=1.56.2 in c:\\users\\anthony\\appdata\\local\\programs\\python\\python310\\lib\\site-packages (from google-api-core<3.0.0,>=1.0.0->opencensus->ray[default,tune]<2.11,>=2.10.0; extra == \"raytune\"->autogluon.core[raytune]==1.1.1->autogluon.multimodal) (1.65.0)\n",
            "Requirement already satisfied: proto-plus<2.0.0dev,>=1.22.3 in c:\\users\\anthony\\appdata\\local\\programs\\python\\python310\\lib\\site-packages (from google-api-core<3.0.0,>=1.0.0->opencensus->ray[default,tune]<2.11,>=2.10.0; extra == \"raytune\"->autogluon.core[raytune]==1.1.1->autogluon.multimodal) (1.24.0)\n",
            "Using cached autogluon.multimodal-1.1.1-py3-none-any.whl (427 kB)\n",
            "Using cached autogluon.core-1.1.1-py3-none-any.whl (234 kB)\n",
            "Using cached torch-2.3.1-cp310-cp310-win_amd64.whl (159.8 MB)\n",
            "Installing collected packages: torch, autogluon.core, autogluon.multimodal\n",
            "Successfully installed autogluon.core-1.1.1 autogluon.multimodal-1.1.1 torch-2.3.1\n"
          ]
        }
      ],
      "source": [
        "!pip install autogluon.multimodal\n"
      ]
    },
    {
      "cell_type": "code",
      "execution_count": 17,
      "id": "2a13e1da",
      "metadata": {
        "id": "2a13e1da"
      },
      "outputs": [],
      "source": [
        "%matplotlib inline\n",
        "\n",
        "import numpy as np\n",
        "import warnings\n",
        "import matplotlib.pyplot as plt\n",
        "\n",
        "warnings.filterwarnings('ignore')\n",
        "np.random.seed(123)"
      ]
    },
    {
      "cell_type": "markdown",
      "id": "5d16b44a",
      "metadata": {
        "id": "5d16b44a"
      },
      "source": [
        "## Sentiment Analysis Task\n",
        "\n",
        "First, we consider the Stanford Sentiment Treebank ([SST](https://nlp.stanford.edu/sentiment/)) dataset, which consists of movie reviews and their associated sentiment.\n",
        "Given a new movie review, the goal is to predict the sentiment reflected in the text (in this case a **binary classification**, where reviews are\n",
        "labeled as 1 if they convey a positive opinion and labeled as 0 otherwise). Let's first load and look at the data,\n",
        "noting the labels are stored in a column called **label**."
      ]
    },
    {
      "cell_type": "code",
      "execution_count": 18,
      "id": "a7574175",
      "metadata": {
        "id": "a7574175"
      },
      "outputs": [
        {
          "data": {
            "text/html": [
              "<div>\n",
              "<style scoped>\n",
              "    .dataframe tbody tr th:only-of-type {\n",
              "        vertical-align: middle;\n",
              "    }\n",
              "\n",
              "    .dataframe tbody tr th {\n",
              "        vertical-align: top;\n",
              "    }\n",
              "\n",
              "    .dataframe thead th {\n",
              "        text-align: right;\n",
              "    }\n",
              "</style>\n",
              "<table border=\"1\" class=\"dataframe\">\n",
              "  <thead>\n",
              "    <tr style=\"text-align: right;\">\n",
              "      <th></th>\n",
              "      <th>sentence</th>\n",
              "      <th>label</th>\n",
              "    </tr>\n",
              "  </thead>\n",
              "  <tbody>\n",
              "    <tr>\n",
              "      <th>43787</th>\n",
              "      <td>very pleasing at its best moments</td>\n",
              "      <td>1</td>\n",
              "    </tr>\n",
              "    <tr>\n",
              "      <th>16159</th>\n",
              "      <td>, american chai is enough to make you put away...</td>\n",
              "      <td>0</td>\n",
              "    </tr>\n",
              "    <tr>\n",
              "      <th>59015</th>\n",
              "      <td>too much like an infomercial for ram dass 's l...</td>\n",
              "      <td>0</td>\n",
              "    </tr>\n",
              "    <tr>\n",
              "      <th>5108</th>\n",
              "      <td>a stirring visual sequence</td>\n",
              "      <td>1</td>\n",
              "    </tr>\n",
              "    <tr>\n",
              "      <th>67052</th>\n",
              "      <td>cool visual backmasking</td>\n",
              "      <td>1</td>\n",
              "    </tr>\n",
              "    <tr>\n",
              "      <th>35938</th>\n",
              "      <td>hard ground</td>\n",
              "      <td>0</td>\n",
              "    </tr>\n",
              "    <tr>\n",
              "      <th>49879</th>\n",
              "      <td>the striking , quietly vulnerable personality ...</td>\n",
              "      <td>1</td>\n",
              "    </tr>\n",
              "    <tr>\n",
              "      <th>51591</th>\n",
              "      <td>pan nalin 's exposition is beautiful and myste...</td>\n",
              "      <td>1</td>\n",
              "    </tr>\n",
              "    <tr>\n",
              "      <th>56780</th>\n",
              "      <td>wonderfully loopy</td>\n",
              "      <td>1</td>\n",
              "    </tr>\n",
              "    <tr>\n",
              "      <th>28518</th>\n",
              "      <td>most beautiful , evocative</td>\n",
              "      <td>1</td>\n",
              "    </tr>\n",
              "  </tbody>\n",
              "</table>\n",
              "</div>"
            ],
            "text/plain": [
              "                                                sentence  label\n",
              "43787                 very pleasing at its best moments       1\n",
              "16159  , american chai is enough to make you put away...      0\n",
              "59015  too much like an infomercial for ram dass 's l...      0\n",
              "5108                         a stirring visual sequence       1\n",
              "67052                           cool visual backmasking       1\n",
              "35938                                       hard ground       0\n",
              "49879  the striking , quietly vulnerable personality ...      1\n",
              "51591  pan nalin 's exposition is beautiful and myste...      1\n",
              "56780                                 wonderfully loopy       1\n",
              "28518                        most beautiful , evocative       1"
            ]
          },
          "execution_count": 18,
          "metadata": {},
          "output_type": "execute_result"
        }
      ],
      "source": [
        "from autogluon.core.utils.loaders import load_pd\n",
        "train_data = load_pd.load('https://autogluon-text.s3-accelerate.amazonaws.com/glue/sst/train.parquet')\n",
        "test_data = load_pd.load('https://autogluon-text.s3-accelerate.amazonaws.com/glue/sst/dev.parquet')\n",
        "subsample_size = 1000  # subsample data for faster demo, try setting this to larger values\n",
        "train_data = train_data.sample(n=subsample_size, random_state=0)\n",
        "train_data.head(10)"
      ]
    },
    {
      "cell_type": "markdown",
      "id": "bf835d5d",
      "metadata": {
        "id": "bf835d5d"
      },
      "source": [
        "Above the data happen to be stored in the [Parquet](https://databricks.com/glossary/what-is-parquet) format, but you can also directly `load()` data from a [CSV](https://en.wikipedia.org/wiki/Comma-separated_values) file or other equivalent formats.\n",
        "While here we load files from [AWS S3 cloud storage](https://docs.aws.amazon.com/AmazonS3/latest/dev/Welcome.html), these could instead be local files on your machine.\n",
        "After loading, `train_data` is simply a [Pandas DataFrame](https://pandas.pydata.org/pandas-docs/stable/reference/api/pandas.DataFrame.html),\n",
        "where each row represents a different training example.\n",
        "\n",
        "### Training\n",
        "\n",
        "To ensure this tutorial runs quickly, we simply call `fit()` with a subset of 1000 training examples and limit its runtime to approximately 1 minute.\n",
        "To achieve reasonable performance in your applications, you are recommended to set much longer `time_limit` (eg. 1 hour), or do not specify `time_limit` at all (`time_limit=None`)."
      ]
    },
    {
      "cell_type": "code",
      "execution_count": 20,
      "id": "d2535bb3",
      "metadata": {
        "id": "d2535bb3"
      },
      "outputs": [
        {
          "name": "stdout",
          "output_type": "stream",
          "text": [
            "WARNING:tensorflow:From c:\\Users\\Anthony\\AppData\\Local\\Programs\\Python\\Python310\\lib\\site-packages\\keras\\src\\losses.py:2976: The name tf.losses.sparse_softmax_cross_entropy is deprecated. Please use tf.compat.v1.losses.sparse_softmax_cross_entropy instead.\n",
            "\n"
          ]
        },
        {
          "name": "stderr",
          "output_type": "stream",
          "text": [
            "=================== System Info ===================\n",
            "AutoGluon Version:  1.1.1\n",
            "Python Version:     3.10.11\n",
            "Operating System:   Windows\n",
            "Platform Machine:   AMD64\n",
            "Platform Version:   10.0.22631\n",
            "CPU Count:          24\n",
            "Pytorch Version:    2.3.1+cpu\n",
            "CUDA Version:       CUDA is not available\n",
            "Memory Avail:       18.14 GB / 31.91 GB (56.8%)\n",
            "Disk Space Avail:   72.57 GB / 464.51 GB (15.6%)\n",
            "===================================================\n",
            "AutoGluon infers your prediction problem is: 'binary' (because only two unique label-values observed).\n",
            "\t2 unique label values:  [1, 0]\n",
            "\tIf 'binary' is not the correct problem_type, please manually specify the problem_type parameter during Predictor init (You may specify problem_type as one of: ['binary', 'multiclass', 'regression', 'quantile'])\n",
            "\n",
            "AutoMM starts to create your model. ✨✨✨\n",
            "\n",
            "To track the learning progress, you can open a terminal and launch Tensorboard:\n",
            "    ```shell\n",
            "    # Assume you have installed tensorboard\n",
            "    tensorboard --logdir c:\\Users\\Anthony\\Desktop\\Grad School\\CMPE 255\\Notebooks\\tmp\\6401464a807440cfa3c2f25b4889b97f-automm_sst\n",
            "    ```\n",
            "\n",
            "Seed set to 0\n",
            "GPU Count: 0\n",
            "GPU Count to be Used: 0\n",
            "\n",
            "GPU available: False, used: False\n",
            "GPU available: False, used: False\n",
            "GPU available: False, used: False\n",
            "GPU available: False, used: False\n",
            "TPU available: False, using: 0 TPU cores\n",
            "TPU available: False, using: 0 TPU cores\n",
            "TPU available: False, using: 0 TPU cores\n",
            "TPU available: False, using: 0 TPU cores\n",
            "HPU available: False, using: 0 HPUs\n",
            "HPU available: False, using: 0 HPUs\n",
            "HPU available: False, using: 0 HPUs\n",
            "HPU available: False, using: 0 HPUs\n",
            "\n",
            "  | Name              | Type                         | Params | Mode \n",
            "---------------------------------------------------------------------------\n",
            "0 | model             | HFAutoModelForTextPrediction | 108 M  | train\n",
            "1 | validation_metric | MulticlassAccuracy           | 0      | train\n",
            "2 | loss_func         | CrossEntropyLoss             | 0      | train\n",
            "---------------------------------------------------------------------------\n",
            "108 M     Trainable params\n",
            "0         Non-trainable params\n",
            "108 M     Total params\n",
            "435.573   Total estimated model params size (MB)\n",
            "\n",
            "  | Name              | Type                         | Params | Mode \n",
            "---------------------------------------------------------------------------\n",
            "0 | model             | HFAutoModelForTextPrediction | 108 M  | train\n",
            "1 | validation_metric | MulticlassAccuracy           | 0      | train\n",
            "2 | loss_func         | CrossEntropyLoss             | 0      | train\n",
            "---------------------------------------------------------------------------\n",
            "108 M     Trainable params\n",
            "0         Non-trainable params\n",
            "108 M     Total params\n",
            "435.573   Total estimated model params size (MB)\n",
            "\n",
            "  | Name              | Type                         | Params | Mode \n",
            "---------------------------------------------------------------------------\n",
            "0 | model             | HFAutoModelForTextPrediction | 108 M  | train\n",
            "1 | validation_metric | MulticlassAccuracy           | 0      | train\n",
            "2 | loss_func         | CrossEntropyLoss             | 0      | train\n",
            "---------------------------------------------------------------------------\n",
            "108 M     Trainable params\n",
            "0         Non-trainable params\n",
            "108 M     Total params\n",
            "435.573   Total estimated model params size (MB)\n",
            "\n",
            "  | Name              | Type                         | Params | Mode \n",
            "---------------------------------------------------------------------------\n",
            "0 | model             | HFAutoModelForTextPrediction | 108 M  | train\n",
            "1 | validation_metric | MulticlassAccuracy           | 0      | train\n",
            "2 | loss_func         | CrossEntropyLoss             | 0      | train\n",
            "---------------------------------------------------------------------------\n",
            "108 M     Trainable params\n",
            "0         Non-trainable params\n",
            "108 M     Total params\n",
            "435.573   Total estimated model params size (MB)\n"
          ]
        },
        {
          "data": {
            "application/vnd.jupyter.widget-view+json": {
              "model_id": "72c223c469ab4c7eb76ae1da38e19011",
              "version_major": 2,
              "version_minor": 0
            },
            "text/plain": [
              "Sanity Checking: |          | 0/? [00:00<?, ?it/s]"
            ]
          },
          "metadata": {},
          "output_type": "display_data"
        },
        {
          "data": {
            "application/vnd.jupyter.widget-view+json": {
              "model_id": "6546f4d7fb504d20aaa5186c43862ef0",
              "version_major": 2,
              "version_minor": 0
            },
            "text/plain": [
              "Training: |          | 0/? [00:00<?, ?it/s]"
            ]
          },
          "metadata": {},
          "output_type": "display_data"
        },
        {
          "data": {
            "application/vnd.jupyter.widget-view+json": {
              "model_id": "83a0211cea7d405c97bb35058e3f4c88",
              "version_major": 2,
              "version_minor": 0
            },
            "text/plain": [
              "Validation: |          | 0/? [00:00<?, ?it/s]"
            ]
          },
          "metadata": {},
          "output_type": "display_data"
        },
        {
          "name": "stderr",
          "output_type": "stream",
          "text": [
            "Epoch 0, global step 3: 'val_acc' reached 0.56500 (best 0.56500), saving model to 'C:\\\\Users\\\\Anthony\\\\Desktop\\\\Grad School\\\\CMPE 255\\\\Notebooks\\\\tmp\\\\6401464a807440cfa3c2f25b4889b97f-automm_sst\\\\epoch=0-step=3.ckpt' as top 3\n",
            "Epoch 0, global step 3: 'val_acc' reached 0.56500 (best 0.56500), saving model to 'C:\\\\Users\\\\Anthony\\\\Desktop\\\\Grad School\\\\CMPE 255\\\\Notebooks\\\\tmp\\\\6401464a807440cfa3c2f25b4889b97f-automm_sst\\\\epoch=0-step=3.ckpt' as top 3\n",
            "Epoch 0, global step 3: 'val_acc' reached 0.56500 (best 0.56500), saving model to 'C:\\\\Users\\\\Anthony\\\\Desktop\\\\Grad School\\\\CMPE 255\\\\Notebooks\\\\tmp\\\\6401464a807440cfa3c2f25b4889b97f-automm_sst\\\\epoch=0-step=3.ckpt' as top 3\n",
            "Epoch 0, global step 3: 'val_acc' reached 0.56500 (best 0.56500), saving model to 'C:\\\\Users\\\\Anthony\\\\Desktop\\\\Grad School\\\\CMPE 255\\\\Notebooks\\\\tmp\\\\6401464a807440cfa3c2f25b4889b97f-automm_sst\\\\epoch=0-step=3.ckpt' as top 3\n"
          ]
        },
        {
          "data": {
            "application/vnd.jupyter.widget-view+json": {
              "model_id": "f5584c882da540d0af713288e3f69a5b",
              "version_major": 2,
              "version_minor": 0
            },
            "text/plain": [
              "Validation: |          | 0/? [00:00<?, ?it/s]"
            ]
          },
          "metadata": {},
          "output_type": "display_data"
        },
        {
          "name": "stderr",
          "output_type": "stream",
          "text": [
            "Epoch 0, global step 7: 'val_acc' reached 0.61000 (best 0.61000), saving model to 'C:\\\\Users\\\\Anthony\\\\Desktop\\\\Grad School\\\\CMPE 255\\\\Notebooks\\\\tmp\\\\6401464a807440cfa3c2f25b4889b97f-automm_sst\\\\epoch=0-step=7.ckpt' as top 3\n",
            "Epoch 0, global step 7: 'val_acc' reached 0.61000 (best 0.61000), saving model to 'C:\\\\Users\\\\Anthony\\\\Desktop\\\\Grad School\\\\CMPE 255\\\\Notebooks\\\\tmp\\\\6401464a807440cfa3c2f25b4889b97f-automm_sst\\\\epoch=0-step=7.ckpt' as top 3\n",
            "Epoch 0, global step 7: 'val_acc' reached 0.61000 (best 0.61000), saving model to 'C:\\\\Users\\\\Anthony\\\\Desktop\\\\Grad School\\\\CMPE 255\\\\Notebooks\\\\tmp\\\\6401464a807440cfa3c2f25b4889b97f-automm_sst\\\\epoch=0-step=7.ckpt' as top 3\n",
            "Epoch 0, global step 7: 'val_acc' reached 0.61000 (best 0.61000), saving model to 'C:\\\\Users\\\\Anthony\\\\Desktop\\\\Grad School\\\\CMPE 255\\\\Notebooks\\\\tmp\\\\6401464a807440cfa3c2f25b4889b97f-automm_sst\\\\epoch=0-step=7.ckpt' as top 3\n"
          ]
        },
        {
          "data": {
            "application/vnd.jupyter.widget-view+json": {
              "model_id": "5bd1a50d679c4b25928bef88e97f8579",
              "version_major": 2,
              "version_minor": 0
            },
            "text/plain": [
              "Validation: |          | 0/? [00:00<?, ?it/s]"
            ]
          },
          "metadata": {},
          "output_type": "display_data"
        },
        {
          "name": "stderr",
          "output_type": "stream",
          "text": [
            "Epoch 1, global step 10: 'val_acc' reached 0.71000 (best 0.71000), saving model to 'C:\\\\Users\\\\Anthony\\\\Desktop\\\\Grad School\\\\CMPE 255\\\\Notebooks\\\\tmp\\\\6401464a807440cfa3c2f25b4889b97f-automm_sst\\\\epoch=1-step=10.ckpt' as top 3\n",
            "Epoch 1, global step 10: 'val_acc' reached 0.71000 (best 0.71000), saving model to 'C:\\\\Users\\\\Anthony\\\\Desktop\\\\Grad School\\\\CMPE 255\\\\Notebooks\\\\tmp\\\\6401464a807440cfa3c2f25b4889b97f-automm_sst\\\\epoch=1-step=10.ckpt' as top 3\n",
            "Epoch 1, global step 10: 'val_acc' reached 0.71000 (best 0.71000), saving model to 'C:\\\\Users\\\\Anthony\\\\Desktop\\\\Grad School\\\\CMPE 255\\\\Notebooks\\\\tmp\\\\6401464a807440cfa3c2f25b4889b97f-automm_sst\\\\epoch=1-step=10.ckpt' as top 3\n",
            "Epoch 1, global step 10: 'val_acc' reached 0.71000 (best 0.71000), saving model to 'C:\\\\Users\\\\Anthony\\\\Desktop\\\\Grad School\\\\CMPE 255\\\\Notebooks\\\\tmp\\\\6401464a807440cfa3c2f25b4889b97f-automm_sst\\\\epoch=1-step=10.ckpt' as top 3\n"
          ]
        },
        {
          "data": {
            "application/vnd.jupyter.widget-view+json": {
              "model_id": "90509b095a5242b5bd94ecdd8c74795b",
              "version_major": 2,
              "version_minor": 0
            },
            "text/plain": [
              "Validation: |          | 0/? [00:00<?, ?it/s]"
            ]
          },
          "metadata": {},
          "output_type": "display_data"
        },
        {
          "name": "stderr",
          "output_type": "stream",
          "text": [
            "Epoch 1, global step 14: 'val_acc' reached 0.83500 (best 0.83500), saving model to 'C:\\\\Users\\\\Anthony\\\\Desktop\\\\Grad School\\\\CMPE 255\\\\Notebooks\\\\tmp\\\\6401464a807440cfa3c2f25b4889b97f-automm_sst\\\\epoch=1-step=14.ckpt' as top 3\n",
            "Epoch 1, global step 14: 'val_acc' reached 0.83500 (best 0.83500), saving model to 'C:\\\\Users\\\\Anthony\\\\Desktop\\\\Grad School\\\\CMPE 255\\\\Notebooks\\\\tmp\\\\6401464a807440cfa3c2f25b4889b97f-automm_sst\\\\epoch=1-step=14.ckpt' as top 3\n",
            "Epoch 1, global step 14: 'val_acc' reached 0.83500 (best 0.83500), saving model to 'C:\\\\Users\\\\Anthony\\\\Desktop\\\\Grad School\\\\CMPE 255\\\\Notebooks\\\\tmp\\\\6401464a807440cfa3c2f25b4889b97f-automm_sst\\\\epoch=1-step=14.ckpt' as top 3\n",
            "Epoch 1, global step 14: 'val_acc' reached 0.83500 (best 0.83500), saving model to 'C:\\\\Users\\\\Anthony\\\\Desktop\\\\Grad School\\\\CMPE 255\\\\Notebooks\\\\tmp\\\\6401464a807440cfa3c2f25b4889b97f-automm_sst\\\\epoch=1-step=14.ckpt' as top 3\n",
            "Time limit reached. Elapsed time is 0:03:00. Signaling Trainer to stop.\n",
            "Time limit reached. Elapsed time is 0:03:00. Signaling Trainer to stop.\n",
            "Time limit reached. Elapsed time is 0:03:00. Signaling Trainer to stop.\n",
            "Time limit reached. Elapsed time is 0:03:00. Signaling Trainer to stop.\n"
          ]
        },
        {
          "data": {
            "application/vnd.jupyter.widget-view+json": {
              "model_id": "01644e52102b4e11af529070b07fceea",
              "version_major": 2,
              "version_minor": 0
            },
            "text/plain": [
              "Validation: |          | 0/? [00:00<?, ?it/s]"
            ]
          },
          "metadata": {},
          "output_type": "display_data"
        },
        {
          "name": "stderr",
          "output_type": "stream",
          "text": [
            "Epoch 2, global step 16: 'val_acc' reached 0.83500 (best 0.83500), saving model to 'C:\\\\Users\\\\Anthony\\\\Desktop\\\\Grad School\\\\CMPE 255\\\\Notebooks\\\\tmp\\\\6401464a807440cfa3c2f25b4889b97f-automm_sst\\\\epoch=2-step=16.ckpt' as top 3\n",
            "Epoch 2, global step 16: 'val_acc' reached 0.83500 (best 0.83500), saving model to 'C:\\\\Users\\\\Anthony\\\\Desktop\\\\Grad School\\\\CMPE 255\\\\Notebooks\\\\tmp\\\\6401464a807440cfa3c2f25b4889b97f-automm_sst\\\\epoch=2-step=16.ckpt' as top 3\n",
            "Epoch 2, global step 16: 'val_acc' reached 0.83500 (best 0.83500), saving model to 'C:\\\\Users\\\\Anthony\\\\Desktop\\\\Grad School\\\\CMPE 255\\\\Notebooks\\\\tmp\\\\6401464a807440cfa3c2f25b4889b97f-automm_sst\\\\epoch=2-step=16.ckpt' as top 3\n",
            "Epoch 2, global step 16: 'val_acc' reached 0.83500 (best 0.83500), saving model to 'C:\\\\Users\\\\Anthony\\\\Desktop\\\\Grad School\\\\CMPE 255\\\\Notebooks\\\\tmp\\\\6401464a807440cfa3c2f25b4889b97f-automm_sst\\\\epoch=2-step=16.ckpt' as top 3\n",
            "Start to fuse 3 checkpoints via the greedy soup algorithm.\n"
          ]
        },
        {
          "data": {
            "application/vnd.jupyter.widget-view+json": {
              "model_id": "e6129b2fa2ac46728b076531d056b76a",
              "version_major": 2,
              "version_minor": 0
            },
            "text/plain": [
              "Predicting: |          | 0/? [00:00<?, ?it/s]"
            ]
          },
          "metadata": {},
          "output_type": "display_data"
        },
        {
          "data": {
            "application/vnd.jupyter.widget-view+json": {
              "model_id": "53eeda8bd21f4e3fa1f317f06364de5f",
              "version_major": 2,
              "version_minor": 0
            },
            "text/plain": [
              "Predicting: |          | 0/? [00:00<?, ?it/s]"
            ]
          },
          "metadata": {},
          "output_type": "display_data"
        },
        {
          "data": {
            "application/vnd.jupyter.widget-view+json": {
              "model_id": "01cd330b1018443e850c463e3dc0c412",
              "version_major": 2,
              "version_minor": 0
            },
            "text/plain": [
              "Predicting: |          | 0/? [00:00<?, ?it/s]"
            ]
          },
          "metadata": {},
          "output_type": "display_data"
        },
        {
          "name": "stderr",
          "output_type": "stream",
          "text": [
            "AutoMM has created your model. 🎉🎉🎉\n",
            "\n",
            "To load the model, use the code below:\n",
            "    ```python\n",
            "    from autogluon.multimodal import MultiModalPredictor\n",
            "    predictor = MultiModalPredictor.load(\"c:\\Users\\Anthony\\Desktop\\Grad School\\CMPE 255\\Notebooks\\tmp\\6401464a807440cfa3c2f25b4889b97f-automm_sst\")\n",
            "    ```\n",
            "\n",
            "If you are not satisfied with the model, try to increase the training time, \n",
            "adjust the hyperparameters (https://auto.gluon.ai/stable/tutorials/multimodal/advanced_topics/customization.html),\n",
            "or post issues on GitHub (https://github.com/autogluon/autogluon/issues).\n",
            "\n",
            "\n"
          ]
        },
        {
          "data": {
            "text/plain": [
              "<autogluon.multimodal.predictor.MultiModalPredictor at 0x24f5ddf2aa0>"
            ]
          },
          "execution_count": 20,
          "metadata": {},
          "output_type": "execute_result"
        }
      ],
      "source": [
        "from autogluon.multimodal import MultiModalPredictor\n",
        "import uuid\n",
        "model_path = f\"./tmp/{uuid.uuid4().hex}-automm_sst\"\n",
        "predictor = MultiModalPredictor(label='label', eval_metric='acc', path=model_path)\n",
        "predictor.fit(train_data, time_limit=180)"
      ]
    },
    {
      "cell_type": "markdown",
      "id": "17f0013f",
      "metadata": {
        "id": "17f0013f"
      },
      "source": [
        "Above we specify that: the column named **label** contains the label values to predict, AutoGluon should optimize its predictions for the accuracy evaluation metric,\n",
        "trained models should be saved in the **automm_sst** folder, and training should run for around 60 seconds.\n",
        "\n",
        "### Evaluation\n",
        "\n",
        "After training, we can easily evaluate our predictor on separate test data formatted similarly to our training data."
      ]
    },
    {
      "cell_type": "code",
      "execution_count": null,
      "id": "3caa5f80",
      "metadata": {
        "id": "3caa5f80"
      },
      "outputs": [],
      "source": [
        "test_score = predictor.evaluate(test_data)\n",
        "print(test_score)"
      ]
    },
    {
      "cell_type": "markdown",
      "id": "2aa302c2",
      "metadata": {
        "id": "2aa302c2"
      },
      "source": [
        "By default, `evaluate()` will report the evaluation metric previously specified, which is `accuracy` in our example. You may also specify additional metrics, e.g. F1 score, when calling evaluate."
      ]
    },
    {
      "cell_type": "code",
      "execution_count": null,
      "id": "75cb24d5",
      "metadata": {
        "id": "75cb24d5"
      },
      "outputs": [],
      "source": [
        "test_score = predictor.evaluate(test_data, metrics=['acc', 'f1'])\n",
        "print(test_score)"
      ]
    },
    {
      "cell_type": "markdown",
      "id": "f124ec9d",
      "metadata": {
        "id": "f124ec9d"
      },
      "source": [
        "### Prediction\n",
        "\n",
        "And you can easily obtain predictions from these models by calling `predictor.predict()`."
      ]
    },
    {
      "cell_type": "code",
      "execution_count": null,
      "id": "8f530bec",
      "metadata": {
        "id": "8f530bec"
      },
      "outputs": [],
      "source": [
        "sentence1 = \"it's a charming and often affecting journey.\"\n",
        "sentence2 = \"It's slow, very, very, very slow.\"\n",
        "predictions = predictor.predict({'sentence': [sentence1, sentence2]})\n",
        "print('\"Sentence\":', sentence1, '\"Predicted Sentiment\":', predictions[0])\n",
        "print('\"Sentence\":', sentence2, '\"Predicted Sentiment\":', predictions[1])"
      ]
    },
    {
      "cell_type": "markdown",
      "id": "71b3f028",
      "metadata": {
        "id": "71b3f028"
      },
      "source": [
        "For classification tasks, you can ask for predicted class-probabilities instead of predicted classes."
      ]
    },
    {
      "cell_type": "code",
      "execution_count": null,
      "id": "cfbfaea3",
      "metadata": {
        "id": "cfbfaea3"
      },
      "outputs": [],
      "source": [
        "probs = predictor.predict_proba({'sentence': [sentence1, sentence2]})\n",
        "print('\"Sentence\":', sentence1, '\"Predicted Class-Probabilities\":', probs[0])\n",
        "print('\"Sentence\":', sentence2, '\"Predicted Class-Probabilities\":', probs[1])"
      ]
    },
    {
      "cell_type": "markdown",
      "id": "d5242813",
      "metadata": {
        "id": "d5242813"
      },
      "source": [
        "We can just as easily produce predictions over an entire dataset."
      ]
    },
    {
      "cell_type": "code",
      "execution_count": null,
      "id": "0537e35b",
      "metadata": {
        "id": "0537e35b"
      },
      "outputs": [],
      "source": [
        "test_predictions = predictor.predict(test_data)\n",
        "test_predictions.head()"
      ]
    },
    {
      "cell_type": "markdown",
      "id": "86da66ed",
      "metadata": {
        "id": "86da66ed"
      },
      "source": [
        "### Save and Load\n",
        "\n",
        "The trained predictor is automatically saved at the end of `fit()`, and you can easily reload it.\n",
        "\n",
        "```{warning}\n",
        "\n",
        "`MultiModalPredictor.load()` uses `pickle` module implicitly, which is known to be insecure. It is possible to construct malicious pickle data which will execute arbitrary code during unpickling. Never load data that could have come from an untrusted source, or that could have been tampered with. **Only load data you trust.**\n",
        "\n",
        "```"
      ]
    },
    {
      "cell_type": "code",
      "execution_count": null,
      "id": "fdb04ad8",
      "metadata": {
        "id": "fdb04ad8"
      },
      "outputs": [],
      "source": [
        "loaded_predictor = MultiModalPredictor.load(model_path)\n",
        "loaded_predictor.predict_proba({'sentence': [sentence1, sentence2]})"
      ]
    },
    {
      "cell_type": "markdown",
      "id": "dfb3fa3d",
      "metadata": {
        "id": "dfb3fa3d"
      },
      "source": [
        "You can also save the predictor to any location by calling `.save()`."
      ]
    },
    {
      "cell_type": "code",
      "execution_count": null,
      "id": "be5603bd",
      "metadata": {
        "id": "be5603bd"
      },
      "outputs": [],
      "source": [
        "new_model_path = f\"./tmp/{uuid.uuid4().hex}-automm_sst\"\n",
        "loaded_predictor.save(new_model_path)\n",
        "loaded_predictor2 = MultiModalPredictor.load(new_model_path)\n",
        "loaded_predictor2.predict_proba({'sentence': [sentence1, sentence2]})"
      ]
    },
    {
      "cell_type": "markdown",
      "id": "d8c0d5e7",
      "metadata": {
        "id": "d8c0d5e7"
      },
      "source": [
        "### Extract Embeddings\n",
        "\n",
        "\n",
        "\n",
        "You can also use a trained predictor to extract embeddings that maps each row of the data table to an embedding vector extracted from intermediate neural network representations of the row."
      ]
    },
    {
      "cell_type": "code",
      "execution_count": null,
      "id": "2686d317",
      "metadata": {
        "id": "2686d317"
      },
      "outputs": [],
      "source": [
        "embeddings = predictor.extract_embedding(test_data)\n",
        "print(embeddings.shape)"
      ]
    },
    {
      "cell_type": "markdown",
      "id": "ce712da0",
      "metadata": {
        "id": "ce712da0"
      },
      "source": [
        "Here, we use TSNE to visualize these extracted embeddings. We can see that there are two clusters corresponding to our two labels, since this network has been trained to discriminate between these labels."
      ]
    },
    {
      "cell_type": "code",
      "execution_count": null,
      "id": "5ec51998",
      "metadata": {
        "id": "5ec51998"
      },
      "outputs": [],
      "source": [
        "from sklearn.manifold import TSNE\n",
        "X_embedded = TSNE(n_components=2, random_state=123).fit_transform(embeddings)\n",
        "for val, color in [(0, 'red'), (1, 'blue')]:\n",
        "    idx = (test_data['label'].to_numpy() == val).nonzero()\n",
        "    plt.scatter(X_embedded[idx, 0], X_embedded[idx, 1], c=color, label=f'label={val}')\n",
        "plt.legend(loc='best')"
      ]
    },
    {
      "cell_type": "markdown",
      "id": "7156cef6",
      "metadata": {
        "id": "7156cef6"
      },
      "source": [
        "## Sentence Similarity Task\n",
        "\n",
        "Next, let's use MultiModalPredictor to train a model for evaluating how semantically similar two sentences are.\n",
        "We use the [Semantic Textual Similarity Benchmark](https://paperswithcode.com/dataset/sts-benchmark) dataset for illustration."
      ]
    },
    {
      "cell_type": "code",
      "execution_count": null,
      "id": "dca10480",
      "metadata": {
        "id": "dca10480"
      },
      "outputs": [],
      "source": [
        "sts_train_data = load_pd.load('https://autogluon-text.s3-accelerate.amazonaws.com/glue/sts/train.parquet')[['sentence1', 'sentence2', 'score']]\n",
        "sts_test_data = load_pd.load('https://autogluon-text.s3-accelerate.amazonaws.com/glue/sts/dev.parquet')[['sentence1', 'sentence2', 'score']]\n",
        "sts_train_data.head(10)"
      ]
    },
    {
      "cell_type": "markdown",
      "id": "0b0e6413",
      "metadata": {
        "id": "0b0e6413"
      },
      "source": [
        "In this data, the column named **score** contains numerical values (which we'd like to predict) that are human-annotated similarity scores for each given pair of sentences."
      ]
    },
    {
      "cell_type": "code",
      "execution_count": null,
      "id": "c8474486",
      "metadata": {
        "id": "c8474486"
      },
      "outputs": [],
      "source": [
        "print('Min score=', min(sts_train_data['score']), ', Max score=', max(sts_train_data['score']))"
      ]
    },
    {
      "cell_type": "markdown",
      "id": "088b9e8f",
      "metadata": {
        "id": "088b9e8f"
      },
      "source": [
        "Let's train a regression model to predict these scores. Note that we only need to specify the label column and AutoGluon automatically determines the type of prediction problem and an appropriate loss function. Once again, you should increase the short `time_limit` below to obtain reasonable performance in your own applications."
      ]
    },
    {
      "cell_type": "code",
      "execution_count": null,
      "id": "8b84c841",
      "metadata": {
        "id": "8b84c841"
      },
      "outputs": [],
      "source": [
        "sts_model_path = f\"./tmp/{uuid.uuid4().hex}-automm_sts\"\n",
        "predictor_sts = MultiModalPredictor(label='score', path=sts_model_path)\n",
        "predictor_sts.fit(sts_train_data, time_limit=60)"
      ]
    },
    {
      "cell_type": "markdown",
      "id": "26fc1df5",
      "metadata": {
        "id": "26fc1df5"
      },
      "source": [
        "We again evaluate our trained model's performance on separate test data. Below we choose to compute the following metrics: RMSE, Pearson Correlation, and Spearman Correlation."
      ]
    },
    {
      "cell_type": "code",
      "execution_count": null,
      "id": "afc64da6",
      "metadata": {
        "id": "afc64da6"
      },
      "outputs": [],
      "source": [
        "test_score = predictor_sts.evaluate(sts_test_data, metrics=['rmse', 'pearsonr', 'spearmanr'])\n",
        "print('RMSE = {:.2f}'.format(test_score['rmse']))\n",
        "print('PEARSONR = {:.4f}'.format(test_score['pearsonr']))\n",
        "print('SPEARMANR = {:.4f}'.format(test_score['spearmanr']))"
      ]
    },
    {
      "cell_type": "markdown",
      "id": "df27bdeb",
      "metadata": {
        "id": "df27bdeb"
      },
      "source": [
        "Let's use our model to predict the similarity score between a few sentences."
      ]
    },
    {
      "cell_type": "code",
      "execution_count": null,
      "id": "96c05eec",
      "metadata": {
        "id": "96c05eec"
      },
      "outputs": [],
      "source": [
        "sentences = ['The child is riding a horse.',\n",
        "             'The young boy is riding a horse.',\n",
        "             'The young man is riding a horse.',\n",
        "             'The young man is riding a bicycle.']\n",
        "\n",
        "score1 = predictor_sts.predict({'sentence1': [sentences[0]],\n",
        "                                'sentence2': [sentences[1]]}, as_pandas=False)\n",
        "\n",
        "score2 = predictor_sts.predict({'sentence1': [sentences[0]],\n",
        "                                'sentence2': [sentences[2]]}, as_pandas=False)\n",
        "\n",
        "score3 = predictor_sts.predict({'sentence1': [sentences[0]],\n",
        "                                'sentence2': [sentences[3]]}, as_pandas=False)\n",
        "print(score1, score2, score3)"
      ]
    },
    {
      "cell_type": "markdown",
      "id": "15e958c6",
      "metadata": {
        "id": "15e958c6"
      },
      "source": [
        "Although the `MultiModalPredictor` currently supports classification and regression tasks, it can directly be used for\n",
        "many NLP tasks if you properly format them into a data table. Note that there can be many text columns in this data table.\n",
        "Refer to the [MultiModalPredictor documentation](../../../../api/autogluon.multimodal.MultiModalPredictor.fit.rst) to see all available methods/options.\n",
        "\n",
        "Unlike `TabularPredictor` which trains/ensembles different types of models,\n",
        "`MultiModalPredictor` focuses on selecting and finetuning deep learning based models.\n",
        "Internally, it integrates with [timm](https://github.com/rwightman/pytorch-image-models) , [huggingface/transformers](https://github.com/huggingface/transformers),\n",
        "[openai/clip](https://github.com/openai/CLIP) as the model zoo.\n",
        "\n",
        "## Other Examples\n",
        "\n",
        "You may go to [AutoMM Examples](https://github.com/autogluon/autogluon/tree/master/examples/automm) to explore other examples about AutoMM.\n",
        "\n",
        "## Customization\n",
        "To learn how to customize AutoMM, please refer to [Customize AutoMM](../advanced_topics/customization.ipynb)."
      ]
    }
  ],
  "metadata": {
    "colab": {
      "provenance": []
    },
    "kernelspec": {
      "display_name": "Python 3 (ipykernel)",
      "language": "python",
      "name": "python3"
    },
    "language_info": {
      "codemirror_mode": {
        "name": "ipython",
        "version": 3
      },
      "file_extension": ".py",
      "mimetype": "text/x-python",
      "name": "python",
      "nbconvert_exporter": "python",
      "pygments_lexer": "ipython3",
      "version": "3.9.15"
    }
  },
  "nbformat": 4,
  "nbformat_minor": 5
}
