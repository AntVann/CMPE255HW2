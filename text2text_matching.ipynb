{
  "cells": [
    {
      "cell_type": "markdown",
      "id": "cc9d9fb8",
      "metadata": {
        "id": "cc9d9fb8"
      },
      "source": [
        "# Text-to-Text Semantic Matching with AutoMM\n",
        "\n",
        "[![Open In Colab](https://colab.research.google.com/assets/colab-badge.svg)](https://colab.research.google.com/github/autogluon/autogluon/blob/stable/docs/tutorials/multimodal/semantic_matching/text2text_matching.ipynb)\n",
        "[![Open In SageMaker Studio Lab](https://studiolab.sagemaker.aws/studiolab.svg)](https://studiolab.sagemaker.aws/import/github/autogluon/autogluon/blob/stable/docs/tutorials/multimodal/semantic_matching/text2text_matching.ipynb)\n",
        "\n",
        "\n",
        "\n",
        "Computing the similarity between two sentences/passages is a common task in NLP, with several practical applications such as web search, question answering, documents deduplication, plagiarism comparison, natural language inference, recommendation engines, etc. In general, text similarity models will take two sentences/passages as input and transform them into vectors, and then similarity scores calculated using cosine similarity, dot product, or Euclidean distances are used to measure how alike or different of the two text pieces.\n",
        "\n",
        "## Prepare your Data\n",
        "In this tutorial, we will demonstrate how to use AutoMM for text-to-text semantic matching with the Stanford Natural Language Inference ([SNLI](https://nlp.stanford.edu/projects/snli/)) corpus. SNLI is a corpus contains around 570k human-written sentence pairs labeled with *entailment*, *contradiction*, and *neutral*. It is a widely used benchmark for evaluating the representation and inference capbility of machine learning methods. The following table contains three examples taken from this corpus.\n",
        "\n",
        "| Premise                                                   | Hypothesis                                                           | Label         |\n",
        "|-----------------------------------------------------------|----------------------------------------------------------------------|---------------|\n",
        "| A black race car starts up in front of a crowd of people. | A man is driving down a lonely road.                                 | contradiction |\n",
        "|  An older and younger man smiling.                        | Two men are smiling and laughing at the cats playing on the   floor. | neutral       |\n",
        "| A soccer game with multiple males playing.                | Some men are playing a sport.                                        | entailment    |\n",
        "\n",
        "Here, we consider sentence pairs with label *entailment* as positive pairs (labeled as 1) and those with label *contradiction* as negative pairs (labeled as 0). Sentence pairs with neural relationship are discarded. The following code downloads and loads the corpus into dataframes."
      ]
    },
    {
      "cell_type": "code",
      "execution_count": 1,
      "id": "aa00faab-252f-44c9-b8f7-57131aa8251c",
      "metadata": {
        "id": "aa00faab-252f-44c9-b8f7-57131aa8251c",
        "tags": [
          "remove-cell"
        ]
      },
      "outputs": [
        {
          "name": "stdout",
          "output_type": "stream",
          "text": [
            "Requirement already satisfied: autogluon.multimodal in c:\\users\\anthony\\appdata\\local\\programs\\python\\python310\\lib\\site-packages (1.1.1)\n",
            "Requirement already satisfied: numpy<1.29,>=1.21 in c:\\users\\anthony\\appdata\\local\\programs\\python\\python310\\lib\\site-packages (from autogluon.multimodal) (1.23.5)\n",
            "Requirement already satisfied: scipy<1.13,>=1.5.4 in c:\\users\\anthony\\appdata\\local\\programs\\python\\python310\\lib\\site-packages (from autogluon.multimodal) (1.10.1)\n",
            "Requirement already satisfied: pandas<2.3.0,>=2.0.0 in c:\\users\\anthony\\appdata\\local\\programs\\python\\python310\\lib\\site-packages (from autogluon.multimodal) (2.0.3)\n",
            "Requirement already satisfied: scikit-learn<1.4.1,>=1.3.0 in c:\\users\\anthony\\appdata\\local\\programs\\python\\python310\\lib\\site-packages (from autogluon.multimodal) (1.4.0)\n",
            "Requirement already satisfied: Pillow<11,>=10.0.1 in c:\\users\\anthony\\appdata\\local\\programs\\python\\python310\\lib\\site-packages (from autogluon.multimodal) (10.4.0)\n",
            "Requirement already satisfied: tqdm<5,>=4.38 in c:\\users\\anthony\\appdata\\local\\programs\\python\\python310\\lib\\site-packages (from autogluon.multimodal) (4.66.5)\n",
            "Requirement already satisfied: boto3<2,>=1.10 in c:\\users\\anthony\\appdata\\local\\programs\\python\\python310\\lib\\site-packages (from autogluon.multimodal) (1.35.24)\n",
            "Requirement already satisfied: torch<2.4,>=2.2 in c:\\users\\anthony\\appdata\\local\\programs\\python\\python310\\lib\\site-packages (from autogluon.multimodal) (2.3.1)\n",
            "Requirement already satisfied: lightning<2.4,>=2.2 in c:\\users\\anthony\\appdata\\local\\programs\\python\\python310\\lib\\site-packages (from autogluon.multimodal) (2.3.3)\n",
            "Requirement already satisfied: transformers<4.41.0,>=4.38.0 in c:\\users\\anthony\\appdata\\local\\programs\\python\\python310\\lib\\site-packages (from transformers[sentencepiece]<4.41.0,>=4.38.0->autogluon.multimodal) (4.40.2)\n",
            "Requirement already satisfied: accelerate<0.22.0,>=0.21.0 in c:\\users\\anthony\\appdata\\local\\programs\\python\\python310\\lib\\site-packages (from autogluon.multimodal) (0.21.0)\n",
            "Requirement already satisfied: requests<3,>=2.21 in c:\\users\\anthony\\appdata\\local\\programs\\python\\python310\\lib\\site-packages (from autogluon.multimodal) (2.32.3)\n",
            "Requirement already satisfied: jsonschema<4.22,>=4.18 in c:\\users\\anthony\\appdata\\local\\programs\\python\\python310\\lib\\site-packages (from autogluon.multimodal) (4.21.1)\n",
            "Requirement already satisfied: seqeval<1.3.0,>=1.2.2 in c:\\users\\anthony\\appdata\\local\\programs\\python\\python310\\lib\\site-packages (from autogluon.multimodal) (1.2.2)\n",
            "Requirement already satisfied: evaluate<0.5.0,>=0.4.0 in c:\\users\\anthony\\appdata\\local\\programs\\python\\python310\\lib\\site-packages (from autogluon.multimodal) (0.4.3)\n",
            "Requirement already satisfied: timm<0.10.0,>=0.9.5 in c:\\users\\anthony\\appdata\\local\\programs\\python\\python310\\lib\\site-packages (from autogluon.multimodal) (0.9.16)\n",
            "Requirement already satisfied: torchvision<0.19.0,>=0.16.0 in c:\\users\\anthony\\appdata\\local\\programs\\python\\python310\\lib\\site-packages (from autogluon.multimodal) (0.18.1)\n",
            "Requirement already satisfied: scikit-image<0.21.0,>=0.19.1 in c:\\users\\anthony\\appdata\\local\\programs\\python\\python310\\lib\\site-packages (from autogluon.multimodal) (0.20.0)\n",
            "Requirement already satisfied: text-unidecode<1.4,>=1.3 in c:\\users\\anthony\\appdata\\local\\programs\\python\\python310\\lib\\site-packages (from autogluon.multimodal) (1.3)\n",
            "Requirement already satisfied: torchmetrics<1.3.0,>=1.2.0 in c:\\users\\anthony\\appdata\\local\\programs\\python\\python310\\lib\\site-packages (from autogluon.multimodal) (1.2.1)\n",
            "Requirement already satisfied: nptyping<2.5.0,>=1.4.4 in c:\\users\\anthony\\appdata\\local\\programs\\python\\python310\\lib\\site-packages (from autogluon.multimodal) (2.4.1)\n",
            "Requirement already satisfied: omegaconf<2.3.0,>=2.1.1 in c:\\users\\anthony\\appdata\\local\\programs\\python\\python310\\lib\\site-packages (from autogluon.multimodal) (2.2.3)\n",
            "Requirement already satisfied: autogluon.core==1.1.1 in c:\\users\\anthony\\appdata\\local\\programs\\python\\python310\\lib\\site-packages (from autogluon.core[raytune]==1.1.1->autogluon.multimodal) (1.1.1)\n",
            "Requirement already satisfied: autogluon.features==1.1.1 in c:\\users\\anthony\\appdata\\local\\programs\\python\\python310\\lib\\site-packages (from autogluon.multimodal) (1.1.1)\n",
            "Requirement already satisfied: autogluon.common==1.1.1 in c:\\users\\anthony\\appdata\\local\\programs\\python\\python310\\lib\\site-packages (from autogluon.multimodal) (1.1.1)\n",
            "Requirement already satisfied: pytorch-metric-learning<2.4,>=1.3.0 in c:\\users\\anthony\\appdata\\local\\programs\\python\\python310\\lib\\site-packages (from autogluon.multimodal) (2.3.0)\n",
            "Requirement already satisfied: nlpaug<1.2.0,>=1.1.10 in c:\\users\\anthony\\appdata\\local\\programs\\python\\python310\\lib\\site-packages (from autogluon.multimodal) (1.1.11)\n",
            "Requirement already satisfied: nltk<4.0.0,>=3.4.5 in c:\\users\\anthony\\appdata\\local\\programs\\python\\python310\\lib\\site-packages (from autogluon.multimodal) (3.9.1)\n",
            "Requirement already satisfied: openmim<0.4.0,>=0.3.7 in c:\\users\\anthony\\appdata\\local\\programs\\python\\python310\\lib\\site-packages (from autogluon.multimodal) (0.3.9)\n",
            "Requirement already satisfied: defusedxml<0.7.2,>=0.7.1 in c:\\users\\anthony\\appdata\\local\\programs\\python\\python310\\lib\\site-packages (from autogluon.multimodal) (0.7.1)\n",
            "Requirement already satisfied: jinja2<3.2,>=3.0.3 in c:\\users\\anthony\\appdata\\local\\programs\\python\\python310\\lib\\site-packages (from autogluon.multimodal) (3.1.2)\n",
            "Requirement already satisfied: tensorboard<3,>=2.9 in c:\\users\\anthony\\appdata\\local\\programs\\python\\python310\\lib\\site-packages (from autogluon.multimodal) (2.15.2)\n",
            "Requirement already satisfied: pytesseract<0.3.11,>=0.3.9 in c:\\users\\anthony\\appdata\\local\\programs\\python\\python310\\lib\\site-packages (from autogluon.multimodal) (0.3.10)\n",
            "Requirement already satisfied: nvidia-ml-py3==7.352.0 in c:\\users\\anthony\\appdata\\local\\programs\\python\\python310\\lib\\site-packages (from autogluon.multimodal) (7.352.0)\n",
            "Requirement already satisfied: pdf2image<1.19,>=1.17.0 in c:\\users\\anthony\\appdata\\local\\programs\\python\\python310\\lib\\site-packages (from autogluon.multimodal) (1.17.0)\n",
            "Requirement already satisfied: psutil<6,>=5.7.3 in c:\\users\\anthony\\appdata\\roaming\\python\\python310\\site-packages (from autogluon.common==1.1.1->autogluon.multimodal) (5.9.5)\n",
            "Requirement already satisfied: setuptools in c:\\users\\anthony\\appdata\\local\\programs\\python\\python310\\lib\\site-packages (from autogluon.common==1.1.1->autogluon.multimodal) (75.1.0)\n",
            "Requirement already satisfied: networkx<4,>=3.0 in c:\\users\\anthony\\appdata\\local\\programs\\python\\python310\\lib\\site-packages (from autogluon.core==1.1.1->autogluon.core[raytune]==1.1.1->autogluon.multimodal) (3.3)\n",
            "Requirement already satisfied: matplotlib in c:\\users\\anthony\\appdata\\local\\programs\\python\\python310\\lib\\site-packages (from autogluon.core==1.1.1->autogluon.core[raytune]==1.1.1->autogluon.multimodal) (3.7.1)\n",
            "Requirement already satisfied: ray<2.11,>=2.10.0 in c:\\users\\anthony\\appdata\\local\\programs\\python\\python310\\lib\\site-packages (from ray[default,tune]<2.11,>=2.10.0; extra == \"raytune\"->autogluon.core[raytune]==1.1.1->autogluon.multimodal) (2.10.0)\n",
            "Requirement already satisfied: hyperopt<0.2.8,>=0.2.7 in c:\\users\\anthony\\appdata\\local\\programs\\python\\python310\\lib\\site-packages (from autogluon.core[raytune]==1.1.1->autogluon.multimodal) (0.2.7)\n",
            "Requirement already satisfied: packaging>=20.0 in c:\\users\\anthony\\appdata\\local\\programs\\python\\python310\\lib\\site-packages (from accelerate<0.22.0,>=0.21.0->autogluon.multimodal) (24.1)\n",
            "Requirement already satisfied: pyyaml in c:\\users\\anthony\\appdata\\local\\programs\\python\\python310\\lib\\site-packages (from accelerate<0.22.0,>=0.21.0->autogluon.multimodal) (6.0.2)\n",
            "Requirement already satisfied: botocore<1.36.0,>=1.35.24 in c:\\users\\anthony\\appdata\\local\\programs\\python\\python310\\lib\\site-packages (from boto3<2,>=1.10->autogluon.multimodal) (1.35.24)\n",
            "Requirement already satisfied: jmespath<2.0.0,>=0.7.1 in c:\\users\\anthony\\appdata\\local\\programs\\python\\python310\\lib\\site-packages (from boto3<2,>=1.10->autogluon.multimodal) (1.0.1)\n",
            "Requirement already satisfied: s3transfer<0.11.0,>=0.10.0 in c:\\users\\anthony\\appdata\\local\\programs\\python\\python310\\lib\\site-packages (from boto3<2,>=1.10->autogluon.multimodal) (0.10.2)\n",
            "Requirement already satisfied: datasets>=2.0.0 in c:\\users\\anthony\\appdata\\local\\programs\\python\\python310\\lib\\site-packages (from evaluate<0.5.0,>=0.4.0->autogluon.multimodal) (3.0.1)\n",
            "Requirement already satisfied: dill in c:\\users\\anthony\\appdata\\local\\programs\\python\\python310\\lib\\site-packages (from evaluate<0.5.0,>=0.4.0->autogluon.multimodal) (0.3.8)\n",
            "Requirement already satisfied: xxhash in c:\\users\\anthony\\appdata\\local\\programs\\python\\python310\\lib\\site-packages (from evaluate<0.5.0,>=0.4.0->autogluon.multimodal) (3.5.0)\n",
            "Requirement already satisfied: multiprocess in c:\\users\\anthony\\appdata\\local\\programs\\python\\python310\\lib\\site-packages (from evaluate<0.5.0,>=0.4.0->autogluon.multimodal) (0.70.16)\n",
            "Requirement already satisfied: fsspec>=2021.05.0 in c:\\users\\anthony\\appdata\\local\\programs\\python\\python310\\lib\\site-packages (from fsspec[http]>=2021.05.0->evaluate<0.5.0,>=0.4.0->autogluon.multimodal) (2024.6.1)\n",
            "Requirement already satisfied: huggingface-hub>=0.7.0 in c:\\users\\anthony\\appdata\\local\\programs\\python\\python310\\lib\\site-packages (from evaluate<0.5.0,>=0.4.0->autogluon.multimodal) (0.25.0)\n",
            "Requirement already satisfied: MarkupSafe>=2.0 in c:\\users\\anthony\\appdata\\local\\programs\\python\\python310\\lib\\site-packages (from jinja2<3.2,>=3.0.3->autogluon.multimodal) (2.1.5)\n",
            "Requirement already satisfied: attrs>=22.2.0 in c:\\users\\anthony\\appdata\\local\\programs\\python\\python310\\lib\\site-packages (from jsonschema<4.22,>=4.18->autogluon.multimodal) (24.2.0)\n",
            "Requirement already satisfied: jsonschema-specifications>=2023.03.6 in c:\\users\\anthony\\appdata\\local\\programs\\python\\python310\\lib\\site-packages (from jsonschema<4.22,>=4.18->autogluon.multimodal) (2023.12.1)\n",
            "Requirement already satisfied: referencing>=0.28.4 in c:\\users\\anthony\\appdata\\local\\programs\\python\\python310\\lib\\site-packages (from jsonschema<4.22,>=4.18->autogluon.multimodal) (0.35.1)\n",
            "Requirement already satisfied: rpds-py>=0.7.1 in c:\\users\\anthony\\appdata\\local\\programs\\python\\python310\\lib\\site-packages (from jsonschema<4.22,>=4.18->autogluon.multimodal) (0.20.0)\n",
            "Requirement already satisfied: lightning-utilities<2.0,>=0.10.0 in c:\\users\\anthony\\appdata\\local\\programs\\python\\python310\\lib\\site-packages (from lightning<2.4,>=2.2->autogluon.multimodal) (0.11.7)\n",
            "Requirement already satisfied: typing-extensions<6.0,>=4.4.0 in c:\\users\\anthony\\appdata\\local\\programs\\python\\python310\\lib\\site-packages (from lightning<2.4,>=2.2->autogluon.multimodal) (4.12.2)\n",
            "Requirement already satisfied: pytorch-lightning in c:\\users\\anthony\\appdata\\local\\programs\\python\\python310\\lib\\site-packages (from lightning<2.4,>=2.2->autogluon.multimodal) (2.4.0)\n",
            "Requirement already satisfied: gdown>=4.0.0 in c:\\users\\anthony\\appdata\\local\\programs\\python\\python310\\lib\\site-packages (from nlpaug<1.2.0,>=1.1.10->autogluon.multimodal) (5.2.0)\n",
            "Requirement already satisfied: click in c:\\users\\anthony\\appdata\\local\\programs\\python\\python310\\lib\\site-packages (from nltk<4.0.0,>=3.4.5->autogluon.multimodal) (8.1.3)\n",
            "Requirement already satisfied: joblib in c:\\users\\anthony\\appdata\\local\\programs\\python\\python310\\lib\\site-packages (from nltk<4.0.0,>=3.4.5->autogluon.multimodal) (1.2.0)\n",
            "Requirement already satisfied: regex>=2021.8.3 in c:\\users\\anthony\\appdata\\local\\programs\\python\\python310\\lib\\site-packages (from nltk<4.0.0,>=3.4.5->autogluon.multimodal) (2024.9.11)\n",
            "Requirement already satisfied: antlr4-python3-runtime==4.9.* in c:\\users\\anthony\\appdata\\local\\programs\\python\\python310\\lib\\site-packages (from omegaconf<2.3.0,>=2.1.1->autogluon.multimodal) (4.9.3)\n",
            "Requirement already satisfied: colorama in c:\\users\\anthony\\appdata\\local\\programs\\python\\python310\\lib\\site-packages (from openmim<0.4.0,>=0.3.7->autogluon.multimodal) (0.4.6)\n",
            "Requirement already satisfied: model-index in c:\\users\\anthony\\appdata\\local\\programs\\python\\python310\\lib\\site-packages (from openmim<0.4.0,>=0.3.7->autogluon.multimodal) (0.1.11)\n",
            "Requirement already satisfied: opendatalab in c:\\users\\anthony\\appdata\\local\\programs\\python\\python310\\lib\\site-packages (from openmim<0.4.0,>=0.3.7->autogluon.multimodal) (0.0.10)\n",
            "Requirement already satisfied: pip>=19.3 in c:\\users\\anthony\\appdata\\local\\programs\\python\\python310\\lib\\site-packages (from openmim<0.4.0,>=0.3.7->autogluon.multimodal) (24.2)\n",
            "Requirement already satisfied: rich in c:\\users\\anthony\\appdata\\local\\programs\\python\\python310\\lib\\site-packages (from openmim<0.4.0,>=0.3.7->autogluon.multimodal) (13.8.1)\n",
            "Requirement already satisfied: tabulate in c:\\users\\anthony\\appdata\\local\\programs\\python\\python310\\lib\\site-packages (from openmim<0.4.0,>=0.3.7->autogluon.multimodal) (0.9.0)\n",
            "Requirement already satisfied: python-dateutil>=2.8.2 in c:\\users\\anthony\\appdata\\local\\programs\\python\\python310\\lib\\site-packages (from pandas<2.3.0,>=2.0.0->autogluon.multimodal) (2.8.2)\n",
            "Requirement already satisfied: pytz>=2020.1 in c:\\users\\anthony\\appdata\\local\\programs\\python\\python310\\lib\\site-packages (from pandas<2.3.0,>=2.0.0->autogluon.multimodal) (2023.3)\n",
            "Requirement already satisfied: tzdata>=2022.1 in c:\\users\\anthony\\appdata\\local\\programs\\python\\python310\\lib\\site-packages (from pandas<2.3.0,>=2.0.0->autogluon.multimodal) (2023.3)\n",
            "Requirement already satisfied: charset-normalizer<4,>=2 in c:\\users\\anthony\\appdata\\local\\programs\\python\\python310\\lib\\site-packages (from requests<3,>=2.21->autogluon.multimodal) (3.3.2)\n",
            "Requirement already satisfied: idna<4,>=2.5 in c:\\users\\anthony\\appdata\\local\\programs\\python\\python310\\lib\\site-packages (from requests<3,>=2.21->autogluon.multimodal) (3.10)\n",
            "Requirement already satisfied: urllib3<3,>=1.21.1 in c:\\users\\anthony\\appdata\\local\\programs\\python\\python310\\lib\\site-packages (from requests<3,>=2.21->autogluon.multimodal) (2.2.3)\n",
            "Requirement already satisfied: certifi>=2017.4.17 in c:\\users\\anthony\\appdata\\local\\programs\\python\\python310\\lib\\site-packages (from requests<3,>=2.21->autogluon.multimodal) (2024.8.30)\n",
            "Requirement already satisfied: imageio>=2.4.1 in c:\\users\\anthony\\appdata\\local\\programs\\python\\python310\\lib\\site-packages (from scikit-image<0.21.0,>=0.19.1->autogluon.multimodal) (2.35.1)\n",
            "Requirement already satisfied: tifffile>=2019.7.26 in c:\\users\\anthony\\appdata\\local\\programs\\python\\python310\\lib\\site-packages (from scikit-image<0.21.0,>=0.19.1->autogluon.multimodal) (2024.9.20)\n",
            "Requirement already satisfied: PyWavelets>=1.1.1 in c:\\users\\anthony\\appdata\\local\\programs\\python\\python310\\lib\\site-packages (from scikit-image<0.21.0,>=0.19.1->autogluon.multimodal) (1.7.0)\n",
            "Requirement already satisfied: lazy_loader>=0.1 in c:\\users\\anthony\\appdata\\local\\programs\\python\\python310\\lib\\site-packages (from scikit-image<0.21.0,>=0.19.1->autogluon.multimodal) (0.4)\n",
            "Requirement already satisfied: threadpoolctl>=2.0.0 in c:\\users\\anthony\\appdata\\local\\programs\\python\\python310\\lib\\site-packages (from scikit-learn<1.4.1,>=1.3.0->autogluon.multimodal) (3.1.0)\n",
            "Requirement already satisfied: absl-py>=0.4 in c:\\users\\anthony\\appdata\\local\\programs\\python\\python310\\lib\\site-packages (from tensorboard<3,>=2.9->autogluon.multimodal) (2.1.0)\n",
            "Requirement already satisfied: grpcio>=1.48.2 in c:\\users\\anthony\\appdata\\local\\programs\\python\\python310\\lib\\site-packages (from tensorboard<3,>=2.9->autogluon.multimodal) (1.66.1)\n",
            "Requirement already satisfied: google-auth<3,>=1.6.3 in c:\\users\\anthony\\appdata\\local\\programs\\python\\python310\\lib\\site-packages (from tensorboard<3,>=2.9->autogluon.multimodal) (2.35.0)\n",
            "Requirement already satisfied: google-auth-oauthlib<2,>=0.5 in c:\\users\\anthony\\appdata\\local\\programs\\python\\python310\\lib\\site-packages (from tensorboard<3,>=2.9->autogluon.multimodal) (1.2.1)\n",
            "Requirement already satisfied: markdown>=2.6.8 in c:\\users\\anthony\\appdata\\local\\programs\\python\\python310\\lib\\site-packages (from tensorboard<3,>=2.9->autogluon.multimodal) (3.7)\n",
            "Requirement already satisfied: protobuf!=4.24.0,>=3.19.6 in c:\\users\\anthony\\appdata\\local\\programs\\python\\python310\\lib\\site-packages (from tensorboard<3,>=2.9->autogluon.multimodal) (4.25.5)\n",
            "Requirement already satisfied: six>1.9 in c:\\users\\anthony\\appdata\\local\\programs\\python\\python310\\lib\\site-packages (from tensorboard<3,>=2.9->autogluon.multimodal) (1.16.0)\n",
            "Requirement already satisfied: tensorboard-data-server<0.8.0,>=0.7.0 in c:\\users\\anthony\\appdata\\local\\programs\\python\\python310\\lib\\site-packages (from tensorboard<3,>=2.9->autogluon.multimodal) (0.7.2)\n",
            "Requirement already satisfied: werkzeug>=1.0.1 in c:\\users\\anthony\\appdata\\local\\programs\\python\\python310\\lib\\site-packages (from tensorboard<3,>=2.9->autogluon.multimodal) (3.0.4)\n",
            "Requirement already satisfied: safetensors in c:\\users\\anthony\\appdata\\local\\programs\\python\\python310\\lib\\site-packages (from timm<0.10.0,>=0.9.5->autogluon.multimodal) (0.4.5)\n",
            "Requirement already satisfied: filelock in c:\\users\\anthony\\appdata\\local\\programs\\python\\python310\\lib\\site-packages (from torch<2.4,>=2.2->autogluon.multimodal) (3.12.0)\n",
            "Requirement already satisfied: sympy in c:\\users\\anthony\\appdata\\local\\programs\\python\\python310\\lib\\site-packages (from torch<2.4,>=2.2->autogluon.multimodal) (1.13.3)\n",
            "Requirement already satisfied: mkl<=2021.4.0,>=2021.1.1 in c:\\users\\anthony\\appdata\\local\\programs\\python\\python310\\lib\\site-packages (from torch<2.4,>=2.2->autogluon.multimodal) (2021.4.0)\n",
            "Requirement already satisfied: tokenizers<0.20,>=0.19 in c:\\users\\anthony\\appdata\\local\\programs\\python\\python310\\lib\\site-packages (from transformers<4.41.0,>=4.38.0->transformers[sentencepiece]<4.41.0,>=4.38.0->autogluon.multimodal) (0.19.1)\n",
            "Requirement already satisfied: sentencepiece!=0.1.92,>=0.1.91 in c:\\users\\anthony\\appdata\\local\\programs\\python\\python310\\lib\\site-packages (from transformers[sentencepiece]<4.41.0,>=4.38.0->autogluon.multimodal) (0.2.0)\n",
            "Requirement already satisfied: pyarrow>=15.0.0 in c:\\users\\anthony\\appdata\\local\\programs\\python\\python310\\lib\\site-packages (from datasets>=2.0.0->evaluate<0.5.0,>=0.4.0->autogluon.multimodal) (17.0.0)\n",
            "Requirement already satisfied: aiohttp in c:\\users\\anthony\\appdata\\local\\programs\\python\\python310\\lib\\site-packages (from datasets>=2.0.0->evaluate<0.5.0,>=0.4.0->autogluon.multimodal) (3.10.7)\n",
            "Requirement already satisfied: beautifulsoup4 in c:\\users\\anthony\\appdata\\local\\programs\\python\\python310\\lib\\site-packages (from gdown>=4.0.0->nlpaug<1.2.0,>=1.1.10->autogluon.multimodal) (4.12.3)\n",
            "Requirement already satisfied: cachetools<6.0,>=2.0.0 in c:\\users\\anthony\\appdata\\local\\programs\\python\\python310\\lib\\site-packages (from google-auth<3,>=1.6.3->tensorboard<3,>=2.9->autogluon.multimodal) (5.3.0)\n",
            "Requirement already satisfied: pyasn1-modules>=0.2.1 in c:\\users\\anthony\\appdata\\local\\programs\\python\\python310\\lib\\site-packages (from google-auth<3,>=1.6.3->tensorboard<3,>=2.9->autogluon.multimodal) (0.3.0)\n",
            "Requirement already satisfied: rsa<5,>=3.1.4 in c:\\users\\anthony\\appdata\\local\\programs\\python\\python310\\lib\\site-packages (from google-auth<3,>=1.6.3->tensorboard<3,>=2.9->autogluon.multimodal) (4.9)\n",
            "Requirement already satisfied: requests-oauthlib>=0.7.0 in c:\\users\\anthony\\appdata\\local\\programs\\python\\python310\\lib\\site-packages (from google-auth-oauthlib<2,>=0.5->tensorboard<3,>=2.9->autogluon.multimodal) (1.3.1)\n",
            "Requirement already satisfied: future in c:\\users\\anthony\\appdata\\local\\programs\\python\\python310\\lib\\site-packages (from hyperopt<0.2.8,>=0.2.7->autogluon.core[raytune]==1.1.1->autogluon.multimodal) (1.0.0)\n",
            "Requirement already satisfied: cloudpickle in c:\\users\\anthony\\appdata\\local\\programs\\python\\python310\\lib\\site-packages (from hyperopt<0.2.8,>=0.2.7->autogluon.core[raytune]==1.1.1->autogluon.multimodal) (3.0.0)\n",
            "Requirement already satisfied: py4j in c:\\users\\anthony\\appdata\\local\\programs\\python\\python310\\lib\\site-packages (from hyperopt<0.2.8,>=0.2.7->autogluon.core[raytune]==1.1.1->autogluon.multimodal) (0.10.9.7)\n",
            "Requirement already satisfied: intel-openmp==2021.* in c:\\users\\anthony\\appdata\\local\\programs\\python\\python310\\lib\\site-packages (from mkl<=2021.4.0,>=2021.1.1->torch<2.4,>=2.2->autogluon.multimodal) (2021.4.0)\n",
            "Requirement already satisfied: tbb==2021.* in c:\\users\\anthony\\appdata\\local\\programs\\python\\python310\\lib\\site-packages (from mkl<=2021.4.0,>=2021.1.1->torch<2.4,>=2.2->autogluon.multimodal) (2021.13.1)\n",
            "Requirement already satisfied: msgpack<2.0.0,>=1.0.0 in c:\\users\\anthony\\appdata\\local\\programs\\python\\python310\\lib\\site-packages (from ray<2.11,>=2.10.0->ray[default,tune]<2.11,>=2.10.0; extra == \"raytune\"->autogluon.core[raytune]==1.1.1->autogluon.multimodal) (1.1.0)\n",
            "Requirement already satisfied: aiosignal in c:\\users\\anthony\\appdata\\local\\programs\\python\\python310\\lib\\site-packages (from ray<2.11,>=2.10.0->ray[default,tune]<2.11,>=2.10.0; extra == \"raytune\"->autogluon.core[raytune]==1.1.1->autogluon.multimodal) (1.3.1)\n",
            "Requirement already satisfied: frozenlist in c:\\users\\anthony\\appdata\\local\\programs\\python\\python310\\lib\\site-packages (from ray<2.11,>=2.10.0->ray[default,tune]<2.11,>=2.10.0; extra == \"raytune\"->autogluon.core[raytune]==1.1.1->autogluon.multimodal) (1.4.1)\n",
            "Requirement already satisfied: tensorboardX>=1.9 in c:\\users\\anthony\\appdata\\local\\programs\\python\\python310\\lib\\site-packages (from ray[default,tune]<2.11,>=2.10.0; extra == \"raytune\"->autogluon.core[raytune]==1.1.1->autogluon.multimodal) (2.6.2.2)\n",
            "Requirement already satisfied: aiohttp-cors in c:\\users\\anthony\\appdata\\local\\programs\\python\\python310\\lib\\site-packages (from ray[default,tune]<2.11,>=2.10.0; extra == \"raytune\"->autogluon.core[raytune]==1.1.1->autogluon.multimodal) (0.7.0)\n",
            "Requirement already satisfied: colorful in c:\\users\\anthony\\appdata\\local\\programs\\python\\python310\\lib\\site-packages (from ray[default,tune]<2.11,>=2.10.0; extra == \"raytune\"->autogluon.core[raytune]==1.1.1->autogluon.multimodal) (0.5.6)\n",
            "Requirement already satisfied: py-spy>=0.2.0 in c:\\users\\anthony\\appdata\\local\\programs\\python\\python310\\lib\\site-packages (from ray[default,tune]<2.11,>=2.10.0; extra == \"raytune\"->autogluon.core[raytune]==1.1.1->autogluon.multimodal) (0.3.14)\n",
            "Requirement already satisfied: opencensus in c:\\users\\anthony\\appdata\\local\\programs\\python\\python310\\lib\\site-packages (from ray[default,tune]<2.11,>=2.10.0; extra == \"raytune\"->autogluon.core[raytune]==1.1.1->autogluon.multimodal) (0.11.4)\n",
            "Requirement already satisfied: pydantic!=2.0.*,!=2.1.*,!=2.2.*,!=2.3.*,!=2.4.*,<3 in c:\\users\\anthony\\appdata\\local\\programs\\python\\python310\\lib\\site-packages (from ray[default,tune]<2.11,>=2.10.0; extra == \"raytune\"->autogluon.core[raytune]==1.1.1->autogluon.multimodal) (2.9.2)\n",
            "Requirement already satisfied: prometheus-client>=0.7.1 in c:\\users\\anthony\\appdata\\local\\programs\\python\\python310\\lib\\site-packages (from ray[default,tune]<2.11,>=2.10.0; extra == \"raytune\"->autogluon.core[raytune]==1.1.1->autogluon.multimodal) (0.21.0)\n",
            "Requirement already satisfied: smart-open in c:\\users\\anthony\\appdata\\local\\programs\\python\\python310\\lib\\site-packages (from ray[default,tune]<2.11,>=2.10.0; extra == \"raytune\"->autogluon.core[raytune]==1.1.1->autogluon.multimodal) (7.0.4)\n",
            "Requirement already satisfied: virtualenv!=20.21.1,>=20.0.24 in c:\\users\\anthony\\appdata\\local\\programs\\python\\python310\\lib\\site-packages (from ray[default,tune]<2.11,>=2.10.0; extra == \"raytune\"->autogluon.core[raytune]==1.1.1->autogluon.multimodal) (20.23.0)\n",
            "Requirement already satisfied: contourpy>=1.0.1 in c:\\users\\anthony\\appdata\\local\\programs\\python\\python310\\lib\\site-packages (from matplotlib->autogluon.core==1.1.1->autogluon.core[raytune]==1.1.1->autogluon.multimodal) (1.0.7)\n",
            "Requirement already satisfied: cycler>=0.10 in c:\\users\\anthony\\appdata\\local\\programs\\python\\python310\\lib\\site-packages (from matplotlib->autogluon.core==1.1.1->autogluon.core[raytune]==1.1.1->autogluon.multimodal) (0.11.0)\n",
            "Requirement already satisfied: fonttools>=4.22.0 in c:\\users\\anthony\\appdata\\local\\programs\\python\\python310\\lib\\site-packages (from matplotlib->autogluon.core==1.1.1->autogluon.core[raytune]==1.1.1->autogluon.multimodal) (4.39.4)\n",
            "Requirement already satisfied: kiwisolver>=1.0.1 in c:\\users\\anthony\\appdata\\local\\programs\\python\\python310\\lib\\site-packages (from matplotlib->autogluon.core==1.1.1->autogluon.core[raytune]==1.1.1->autogluon.multimodal) (1.4.4)\n",
            "Requirement already satisfied: pyparsing>=2.3.1 in c:\\users\\anthony\\appdata\\local\\programs\\python\\python310\\lib\\site-packages (from matplotlib->autogluon.core==1.1.1->autogluon.core[raytune]==1.1.1->autogluon.multimodal) (3.0.9)\n",
            "Requirement already satisfied: ordered-set in c:\\users\\anthony\\appdata\\local\\programs\\python\\python310\\lib\\site-packages (from model-index->openmim<0.4.0,>=0.3.7->autogluon.multimodal) (4.1.0)\n",
            "Requirement already satisfied: pycryptodome in c:\\users\\anthony\\appdata\\local\\programs\\python\\python310\\lib\\site-packages (from opendatalab->openmim<0.4.0,>=0.3.7->autogluon.multimodal) (3.20.0)\n",
            "Requirement already satisfied: openxlab in c:\\users\\anthony\\appdata\\local\\programs\\python\\python310\\lib\\site-packages (from opendatalab->openmim<0.4.0,>=0.3.7->autogluon.multimodal) (0.0.11)\n",
            "Requirement already satisfied: pywin32 in c:\\users\\anthony\\appdata\\roaming\\python\\python310\\site-packages (from opendatalab->openmim<0.4.0,>=0.3.7->autogluon.multimodal) (306)\n",
            "Requirement already satisfied: markdown-it-py>=2.2.0 in c:\\users\\anthony\\appdata\\local\\programs\\python\\python310\\lib\\site-packages (from rich->openmim<0.4.0,>=0.3.7->autogluon.multimodal) (3.0.0)\n",
            "Requirement already satisfied: pygments<3.0.0,>=2.13.0 in c:\\users\\anthony\\appdata\\local\\programs\\python\\python310\\lib\\site-packages (from rich->openmim<0.4.0,>=0.3.7->autogluon.multimodal) (2.18.0)\n",
            "Requirement already satisfied: mpmath<1.4,>=1.1.0 in c:\\users\\anthony\\appdata\\local\\programs\\python\\python310\\lib\\site-packages (from sympy->torch<2.4,>=2.2->autogluon.multimodal) (1.3.0)\n",
            "Requirement already satisfied: aiohappyeyeballs>=2.3.0 in c:\\users\\anthony\\appdata\\local\\programs\\python\\python310\\lib\\site-packages (from aiohttp->datasets>=2.0.0->evaluate<0.5.0,>=0.4.0->autogluon.multimodal) (2.4.2)\n",
            "Requirement already satisfied: multidict<7.0,>=4.5 in c:\\users\\anthony\\appdata\\local\\programs\\python\\python310\\lib\\site-packages (from aiohttp->datasets>=2.0.0->evaluate<0.5.0,>=0.4.0->autogluon.multimodal) (6.1.0)\n",
            "Requirement already satisfied: yarl<2.0,>=1.12.0 in c:\\users\\anthony\\appdata\\local\\programs\\python\\python310\\lib\\site-packages (from aiohttp->datasets>=2.0.0->evaluate<0.5.0,>=0.4.0->autogluon.multimodal) (1.13.1)\n",
            "Requirement already satisfied: async-timeout<5.0,>=4.0 in c:\\users\\anthony\\appdata\\local\\programs\\python\\python310\\lib\\site-packages (from aiohttp->datasets>=2.0.0->evaluate<0.5.0,>=0.4.0->autogluon.multimodal) (4.0.3)\n",
            "Requirement already satisfied: mdurl~=0.1 in c:\\users\\anthony\\appdata\\local\\programs\\python\\python310\\lib\\site-packages (from markdown-it-py>=2.2.0->rich->openmim<0.4.0,>=0.3.7->autogluon.multimodal) (0.1.2)\n",
            "Requirement already satisfied: pyasn1<0.6.0,>=0.4.6 in c:\\users\\anthony\\appdata\\local\\programs\\python\\python310\\lib\\site-packages (from pyasn1-modules>=0.2.1->google-auth<3,>=1.6.3->tensorboard<3,>=2.9->autogluon.multimodal) (0.5.0)\n",
            "Requirement already satisfied: annotated-types>=0.6.0 in c:\\users\\anthony\\appdata\\local\\programs\\python\\python310\\lib\\site-packages (from pydantic!=2.0.*,!=2.1.*,!=2.2.*,!=2.3.*,!=2.4.*,<3->ray[default,tune]<2.11,>=2.10.0; extra == \"raytune\"->autogluon.core[raytune]==1.1.1->autogluon.multimodal) (0.7.0)\n",
            "Requirement already satisfied: pydantic-core==2.23.4 in c:\\users\\anthony\\appdata\\local\\programs\\python\\python310\\lib\\site-packages (from pydantic!=2.0.*,!=2.1.*,!=2.2.*,!=2.3.*,!=2.4.*,<3->ray[default,tune]<2.11,>=2.10.0; extra == \"raytune\"->autogluon.core[raytune]==1.1.1->autogluon.multimodal) (2.23.4)\n",
            "Requirement already satisfied: oauthlib>=3.0.0 in c:\\users\\anthony\\appdata\\local\\programs\\python\\python310\\lib\\site-packages (from requests-oauthlib>=0.7.0->google-auth-oauthlib<2,>=0.5->tensorboard<3,>=2.9->autogluon.multimodal) (3.2.2)\n",
            "Requirement already satisfied: distlib<1,>=0.3.6 in c:\\users\\anthony\\appdata\\local\\programs\\python\\python310\\lib\\site-packages (from virtualenv!=20.21.1,>=20.0.24->ray[default,tune]<2.11,>=2.10.0; extra == \"raytune\"->autogluon.core[raytune]==1.1.1->autogluon.multimodal) (0.3.6)\n",
            "Requirement already satisfied: platformdirs<4,>=3.2 in c:\\users\\anthony\\appdata\\local\\programs\\python\\python310\\lib\\site-packages (from virtualenv!=20.21.1,>=20.0.24->ray[default,tune]<2.11,>=2.10.0; extra == \"raytune\"->autogluon.core[raytune]==1.1.1->autogluon.multimodal) (3.5.1)\n",
            "Requirement already satisfied: soupsieve>1.2 in c:\\users\\anthony\\appdata\\local\\programs\\python\\python310\\lib\\site-packages (from beautifulsoup4->gdown>=4.0.0->nlpaug<1.2.0,>=1.1.10->autogluon.multimodal) (2.6)\n",
            "Requirement already satisfied: opencensus-context>=0.1.3 in c:\\users\\anthony\\appdata\\local\\programs\\python\\python310\\lib\\site-packages (from opencensus->ray[default,tune]<2.11,>=2.10.0; extra == \"raytune\"->autogluon.core[raytune]==1.1.1->autogluon.multimodal) (0.1.3)\n",
            "Requirement already satisfied: google-api-core<3.0.0,>=1.0.0 in c:\\users\\anthony\\appdata\\local\\programs\\python\\python310\\lib\\site-packages (from opencensus->ray[default,tune]<2.11,>=2.10.0; extra == \"raytune\"->autogluon.core[raytune]==1.1.1->autogluon.multimodal) (2.20.0)\n",
            "Requirement already satisfied: PySocks!=1.5.7,>=1.5.6 in c:\\users\\anthony\\appdata\\local\\programs\\python\\python310\\lib\\site-packages (from requests[socks]->gdown>=4.0.0->nlpaug<1.2.0,>=1.1.10->autogluon.multimodal) (1.7.1)\n",
            "Requirement already satisfied: wrapt in c:\\users\\anthony\\appdata\\local\\programs\\python\\python310\\lib\\site-packages (from smart-open->ray[default,tune]<2.11,>=2.10.0; extra == \"raytune\"->autogluon.core[raytune]==1.1.1->autogluon.multimodal) (1.14.1)\n",
            "Requirement already satisfied: googleapis-common-protos<2.0.dev0,>=1.56.2 in c:\\users\\anthony\\appdata\\local\\programs\\python\\python310\\lib\\site-packages (from google-api-core<3.0.0,>=1.0.0->opencensus->ray[default,tune]<2.11,>=2.10.0; extra == \"raytune\"->autogluon.core[raytune]==1.1.1->autogluon.multimodal) (1.65.0)\n",
            "Requirement already satisfied: proto-plus<2.0.0dev,>=1.22.3 in c:\\users\\anthony\\appdata\\local\\programs\\python\\python310\\lib\\site-packages (from google-api-core<3.0.0,>=1.0.0->opencensus->ray[default,tune]<2.11,>=2.10.0; extra == \"raytune\"->autogluon.core[raytune]==1.1.1->autogluon.multimodal) (1.24.0)\n"
          ]
        }
      ],
      "source": [
        "!pip install autogluon.multimodal\n"
      ]
    },
    {
      "cell_type": "code",
      "execution_count": 2,
      "id": "52934a32",
      "metadata": {
        "id": "52934a32"
      },
      "outputs": [
        {
          "data": {
            "text/html": [
              "<div>\n",
              "<style scoped>\n",
              "    .dataframe tbody tr th:only-of-type {\n",
              "        vertical-align: middle;\n",
              "    }\n",
              "\n",
              "    .dataframe tbody tr th {\n",
              "        vertical-align: top;\n",
              "    }\n",
              "\n",
              "    .dataframe thead th {\n",
              "        text-align: right;\n",
              "    }\n",
              "</style>\n",
              "<table border=\"1\" class=\"dataframe\">\n",
              "  <thead>\n",
              "    <tr style=\"text-align: right;\">\n",
              "      <th></th>\n",
              "      <th>premise</th>\n",
              "      <th>hypothesis</th>\n",
              "      <th>label</th>\n",
              "    </tr>\n",
              "  </thead>\n",
              "  <tbody>\n",
              "    <tr>\n",
              "      <th>0</th>\n",
              "      <td>A person on a horse jumps over a broken down a...</td>\n",
              "      <td>A person is at a diner , ordering an omelette .</td>\n",
              "      <td>0</td>\n",
              "    </tr>\n",
              "    <tr>\n",
              "      <th>1</th>\n",
              "      <td>A person on a horse jumps over a broken down a...</td>\n",
              "      <td>A person is outdoors , on a horse .</td>\n",
              "      <td>1</td>\n",
              "    </tr>\n",
              "    <tr>\n",
              "      <th>2</th>\n",
              "      <td>Children smiling and waving at camera</td>\n",
              "      <td>There are children present</td>\n",
              "      <td>1</td>\n",
              "    </tr>\n",
              "    <tr>\n",
              "      <th>3</th>\n",
              "      <td>Children smiling and waving at camera</td>\n",
              "      <td>The kids are frowning</td>\n",
              "      <td>0</td>\n",
              "    </tr>\n",
              "    <tr>\n",
              "      <th>4</th>\n",
              "      <td>A boy is jumping on skateboard in the middle o...</td>\n",
              "      <td>The boy skates down the sidewalk .</td>\n",
              "      <td>0</td>\n",
              "    </tr>\n",
              "  </tbody>\n",
              "</table>\n",
              "</div>"
            ],
            "text/plain": [
              "                                             premise  \\\n",
              "0  A person on a horse jumps over a broken down a...   \n",
              "1  A person on a horse jumps over a broken down a...   \n",
              "2              Children smiling and waving at camera   \n",
              "3              Children smiling and waving at camera   \n",
              "4  A boy is jumping on skateboard in the middle o...   \n",
              "\n",
              "                                        hypothesis  label  \n",
              "0  A person is at a diner , ordering an omelette .      0  \n",
              "1              A person is outdoors , on a horse .      1  \n",
              "2                       There are children present      1  \n",
              "3                            The kids are frowning      0  \n",
              "4               The boy skates down the sidewalk .      0  "
            ]
          },
          "execution_count": 2,
          "metadata": {},
          "output_type": "execute_result"
        }
      ],
      "source": [
        "from autogluon.core.utils.loaders import load_pd\n",
        "import pandas as pd\n",
        "\n",
        "snli_train = load_pd.load('https://automl-mm-bench.s3.amazonaws.com/snli/snli_train.csv', delimiter=\"|\")\n",
        "snli_test = load_pd.load('https://automl-mm-bench.s3.amazonaws.com/snli/snli_test.csv', delimiter=\"|\")\n",
        "snli_train.head()"
      ]
    },
    {
      "cell_type": "markdown",
      "id": "620d4fdd",
      "metadata": {
        "id": "620d4fdd"
      },
      "source": [
        "## Train your Model\n",
        "\n",
        "Ideally, we want to obtain a model that can return high/low scores for positive/negative text pairs. Traditional text similarity methods only work on a lexical level without taking the semantic aspect into account, for example, using term frequency or tf-idf vectors. With AutoMM, we can easily train a model that captures the semantic relationship between sentences. Basically, it uses [BERT](https://arxiv.org/abs/1810.04805) to project each sentence into a high-dimensional vector and treat the matching problem as a classification problem following the design in [sentence transformers](https://www.sbert.net/).\n",
        "With AutoMM, you just need to specify the query, response, and label column names and fit the model on the training dataset without worrying the implementation details. Note that the labels should be binary, and we need to specify the `match_label`, which means two sentences have the same semantic meaning. In practice, your tasks may have different labels, e.g., duplicate or not duplicate. You may need to define the `match_label` by considering your specific task contexts."
      ]
    },
    {
      "cell_type": "code",
      "execution_count": 3,
      "id": "340bbd54",
      "metadata": {
        "id": "340bbd54"
      },
      "outputs": [
        {
          "name": "stdout",
          "output_type": "stream",
          "text": [
            "WARNING:tensorflow:From c:\\Users\\Anthony\\AppData\\Local\\Programs\\Python\\Python310\\lib\\site-packages\\keras\\src\\losses.py:2976: The name tf.losses.sparse_softmax_cross_entropy is deprecated. Please use tf.compat.v1.losses.sparse_softmax_cross_entropy instead.\n",
            "\n"
          ]
        },
        {
          "name": "stderr",
          "output_type": "stream",
          "text": [
            "No path specified. Models will be saved in: \"AutogluonModels\\ag-20240930_041713\"\n",
            "=================== System Info ===================\n",
            "AutoGluon Version:  1.1.1\n",
            "Python Version:     3.10.11\n",
            "Operating System:   Windows\n",
            "Platform Machine:   AMD64\n",
            "Platform Version:   10.0.22631\n",
            "CPU Count:          24\n",
            "Pytorch Version:    2.3.1+cpu\n",
            "CUDA Version:       CUDA is not available\n",
            "Memory Avail:       10.70 GB / 31.91 GB (33.5%)\n",
            "Disk Space Avail:   57.92 GB / 464.51 GB (12.5%)\n",
            "===================================================\n",
            "AutoGluon infers your prediction problem is: 'binary' (because only two unique label-values observed).\n",
            "\t2 unique label values:  [0, 1]\n",
            "\tIf 'binary' is not the correct problem_type, please manually specify the problem_type parameter during Predictor init (You may specify problem_type as one of: ['binary', 'multiclass', 'regression', 'quantile'])\n",
            "c:\\Users\\Anthony\\AppData\\Local\\Programs\\Python\\Python310\\lib\\site-packages\\autogluon\\multimodal\\utils\\metric.py:116: UserWarning: Metric auc is not supported as the evaluation metric for binary in matching tasks.The evaluation metric is changed to roc_auc by default.\n",
            "  warnings.warn(\n",
            "\n",
            "AutoMM starts to create your model. ✨✨✨\n",
            "\n",
            "To track the learning progress, you can open a terminal and launch Tensorboard:\n",
            "    ```shell\n",
            "    # Assume you have installed tensorboard\n",
            "    tensorboard --logdir c:\\Users\\Anthony\\Desktop\\Grad School\\CMPE 255\\Notebooks\\AutogluonModels\\ag-20240930_041713\n",
            "    ```\n",
            "\n",
            "Seed set to 0\n",
            "c:\\Users\\Anthony\\AppData\\Local\\Programs\\Python\\Python310\\lib\\site-packages\\huggingface_hub\\file_download.py:1142: FutureWarning: `resume_download` is deprecated and will be removed in version 1.0.0. Downloads always resume when possible. If you want to force a new download, use `force_download=True`.\n",
            "  warnings.warn(\n",
            "GPU Count: 0\n",
            "GPU Count to be Used: 0\n",
            "\n",
            "c:\\Users\\Anthony\\AppData\\Local\\Programs\\Python\\Python310\\lib\\site-packages\\autogluon\\multimodal\\utils\\environment.py:131: UserWarning: Only CPU is detected in the instance. This may result in slow speed for MultiModalPredictor. Consider using an instance with GPU support.\n",
            "  warnings.warn(\n",
            "GPU available: False, used: False\n",
            "TPU available: False, using: 0 TPU cores\n",
            "HPU available: False, using: 0 HPUs\n",
            "\n",
            "  | Name              | Type                         | Params | Mode \n",
            "---------------------------------------------------------------------------\n",
            "0 | query_model       | HFAutoModelForTextPrediction | 33.4 M | train\n",
            "1 | response_model    | HFAutoModelForTextPrediction | 33.4 M | train\n",
            "2 | validation_metric | BinaryAUROC                  | 0      | train\n",
            "3 | loss_func         | ContrastiveLoss              | 0      | train\n",
            "4 | miner_func        | PairMarginMiner              | 0      | train\n",
            "---------------------------------------------------------------------------\n",
            "33.4 M    Trainable params\n",
            "0         Non-trainable params\n",
            "33.4 M    Total params\n",
            "133.440   Total estimated model params size (MB)\n"
          ]
        },
        {
          "data": {
            "application/vnd.jupyter.widget-view+json": {
              "model_id": "8c479377b8084a178367e44a8f9e8c5f",
              "version_major": 2,
              "version_minor": 0
            },
            "text/plain": [
              "Sanity Checking: |          | 0/? [00:00<?, ?it/s]"
            ]
          },
          "metadata": {},
          "output_type": "display_data"
        },
        {
          "data": {
            "application/vnd.jupyter.widget-view+json": {
              "model_id": "13096dd1a6924ed4aac9f0cbb747ba75",
              "version_major": 2,
              "version_minor": 0
            },
            "text/plain": [
              "Training: |          | 0/? [00:00<?, ?it/s]"
            ]
          },
          "metadata": {},
          "output_type": "display_data"
        },
        {
          "name": "stderr",
          "output_type": "stream",
          "text": [
            "Time limit reached. Elapsed time is 0:03:00. Signaling Trainer to stop.\n"
          ]
        },
        {
          "data": {
            "application/vnd.jupyter.widget-view+json": {
              "model_id": "a7da7e59d3d548beb9663976577e05e7",
              "version_major": 2,
              "version_minor": 0
            },
            "text/plain": [
              "Validation: |          | 0/? [00:00<?, ?it/s]"
            ]
          },
          "metadata": {},
          "output_type": "display_data"
        },
        {
          "name": "stderr",
          "output_type": "stream",
          "text": [
            "Epoch 0, global step 18: 'val_roc_auc' reached 0.88342 (best 0.88342), saving model to 'C:\\\\Users\\\\Anthony\\\\Desktop\\\\Grad School\\\\CMPE 255\\\\Notebooks\\\\AutogluonModels\\\\ag-20240930_041713\\\\epoch=0-step=18.ckpt' as top 3\n",
            "Start to fuse 1 checkpoints via the greedy soup algorithm.\n"
          ]
        },
        {
          "data": {
            "application/vnd.jupyter.widget-view+json": {
              "model_id": "a2fb92c049ee450a95dc35ce96d7df6e",
              "version_major": 2,
              "version_minor": 0
            },
            "text/plain": [
              "Predicting: |          | 0/? [00:00<?, ?it/s]"
            ]
          },
          "metadata": {},
          "output_type": "display_data"
        },
        {
          "name": "stderr",
          "output_type": "stream",
          "text": [
            "AutoMM has created your model. 🎉🎉🎉\n",
            "\n",
            "To load the model, use the code below:\n",
            "    ```python\n",
            "    from autogluon.multimodal import MultiModalPredictor\n",
            "    predictor = MultiModalPredictor.load(\"c:\\Users\\Anthony\\Desktop\\Grad School\\CMPE 255\\Notebooks\\AutogluonModels\\ag-20240930_041713\")\n",
            "    ```\n",
            "\n",
            "If you are not satisfied with the model, try to increase the training time, \n",
            "adjust the hyperparameters (https://auto.gluon.ai/stable/tutorials/multimodal/advanced_topics/customization.html),\n",
            "or post issues on GitHub (https://github.com/autogluon/autogluon/issues).\n",
            "\n",
            "\n"
          ]
        },
        {
          "data": {
            "text/plain": [
              "<autogluon.multimodal.predictor.MultiModalPredictor at 0x2df46cc6e90>"
            ]
          },
          "execution_count": 3,
          "metadata": {},
          "output_type": "execute_result"
        }
      ],
      "source": [
        "from autogluon.multimodal import MultiModalPredictor\n",
        "\n",
        "# Initialize the model\n",
        "predictor = MultiModalPredictor(\n",
        "        problem_type=\"text_similarity\",\n",
        "        query=\"premise\", # the column name of the first sentence\n",
        "        response=\"hypothesis\", # the column name of the second sentence\n",
        "        label=\"label\", # the label column name\n",
        "        match_label=1, # the label indicating that query and response have the same semantic meanings.\n",
        "        eval_metric='auc', # the evaluation metric\n",
        "    )\n",
        "\n",
        "# Fit the model\n",
        "predictor.fit(\n",
        "    train_data=snli_train,\n",
        "    time_limit=180,\n",
        ")"
      ]
    },
    {
      "cell_type": "markdown",
      "id": "ff2bcd53",
      "metadata": {
        "id": "ff2bcd53"
      },
      "source": [
        "## Evaluate on Test Dataset\n",
        "You can evaluate the macther on the test dataset to see how it performs with the roc_auc score:"
      ]
    },
    {
      "cell_type": "code",
      "execution_count": 4,
      "id": "08319098",
      "metadata": {
        "id": "08319098"
      },
      "outputs": [
        {
          "data": {
            "application/vnd.jupyter.widget-view+json": {
              "model_id": "169603a89ce94830958d44c3ad54a2cd",
              "version_major": 2,
              "version_minor": 0
            },
            "text/plain": [
              "Predicting: |          | 0/? [00:00<?, ?it/s]"
            ]
          },
          "metadata": {},
          "output_type": "display_data"
        },
        {
          "name": "stdout",
          "output_type": "stream",
          "text": [
            "evaluation score:  {'roc_auc': 0.8979370340855474}\n"
          ]
        }
      ],
      "source": [
        "score = predictor.evaluate(snli_test)\n",
        "print(\"evaluation score: \", score)"
      ]
    },
    {
      "cell_type": "markdown",
      "id": "afcb14db",
      "metadata": {
        "id": "afcb14db"
      },
      "source": [
        "## Predict on a New Sentence Pair\n",
        "We create a new sentence pair with similar meaning (expected to be predicted as $1$) and make predictions using the trained model."
      ]
    },
    {
      "cell_type": "code",
      "execution_count": 5,
      "id": "0282cff8",
      "metadata": {
        "id": "0282cff8"
      },
      "outputs": [
        {
          "data": {
            "application/vnd.jupyter.widget-view+json": {
              "model_id": "b0739332835c49669044defe8fa1f2f4",
              "version_major": 2,
              "version_minor": 0
            },
            "text/plain": [
              "Predicting: |          | 0/? [00:00<?, ?it/s]"
            ]
          },
          "metadata": {},
          "output_type": "display_data"
        },
        {
          "name": "stdout",
          "output_type": "stream",
          "text": [
            "Predicted entities: 1\n"
          ]
        }
      ],
      "source": [
        "pred_data = pd.DataFrame.from_dict({\"premise\":[\"The teacher gave his speech to an empty room.\"],\n",
        "                                    \"hypothesis\":[\"There was almost nobody when the professor was talking.\"]})\n",
        "\n",
        "predictions = predictor.predict(pred_data)\n",
        "print('Predicted entities:', predictions[0])"
      ]
    },
    {
      "cell_type": "markdown",
      "id": "23e3914d",
      "metadata": {
        "id": "23e3914d"
      },
      "source": [
        "## Predict Matching Probabilities\n",
        "We can also compute the matching probabilities of sentence pairs."
      ]
    },
    {
      "cell_type": "code",
      "execution_count": 6,
      "id": "c4cc5ce9",
      "metadata": {
        "id": "c4cc5ce9"
      },
      "outputs": [
        {
          "data": {
            "application/vnd.jupyter.widget-view+json": {
              "model_id": "007621eccee449078e6bdacb44fd003c",
              "version_major": 2,
              "version_minor": 0
            },
            "text/plain": [
              "Predicting: |          | 0/? [00:00<?, ?it/s]"
            ]
          },
          "metadata": {},
          "output_type": "display_data"
        },
        {
          "name": "stdout",
          "output_type": "stream",
          "text": [
            "          0         1\n",
            "0  0.207888  0.792112\n"
          ]
        }
      ],
      "source": [
        "probabilities = predictor.predict_proba(pred_data)\n",
        "print(probabilities)"
      ]
    },
    {
      "cell_type": "markdown",
      "id": "74df0af2",
      "metadata": {
        "id": "74df0af2"
      },
      "source": [
        "## Extract Embeddings\n",
        "Moreover, we support extracting embeddings separately for two sentence groups."
      ]
    },
    {
      "cell_type": "code",
      "execution_count": 7,
      "id": "2d2db12c",
      "metadata": {
        "id": "2d2db12c"
      },
      "outputs": [
        {
          "data": {
            "application/vnd.jupyter.widget-view+json": {
              "model_id": "3e23f1a4632845159e325681692d538c",
              "version_major": 2,
              "version_minor": 0
            },
            "text/plain": [
              "Predicting: |          | 0/? [00:00<?, ?it/s]"
            ]
          },
          "metadata": {},
          "output_type": "display_data"
        },
        {
          "name": "stdout",
          "output_type": "stream",
          "text": [
            "(1, 384)\n"
          ]
        },
        {
          "data": {
            "application/vnd.jupyter.widget-view+json": {
              "model_id": "844e608236924e89855f750caaf1d0c8",
              "version_major": 2,
              "version_minor": 0
            },
            "text/plain": [
              "Predicting: |          | 0/? [00:00<?, ?it/s]"
            ]
          },
          "metadata": {},
          "output_type": "display_data"
        },
        {
          "name": "stdout",
          "output_type": "stream",
          "text": [
            "(1, 384)\n"
          ]
        }
      ],
      "source": [
        "embeddings_1 = predictor.extract_embedding({\"premise\":[\"The teacher gave his speech to an empty room.\"]})\n",
        "print(embeddings_1.shape)\n",
        "embeddings_2 = predictor.extract_embedding({\"hypothesis\":[\"There was almost nobody when the professor was talking.\"]})\n",
        "print(embeddings_2.shape)"
      ]
    },
    {
      "cell_type": "markdown",
      "id": "7301438a",
      "metadata": {
        "id": "7301438a"
      },
      "source": [
        "## Other Examples\n",
        "\n",
        "You may go to [AutoMM Examples](https://github.com/autogluon/autogluon/tree/master/examples/automm) to explore other examples about AutoMM.\n",
        "\n",
        "\n",
        "## Customization\n",
        "\n",
        "To learn how to customize AutoMM, please refer to [Customize AutoMM](../advanced_topics/customization.ipynb)."
      ]
    }
  ],
  "metadata": {
    "colab": {
      "provenance": []
    },
    "kernelspec": {
      "display_name": "Python 3",
      "language": "python",
      "name": "python3"
    },
    "language_info": {
      "codemirror_mode": {
        "name": "ipython",
        "version": 3
      },
      "file_extension": ".py",
      "mimetype": "text/x-python",
      "name": "python",
      "nbconvert_exporter": "python",
      "pygments_lexer": "ipython3",
      "version": "3.10.11"
    }
  },
  "nbformat": 4,
  "nbformat_minor": 5
}
